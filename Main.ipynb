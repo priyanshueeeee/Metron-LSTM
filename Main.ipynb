{
  "cells": [
    {
      "cell_type": "markdown",
      "metadata": {
        "id": "p77fzlFtQ-oq"
      },
      "source": [
        "## Importing Libraries"
      ]
    },
    {
      "cell_type": "code",
      "execution_count": 1,
      "metadata": {
        "id": "SSXeiQjzRAeJ"
      },
      "outputs": [],
      "source": [
        "import pandas as pd\n",
        "import numpy as np\n",
        "import tensorflow as tf\n",
        "import matplotlib.pyplot as plt\n",
        "from tensorflow.keras.models import Sequential\n",
        "from tensorflow.keras.layers import LSTM, Dense, Dropout"
      ]
    },
    {
      "cell_type": "markdown",
      "metadata": {
        "id": "QZsvglQzQsFY"
      },
      "source": [
        "## Data Preprocessing"
      ]
    },
    {
      "cell_type": "markdown",
      "metadata": {
        "id": "UOxIjWEiVMvm"
      },
      "source": [
        "### Importing The Dataset"
      ]
    },
    {
      "cell_type": "code",
      "execution_count": 2,
      "metadata": {
        "id": "YBj8hAkBQfM7"
      },
      "outputs": [
        {
          "data": {
            "text/html": [
              "<div>\n",
              "<style scoped>\n",
              "    .dataframe tbody tr th:only-of-type {\n",
              "        vertical-align: middle;\n",
              "    }\n",
              "\n",
              "    .dataframe tbody tr th {\n",
              "        vertical-align: top;\n",
              "    }\n",
              "\n",
              "    .dataframe thead th {\n",
              "        text-align: right;\n",
              "    }\n",
              "</style>\n",
              "<table border=\"1\" class=\"dataframe\">\n",
              "  <thead>\n",
              "    <tr style=\"text-align: right;\">\n",
              "      <th></th>\n",
              "      <th>Date</th>\n",
              "      <th>CDX.NA.HY</th>\n",
              "      <th>CDX.NA.IG</th>\n",
              "      <th>SPOT</th>\n",
              "      <th>VALUE</th>\n",
              "      <th>Vol</th>\n",
              "      <th>EQU</th>\n",
              "    </tr>\n",
              "  </thead>\n",
              "  <tbody>\n",
              "    <tr>\n",
              "      <th>0</th>\n",
              "      <td>01/17/2020</td>\n",
              "      <td>109.630</td>\n",
              "      <td>44.235</td>\n",
              "      <td>1.6195</td>\n",
              "      <td>1.657563</td>\n",
              "      <td>12.10</td>\n",
              "      <td>3329.62</td>\n",
              "    </tr>\n",
              "    <tr>\n",
              "      <th>1</th>\n",
              "      <td>01/16/2020</td>\n",
              "      <td>109.599</td>\n",
              "      <td>44.176</td>\n",
              "      <td>1.6247</td>\n",
              "      <td>1.656338</td>\n",
              "      <td>12.32</td>\n",
              "      <td>3316.81</td>\n",
              "    </tr>\n",
              "    <tr>\n",
              "      <th>2</th>\n",
              "      <td>01/15/2020</td>\n",
              "      <td>109.515</td>\n",
              "      <td>44.909</td>\n",
              "      <td>1.5985</td>\n",
              "      <td>1.639625</td>\n",
              "      <td>12.42</td>\n",
              "      <td>3289.29</td>\n",
              "    </tr>\n",
              "    <tr>\n",
              "      <th>3</th>\n",
              "      <td>01/14/2020</td>\n",
              "      <td>109.539</td>\n",
              "      <td>44.897</td>\n",
              "      <td>1.6199</td>\n",
              "      <td>1.660338</td>\n",
              "      <td>12.39</td>\n",
              "      <td>3283.15</td>\n",
              "    </tr>\n",
              "    <tr>\n",
              "      <th>4</th>\n",
              "      <td>01/13/2020</td>\n",
              "      <td>109.651</td>\n",
              "      <td>44.350</td>\n",
              "      <td>1.6495</td>\n",
              "      <td>1.682400</td>\n",
              "      <td>12.32</td>\n",
              "      <td>3288.13</td>\n",
              "    </tr>\n",
              "    <tr>\n",
              "      <th>...</th>\n",
              "      <td>...</td>\n",
              "      <td>...</td>\n",
              "      <td>...</td>\n",
              "      <td>...</td>\n",
              "      <td>...</td>\n",
              "      <td>...</td>\n",
              "      <td>...</td>\n",
              "    </tr>\n",
              "    <tr>\n",
              "      <th>2037</th>\n",
              "      <td>11/18/2011</td>\n",
              "      <td>89.997</td>\n",
              "      <td>136.500</td>\n",
              "      <td>0.9222</td>\n",
              "      <td>0.927775</td>\n",
              "      <td>32.00</td>\n",
              "      <td>1215.65</td>\n",
              "    </tr>\n",
              "    <tr>\n",
              "      <th>2038</th>\n",
              "      <td>11/17/2011</td>\n",
              "      <td>89.948</td>\n",
              "      <td>137.084</td>\n",
              "      <td>0.8611</td>\n",
              "      <td>0.898887</td>\n",
              "      <td>34.51</td>\n",
              "      <td>1216.13</td>\n",
              "    </tr>\n",
              "    <tr>\n",
              "      <th>2039</th>\n",
              "      <td>11/16/2011</td>\n",
              "      <td>90.521</td>\n",
              "      <td>135.375</td>\n",
              "      <td>0.8740</td>\n",
              "      <td>0.901250</td>\n",
              "      <td>33.51</td>\n",
              "      <td>1236.91</td>\n",
              "    </tr>\n",
              "    <tr>\n",
              "      <th>2040</th>\n",
              "      <td>11/15/2011</td>\n",
              "      <td>91.084</td>\n",
              "      <td>132.959</td>\n",
              "      <td>0.9031</td>\n",
              "      <td>0.915663</td>\n",
              "      <td>31.22</td>\n",
              "      <td>1257.81</td>\n",
              "    </tr>\n",
              "    <tr>\n",
              "      <th>2041</th>\n",
              "      <td>11/14/2011</td>\n",
              "      <td>91.429</td>\n",
              "      <td>130.125</td>\n",
              "      <td>0.9031</td>\n",
              "      <td>0.914600</td>\n",
              "      <td>31.13</td>\n",
              "      <td>1251.78</td>\n",
              "    </tr>\n",
              "  </tbody>\n",
              "</table>\n",
              "<p>2042 rows × 7 columns</p>\n",
              "</div>"
            ],
            "text/plain": [
              "            Date  CDX.NA.HY  CDX.NA.IG    SPOT     VALUE    Vol      EQU\n",
              "0     01/17/2020    109.630     44.235  1.6195  1.657563  12.10  3329.62\n",
              "1     01/16/2020    109.599     44.176  1.6247  1.656338  12.32  3316.81\n",
              "2     01/15/2020    109.515     44.909  1.5985  1.639625  12.42  3289.29\n",
              "3     01/14/2020    109.539     44.897  1.6199  1.660338  12.39  3283.15\n",
              "4     01/13/2020    109.651     44.350  1.6495  1.682400  12.32  3288.13\n",
              "...          ...        ...        ...     ...       ...    ...      ...\n",
              "2037  11/18/2011     89.997    136.500  0.9222  0.927775  32.00  1215.65\n",
              "2038  11/17/2011     89.948    137.084  0.8611  0.898887  34.51  1216.13\n",
              "2039  11/16/2011     90.521    135.375  0.8740  0.901250  33.51  1236.91\n",
              "2040  11/15/2011     91.084    132.959  0.9031  0.915663  31.22  1257.81\n",
              "2041  11/14/2011     91.429    130.125  0.9031  0.914600  31.13  1251.78\n",
              "\n",
              "[2042 rows x 7 columns]"
            ]
          },
          "execution_count": 2,
          "metadata": {},
          "output_type": "execute_result"
        }
      ],
      "source": [
        "dataset_train = pd.read_csv('Dataset.csv')\n",
        "dataset_train"
      ]
    },
    {
      "cell_type": "code",
      "execution_count": 9,
      "metadata": {},
      "outputs": [
        {
          "data": {
            "text/plain": [
              "array([[1.0963000e+02, 4.4235000e+01, 1.6195000e+00, 1.6575625e+00,\n",
              "        1.2100000e+01, 3.3296200e+03],\n",
              "       [1.0959900e+02, 4.4176000e+01, 1.6247000e+00, 1.6563375e+00,\n",
              "        1.2320000e+01, 3.3168100e+03],\n",
              "       [1.0951500e+02, 4.4909000e+01, 1.5985000e+00, 1.6396250e+00,\n",
              "        1.2420000e+01, 3.2892900e+03],\n",
              "       ...,\n",
              "       [9.0521000e+01, 1.3537500e+02, 8.7400000e-01, 9.0125000e-01,\n",
              "        3.3510000e+01, 1.2369100e+03],\n",
              "       [9.1084000e+01, 1.3295900e+02, 9.0310000e-01, 9.1566250e-01,\n",
              "        3.1220000e+01, 1.2578100e+03],\n",
              "       [9.1429000e+01, 1.3012500e+02, 9.0310000e-01, 9.1460000e-01,\n",
              "        3.1130000e+01, 1.2517800e+03]])"
            ]
          },
          "execution_count": 9,
          "metadata": {},
          "output_type": "execute_result"
        }
      ],
      "source": [
        "data_wo_dates = dataset_train.iloc[:, 1:].values #Dataset without Dates, as 'Dates' is a string\n",
        "data_wo_dates"
      ]
    },
    {
      "cell_type": "markdown",
      "metadata": {
        "id": "H7fSTkXhVGeW"
      },
      "source": [
        "### Normalizing The Given Data"
      ]
    },
    {
      "cell_type": "code",
      "execution_count": 11,
      "metadata": {
        "id": "SNh7qGQ2QuXz"
      },
      "outputs": [
        {
          "data": {
            "text/plain": [
              "array([[0.98961597, 0.00197172, 0.4224794 , 0.41593938, 0.09367089,\n",
              "        1.        ],\n",
              "       [0.98822845, 0.00140425, 0.42451942, 0.41543179, 0.10063291,\n",
              "        0.99409936],\n",
              "       [0.98446871, 0.00845436, 0.41424088, 0.4085068 , 0.10379747,\n",
              "        0.98142288],\n",
              "       ...,\n",
              "       [0.13432101, 0.87857074, 0.13001177, 0.10255401, 0.77120253,\n",
              "        0.03603952],\n",
              "       [0.15952019, 0.85533327, 0.14142801, 0.10852597, 0.69873418,\n",
              "        0.04566664],\n",
              "       [0.17496196, 0.82807541, 0.14142801, 0.10808571, 0.69588608,\n",
              "        0.04288906]])"
            ]
          },
          "execution_count": 11,
          "metadata": {},
          "output_type": "execute_result"
        }
      ],
      "source": [
        "from sklearn.preprocessing import MinMaxScaler\n",
        "mms = MinMaxScaler(feature_range = (0, 1))\n",
        "training_set_scaled = mms.fit_transform(data_wo_dates)\n",
        "training_set_scaled"
      ]
    },
    {
      "cell_type": "markdown",
      "metadata": {
        "id": "-uA2bC-9Rm9O"
      },
      "source": [
        "## Building The Metron-LSTM Model\n"
      ]
    },
    {
      "cell_type": "code",
      "execution_count": null,
      "metadata": {
        "id": "0N9mOp5CRs1b"
      },
      "outputs": [],
      "source": []
    },
    {
      "cell_type": "markdown",
      "metadata": {
        "id": "n0rTgL1nR7xf"
      },
      "source": [
        "## Backtesting The Strategy"
      ]
    },
    {
      "cell_type": "code",
      "execution_count": null,
      "metadata": {
        "id": "XBZDJHffRvCC"
      },
      "outputs": [],
      "source": []
    },
    {
      "cell_type": "markdown",
      "metadata": {
        "id": "vuwhKoHJRukb"
      },
      "source": [
        "## Perfomance Evaluation"
      ]
    },
    {
      "cell_type": "markdown",
      "metadata": {
        "id": "MbE9AvQ6SJF9"
      },
      "source": [
        "### RMSE"
      ]
    },
    {
      "cell_type": "code",
      "execution_count": null,
      "metadata": {
        "id": "2GZ9Zr7MSDo3"
      },
      "outputs": [],
      "source": [
        "from sklearn.metrics import root_mean_squared_error\n",
        "root_mean_squared_error(dataset_train.iloc[].values, dataset_test.iloc[].values)"
      ]
    },
    {
      "cell_type": "markdown",
      "metadata": {
        "id": "jPnMDkb5SeGh"
      },
      "source": [
        "### Diebold-Mariano Test"
      ]
    },
    {
      "cell_type": "markdown",
      "metadata": {
        "id": "FW_PAh_tTqaF"
      },
      "source": [
        "#### LSTM"
      ]
    },
    {
      "cell_type": "code",
      "execution_count": null,
      "metadata": {
        "id": "s_2EnW1TTtNa"
      },
      "outputs": [],
      "source": [
        "rnn = Sequential()\n",
        "rnn.add(LSTM(units=300, activation='relu', return_sequences=True))\n",
        "rnn.add(LSTM(units=300, activation='relu'))\n",
        "rnn.add(Dense(1, activation='linear'))\n",
        "rnn.compile(optimizer='adam', loss='mean_squared_error', batch_size = 64, learning_rate = 0.01, decay = 125)\n",
        "rnn.fit(X_train, y_train, epochs = 250, batch_size = 64)"
      ]
    },
    {
      "cell_type": "markdown",
      "metadata": {
        "id": "rC1xuS73Tuko"
      },
      "source": [
        "#### Metron - LSTM vs LSTM"
      ]
    },
    {
      "cell_type": "code",
      "execution_count": null,
      "metadata": {
        "id": "mf8x2LXySj_I"
      },
      "outputs": [],
      "source": [
        "from arch.bootstrap import MCS\n",
        "\n",
        "# Define the loss differentials between two models\n",
        "loss_diff = model_1_losses - model_2_losses\n",
        "\n",
        "# Perform the DM test\n",
        "dm_test_result = MCS(loss_diff, size=0.05)\n",
        "print(f\"DM Test Result: {dm_test_result}\")"
      ]
    },
    {
      "cell_type": "markdown",
      "metadata": {
        "id": "AHywgLCRT3fh"
      },
      "source": [
        "#### SVM"
      ]
    },
    {
      "cell_type": "code",
      "execution_count": null,
      "metadata": {
        "id": "wNfN5pRRT4rx"
      },
      "outputs": [],
      "source": []
    },
    {
      "cell_type": "markdown",
      "metadata": {
        "id": "mD9Ja9ZMT47a"
      },
      "source": [
        "#### Metron - LSTM vs SVM"
      ]
    },
    {
      "cell_type": "code",
      "execution_count": null,
      "metadata": {
        "id": "vvFQQob-T-89"
      },
      "outputs": [],
      "source": []
    },
    {
      "cell_type": "markdown",
      "metadata": {
        "id": "mDlVSusgSlvV"
      },
      "source": [
        "### Sharpe Ratio"
      ]
    },
    {
      "cell_type": "code",
      "execution_count": null,
      "metadata": {
        "id": "C3DcaHY1Snr7"
      },
      "outputs": [],
      "source": [
        "avg_return = np.mean(strategy_returns)\n",
        "std_dev_return = np.std(strategy_returns)\n",
        "risk_free_rate = 0.01  # Example risk-free rate\n",
        "\n",
        "sharpe_ratio = (avg_return - risk_free_rate) / std_dev_return\n",
        "print(f\"Sharpe Ratio: {sharpe_ratio}\")"
      ]
    },
    {
      "cell_type": "markdown",
      "metadata": {
        "id": "qAa17FgfSoD1"
      },
      "source": [
        "### Maximum Drawdown"
      ]
    },
    {
      "cell_type": "code",
      "execution_count": null,
      "metadata": {
        "id": "RqoPHWMoSqzL"
      },
      "outputs": [],
      "source": [
        "portfolio_value = pd.Series(portfolio_values)\n",
        "peak_value = portfolio_value.cummax()\n",
        "drawdown = (portfolio_value - peak_value) / peak_value\n",
        "max_drawdown = drawdown.min()\n",
        "print(f\"Maximum Drawdown: {max_drawdown}\")"
      ]
    },
    {
      "cell_type": "markdown",
      "metadata": {
        "id": "IgKFTyfbSq_q"
      },
      "source": [
        "### Cumulative Return"
      ]
    },
    {
      "cell_type": "code",
      "execution_count": null,
      "metadata": {
        "id": "8xtrs3pjStXK"
      },
      "outputs": [],
      "source": [
        "initial_value = portfolio_values[0]\n",
        "final_value = portfolio_values[-1]\n",
        "cumulative_return = (final_value / initial_value - 1) * 100\n",
        "print(f\"Cumulative Return: {cumulative_return}%\")"
      ]
    },
    {
      "cell_type": "markdown",
      "metadata": {
        "id": "-ePePwonTR3N"
      },
      "source": [
        "## Visualization"
      ]
    },
    {
      "cell_type": "markdown",
      "metadata": {
        "id": "CFucWr4JTbAw"
      },
      "source": [
        "### Predicted vs Actual CDS Spreads"
      ]
    },
    {
      "cell_type": "code",
      "execution_count": null,
      "metadata": {
        "id": "LbfvGChyTUGk"
      },
      "outputs": [],
      "source": [
        "plt.plot(actual_spreads, label=\"Actual Spreads\")\n",
        "plt.plot(predicted_spreads, label=\"Predicted Spreads\")\n",
        "plt.legend()\n",
        "plt.title(\"Actual vs Predicted CDS Spreads\")\n",
        "plt.show()"
      ]
    },
    {
      "cell_type": "markdown",
      "metadata": {
        "id": "3zfFvmweTcJM"
      },
      "source": [
        "### Portfolio Value Over Time\n"
      ]
    },
    {
      "cell_type": "code",
      "execution_count": null,
      "metadata": {
        "id": "wN4wyUxwTf68"
      },
      "outputs": [],
      "source": [
        "plt.plot(portfolio_values)\n",
        "plt.title(\"Portfolio Value Over Time\")\n",
        "plt.xlabel(\"Time\")\n",
        "plt.ylabel(\"Portfolio Value\")\n",
        "plt.show()"
      ]
    },
    {
      "cell_type": "markdown",
      "metadata": {
        "id": "f4yIZg4mTj1T"
      },
      "source": [
        "### Drawdown Plot"
      ]
    },
    {
      "cell_type": "code",
      "execution_count": null,
      "metadata": {
        "id": "S31hah42Thmf"
      },
      "outputs": [],
      "source": [
        "plt.plot(drawdown)\n",
        "plt.title(\"Drawdown Over Time\")\n",
        "plt.show()"
      ]
    }
  ],
  "metadata": {
    "colab": {
      "provenance": []
    },
    "kernelspec": {
      "display_name": "base",
      "language": "python",
      "name": "python3"
    },
    "language_info": {
      "codemirror_mode": {
        "name": "ipython",
        "version": 3
      },
      "file_extension": ".py",
      "mimetype": "text/x-python",
      "name": "python",
      "nbconvert_exporter": "python",
      "pygments_lexer": "ipython3",
      "version": "3.12.4"
    }
  },
  "nbformat": 4,
  "nbformat_minor": 0
}
