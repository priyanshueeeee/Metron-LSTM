{
  "nbformat": 4,
  "nbformat_minor": 0,
  "metadata": {
    "colab": {
      "provenance": [],
      "gpuType": "V28",
      "include_colab_link": true
    },
    "kernelspec": {
      "name": "python3",
      "display_name": "Python 3"
    },
    "language_info": {
      "name": "python"
    },
    "accelerator": "TPU"
  },
  "cells": [
    {
      "cell_type": "markdown",
      "metadata": {
        "id": "view-in-github",
        "colab_type": "text"
      },
      "source": [
        "<a href=\"https://colab.research.google.com/github/priyanshueeeee/Metron-LSTM/blob/main/Backtesting.ipynb\" target=\"_parent\"><img src=\"https://colab.research.google.com/assets/colab-badge.svg\" alt=\"Open In Colab\"/></a>"
      ]
    },
    {
      "cell_type": "code",
      "execution_count": null,
      "metadata": {
        "id": "KhD4SLY9VrWP"
      },
      "outputs": [],
      "source": [
        "import pandas as pd\n",
        "import numpy as np\n",
        "import tensorflow as tf\n",
        "from tensorflow import keras\n",
        "from tensorflow.keras import layers\n",
        "from keras.models import Sequential\n",
        "from keras.layers import Dense,LSTM,Dropout\n"
      ]
    },
    {
      "cell_type": "code",
      "source": [
        "from google.colab import drive\n",
        "drive.mount('/content/drive')\n",
        "import pandas as pd\n",
        "\n",
        "# Path to your file in Google Drive\n",
        "file_path = '/content/drive/MyDrive/Dataset.csv'\n",
        "\n",
        "# Read the CSV file\n",
        "df = pd.read_csv(file_path)\n"
      ],
      "metadata": {
        "colab": {
          "base_uri": "https://localhost:8080/"
        },
        "id": "y3OmQuhOacle",
        "outputId": "d9b4fee9-e347-46e6-9bc3-7aea060cdafa"
      },
      "execution_count": null,
      "outputs": [
        {
          "output_type": "stream",
          "name": "stdout",
          "text": [
            "Mounted at /content/drive\n"
          ]
        }
      ]
    },
    {
      "cell_type": "code",
      "source": [
        "df.head()\n",
        "df.info()\n",
        "data_wo_dates = df.iloc[:, 1:].values\n",
        "data_wo_dates\n",
        "import numpy as np\n",
        "from tensorflow import keras\n",
        "from tensorflow.keras import layers\n",
        "from keras.models import Sequential\n",
        "from keras.layers import Dense,LSTM,Dropout"
      ],
      "metadata": {
        "id": "Rh3klFDlDnmz",
        "colab": {
          "base_uri": "https://localhost:8080/"
        },
        "outputId": "21d2de18-913f-4b18-8001-1e16111fdb51"
      },
      "execution_count": null,
      "outputs": [
        {
          "output_type": "stream",
          "name": "stdout",
          "text": [
            "<class 'pandas.core.frame.DataFrame'>\n",
            "RangeIndex: 2042 entries, 0 to 2041\n",
            "Data columns (total 7 columns):\n",
            " #   Column     Non-Null Count  Dtype  \n",
            "---  ------     --------------  -----  \n",
            " 0   Date       2042 non-null   object \n",
            " 1   CDX.NA.HY  2042 non-null   float64\n",
            " 2   CDX.NA.IG  2042 non-null   float64\n",
            " 3   SPOT       2042 non-null   float64\n",
            " 4   VALUE      2042 non-null   float64\n",
            " 5   Vol        2042 non-null   float64\n",
            " 6   EQU        2042 non-null   float64\n",
            "dtypes: float64(6), object(1)\n",
            "memory usage: 111.8+ KB\n"
          ]
        }
      ]
    },
    {
      "cell_type": "code",
      "source": [
        "df.head()"
      ],
      "metadata": {
        "id": "Nx7zB96hD9zC",
        "colab": {
          "base_uri": "https://localhost:8080/",
          "height": 206
        },
        "outputId": "0644394f-174a-4cee-8c21-a93ebbc130e5"
      },
      "execution_count": null,
      "outputs": [
        {
          "output_type": "execute_result",
          "data": {
            "text/plain": [
              "         Date  CDX.NA.HY  CDX.NA.IG    SPOT     VALUE    Vol      EQU\n",
              "0  01/17/2020    109.630     44.235  1.6195  1.657563  12.10  3329.62\n",
              "1  01/16/2020    109.599     44.176  1.6247  1.656338  12.32  3316.81\n",
              "2  01/15/2020    109.515     44.909  1.5985  1.639625  12.42  3289.29\n",
              "3  01/14/2020    109.539     44.897  1.6199  1.660338  12.39  3283.15\n",
              "4  01/13/2020    109.651     44.350  1.6495  1.682400  12.32  3288.13"
            ],
            "text/html": [
              "\n",
              "  <div id=\"df-3c256dc0-40e5-4f00-a796-93b0cae43d84\" class=\"colab-df-container\">\n",
              "    <div>\n",
              "<style scoped>\n",
              "    .dataframe tbody tr th:only-of-type {\n",
              "        vertical-align: middle;\n",
              "    }\n",
              "\n",
              "    .dataframe tbody tr th {\n",
              "        vertical-align: top;\n",
              "    }\n",
              "\n",
              "    .dataframe thead th {\n",
              "        text-align: right;\n",
              "    }\n",
              "</style>\n",
              "<table border=\"1\" class=\"dataframe\">\n",
              "  <thead>\n",
              "    <tr style=\"text-align: right;\">\n",
              "      <th></th>\n",
              "      <th>Date</th>\n",
              "      <th>CDX.NA.HY</th>\n",
              "      <th>CDX.NA.IG</th>\n",
              "      <th>SPOT</th>\n",
              "      <th>VALUE</th>\n",
              "      <th>Vol</th>\n",
              "      <th>EQU</th>\n",
              "    </tr>\n",
              "  </thead>\n",
              "  <tbody>\n",
              "    <tr>\n",
              "      <th>0</th>\n",
              "      <td>01/17/2020</td>\n",
              "      <td>109.630</td>\n",
              "      <td>44.235</td>\n",
              "      <td>1.6195</td>\n",
              "      <td>1.657563</td>\n",
              "      <td>12.10</td>\n",
              "      <td>3329.62</td>\n",
              "    </tr>\n",
              "    <tr>\n",
              "      <th>1</th>\n",
              "      <td>01/16/2020</td>\n",
              "      <td>109.599</td>\n",
              "      <td>44.176</td>\n",
              "      <td>1.6247</td>\n",
              "      <td>1.656338</td>\n",
              "      <td>12.32</td>\n",
              "      <td>3316.81</td>\n",
              "    </tr>\n",
              "    <tr>\n",
              "      <th>2</th>\n",
              "      <td>01/15/2020</td>\n",
              "      <td>109.515</td>\n",
              "      <td>44.909</td>\n",
              "      <td>1.5985</td>\n",
              "      <td>1.639625</td>\n",
              "      <td>12.42</td>\n",
              "      <td>3289.29</td>\n",
              "    </tr>\n",
              "    <tr>\n",
              "      <th>3</th>\n",
              "      <td>01/14/2020</td>\n",
              "      <td>109.539</td>\n",
              "      <td>44.897</td>\n",
              "      <td>1.6199</td>\n",
              "      <td>1.660338</td>\n",
              "      <td>12.39</td>\n",
              "      <td>3283.15</td>\n",
              "    </tr>\n",
              "    <tr>\n",
              "      <th>4</th>\n",
              "      <td>01/13/2020</td>\n",
              "      <td>109.651</td>\n",
              "      <td>44.350</td>\n",
              "      <td>1.6495</td>\n",
              "      <td>1.682400</td>\n",
              "      <td>12.32</td>\n",
              "      <td>3288.13</td>\n",
              "    </tr>\n",
              "  </tbody>\n",
              "</table>\n",
              "</div>\n",
              "    <div class=\"colab-df-buttons\">\n",
              "\n",
              "  <div class=\"colab-df-container\">\n",
              "    <button class=\"colab-df-convert\" onclick=\"convertToInteractive('df-3c256dc0-40e5-4f00-a796-93b0cae43d84')\"\n",
              "            title=\"Convert this dataframe to an interactive table.\"\n",
              "            style=\"display:none;\">\n",
              "\n",
              "  <svg xmlns=\"http://www.w3.org/2000/svg\" height=\"24px\" viewBox=\"0 -960 960 960\">\n",
              "    <path d=\"M120-120v-720h720v720H120Zm60-500h600v-160H180v160Zm220 220h160v-160H400v160Zm0 220h160v-160H400v160ZM180-400h160v-160H180v160Zm440 0h160v-160H620v160ZM180-180h160v-160H180v160Zm440 0h160v-160H620v160Z\"/>\n",
              "  </svg>\n",
              "    </button>\n",
              "\n",
              "  <style>\n",
              "    .colab-df-container {\n",
              "      display:flex;\n",
              "      gap: 12px;\n",
              "    }\n",
              "\n",
              "    .colab-df-convert {\n",
              "      background-color: #E8F0FE;\n",
              "      border: none;\n",
              "      border-radius: 50%;\n",
              "      cursor: pointer;\n",
              "      display: none;\n",
              "      fill: #1967D2;\n",
              "      height: 32px;\n",
              "      padding: 0 0 0 0;\n",
              "      width: 32px;\n",
              "    }\n",
              "\n",
              "    .colab-df-convert:hover {\n",
              "      background-color: #E2EBFA;\n",
              "      box-shadow: 0px 1px 2px rgba(60, 64, 67, 0.3), 0px 1px 3px 1px rgba(60, 64, 67, 0.15);\n",
              "      fill: #174EA6;\n",
              "    }\n",
              "\n",
              "    .colab-df-buttons div {\n",
              "      margin-bottom: 4px;\n",
              "    }\n",
              "\n",
              "    [theme=dark] .colab-df-convert {\n",
              "      background-color: #3B4455;\n",
              "      fill: #D2E3FC;\n",
              "    }\n",
              "\n",
              "    [theme=dark] .colab-df-convert:hover {\n",
              "      background-color: #434B5C;\n",
              "      box-shadow: 0px 1px 3px 1px rgba(0, 0, 0, 0.15);\n",
              "      filter: drop-shadow(0px 1px 2px rgba(0, 0, 0, 0.3));\n",
              "      fill: #FFFFFF;\n",
              "    }\n",
              "  </style>\n",
              "\n",
              "    <script>\n",
              "      const buttonEl =\n",
              "        document.querySelector('#df-3c256dc0-40e5-4f00-a796-93b0cae43d84 button.colab-df-convert');\n",
              "      buttonEl.style.display =\n",
              "        google.colab.kernel.accessAllowed ? 'block' : 'none';\n",
              "\n",
              "      async function convertToInteractive(key) {\n",
              "        const element = document.querySelector('#df-3c256dc0-40e5-4f00-a796-93b0cae43d84');\n",
              "        const dataTable =\n",
              "          await google.colab.kernel.invokeFunction('convertToInteractive',\n",
              "                                                    [key], {});\n",
              "        if (!dataTable) return;\n",
              "\n",
              "        const docLinkHtml = 'Like what you see? Visit the ' +\n",
              "          '<a target=\"_blank\" href=https://colab.research.google.com/notebooks/data_table.ipynb>data table notebook</a>'\n",
              "          + ' to learn more about interactive tables.';\n",
              "        element.innerHTML = '';\n",
              "        dataTable['output_type'] = 'display_data';\n",
              "        await google.colab.output.renderOutput(dataTable, element);\n",
              "        const docLink = document.createElement('div');\n",
              "        docLink.innerHTML = docLinkHtml;\n",
              "        element.appendChild(docLink);\n",
              "      }\n",
              "    </script>\n",
              "  </div>\n",
              "\n",
              "\n",
              "<div id=\"df-f3ce7ecc-44e0-414f-bae9-8917ff4996eb\">\n",
              "  <button class=\"colab-df-quickchart\" onclick=\"quickchart('df-f3ce7ecc-44e0-414f-bae9-8917ff4996eb')\"\n",
              "            title=\"Suggest charts\"\n",
              "            style=\"display:none;\">\n",
              "\n",
              "<svg xmlns=\"http://www.w3.org/2000/svg\" height=\"24px\"viewBox=\"0 0 24 24\"\n",
              "     width=\"24px\">\n",
              "    <g>\n",
              "        <path d=\"M19 3H5c-1.1 0-2 .9-2 2v14c0 1.1.9 2 2 2h14c1.1 0 2-.9 2-2V5c0-1.1-.9-2-2-2zM9 17H7v-7h2v7zm4 0h-2V7h2v10zm4 0h-2v-4h2v4z\"/>\n",
              "    </g>\n",
              "</svg>\n",
              "  </button>\n",
              "\n",
              "<style>\n",
              "  .colab-df-quickchart {\n",
              "      --bg-color: #E8F0FE;\n",
              "      --fill-color: #1967D2;\n",
              "      --hover-bg-color: #E2EBFA;\n",
              "      --hover-fill-color: #174EA6;\n",
              "      --disabled-fill-color: #AAA;\n",
              "      --disabled-bg-color: #DDD;\n",
              "  }\n",
              "\n",
              "  [theme=dark] .colab-df-quickchart {\n",
              "      --bg-color: #3B4455;\n",
              "      --fill-color: #D2E3FC;\n",
              "      --hover-bg-color: #434B5C;\n",
              "      --hover-fill-color: #FFFFFF;\n",
              "      --disabled-bg-color: #3B4455;\n",
              "      --disabled-fill-color: #666;\n",
              "  }\n",
              "\n",
              "  .colab-df-quickchart {\n",
              "    background-color: var(--bg-color);\n",
              "    border: none;\n",
              "    border-radius: 50%;\n",
              "    cursor: pointer;\n",
              "    display: none;\n",
              "    fill: var(--fill-color);\n",
              "    height: 32px;\n",
              "    padding: 0;\n",
              "    width: 32px;\n",
              "  }\n",
              "\n",
              "  .colab-df-quickchart:hover {\n",
              "    background-color: var(--hover-bg-color);\n",
              "    box-shadow: 0 1px 2px rgba(60, 64, 67, 0.3), 0 1px 3px 1px rgba(60, 64, 67, 0.15);\n",
              "    fill: var(--button-hover-fill-color);\n",
              "  }\n",
              "\n",
              "  .colab-df-quickchart-complete:disabled,\n",
              "  .colab-df-quickchart-complete:disabled:hover {\n",
              "    background-color: var(--disabled-bg-color);\n",
              "    fill: var(--disabled-fill-color);\n",
              "    box-shadow: none;\n",
              "  }\n",
              "\n",
              "  .colab-df-spinner {\n",
              "    border: 2px solid var(--fill-color);\n",
              "    border-color: transparent;\n",
              "    border-bottom-color: var(--fill-color);\n",
              "    animation:\n",
              "      spin 1s steps(1) infinite;\n",
              "  }\n",
              "\n",
              "  @keyframes spin {\n",
              "    0% {\n",
              "      border-color: transparent;\n",
              "      border-bottom-color: var(--fill-color);\n",
              "      border-left-color: var(--fill-color);\n",
              "    }\n",
              "    20% {\n",
              "      border-color: transparent;\n",
              "      border-left-color: var(--fill-color);\n",
              "      border-top-color: var(--fill-color);\n",
              "    }\n",
              "    30% {\n",
              "      border-color: transparent;\n",
              "      border-left-color: var(--fill-color);\n",
              "      border-top-color: var(--fill-color);\n",
              "      border-right-color: var(--fill-color);\n",
              "    }\n",
              "    40% {\n",
              "      border-color: transparent;\n",
              "      border-right-color: var(--fill-color);\n",
              "      border-top-color: var(--fill-color);\n",
              "    }\n",
              "    60% {\n",
              "      border-color: transparent;\n",
              "      border-right-color: var(--fill-color);\n",
              "    }\n",
              "    80% {\n",
              "      border-color: transparent;\n",
              "      border-right-color: var(--fill-color);\n",
              "      border-bottom-color: var(--fill-color);\n",
              "    }\n",
              "    90% {\n",
              "      border-color: transparent;\n",
              "      border-bottom-color: var(--fill-color);\n",
              "    }\n",
              "  }\n",
              "</style>\n",
              "\n",
              "  <script>\n",
              "    async function quickchart(key) {\n",
              "      const quickchartButtonEl =\n",
              "        document.querySelector('#' + key + ' button');\n",
              "      quickchartButtonEl.disabled = true;  // To prevent multiple clicks.\n",
              "      quickchartButtonEl.classList.add('colab-df-spinner');\n",
              "      try {\n",
              "        const charts = await google.colab.kernel.invokeFunction(\n",
              "            'suggestCharts', [key], {});\n",
              "      } catch (error) {\n",
              "        console.error('Error during call to suggestCharts:', error);\n",
              "      }\n",
              "      quickchartButtonEl.classList.remove('colab-df-spinner');\n",
              "      quickchartButtonEl.classList.add('colab-df-quickchart-complete');\n",
              "    }\n",
              "    (() => {\n",
              "      let quickchartButtonEl =\n",
              "        document.querySelector('#df-f3ce7ecc-44e0-414f-bae9-8917ff4996eb button');\n",
              "      quickchartButtonEl.style.display =\n",
              "        google.colab.kernel.accessAllowed ? 'block' : 'none';\n",
              "    })();\n",
              "  </script>\n",
              "</div>\n",
              "\n",
              "    </div>\n",
              "  </div>\n"
            ],
            "application/vnd.google.colaboratory.intrinsic+json": {
              "type": "dataframe",
              "variable_name": "df",
              "summary": "{\n  \"name\": \"df\",\n  \"rows\": 2042,\n  \"fields\": [\n    {\n      \"column\": \"Date\",\n      \"properties\": {\n        \"dtype\": \"object\",\n        \"num_unique_values\": 2042,\n        \"samples\": [\n          \"10/09/2014\",\n          \"01/19/2016\",\n          \"10/07/2015\"\n        ],\n        \"semantic_type\": \"\",\n        \"description\": \"\"\n      }\n    },\n    {\n      \"column\": \"CDX.NA.HY\",\n      \"properties\": {\n        \"dtype\": \"number\",\n        \"std\": 3.936767063171292,\n        \"min\": 87.52,\n        \"max\": 109.862,\n        \"num_unique_values\": 1795,\n        \"samples\": [\n          109.13,\n          105.651,\n          102.524\n        ],\n        \"semantic_type\": \"\",\n        \"description\": \"\"\n      }\n    },\n    {\n      \"column\": \"CDX.NA.IG\",\n      \"properties\": {\n        \"dtype\": \"number\",\n        \"std\": 17.97521667329193,\n        \"min\": 44.03,\n        \"max\": 148.0,\n        \"num_unique_values\": 1833,\n        \"samples\": [\n          99.283,\n          73.125,\n          63.705\n        ],\n        \"semantic_type\": \"\",\n        \"description\": \"\"\n      }\n    },\n    {\n      \"column\": \"SPOT\",\n      \"properties\": {\n        \"dtype\": \"number\",\n        \"std\": 0.605890163980678,\n        \"min\": 0.5426,\n        \"max\": 3.0916,\n        \"num_unique_values\": 1831,\n        \"samples\": [\n          2.5475,\n          1.5081,\n          0.8814\n        ],\n        \"semantic_type\": \"\",\n        \"description\": \"\"\n      }\n    },\n    {\n      \"column\": \"VALUE\",\n      \"properties\": {\n        \"dtype\": \"number\",\n        \"std\": 0.5997792408014402,\n        \"min\": 0.65375,\n        \"max\": 3.0671125,\n        \"num_unique_values\": 2020,\n        \"samples\": [\n          2.0173875,\n          2.2551,\n          2.6870875\n        ],\n        \"semantic_type\": \"\",\n        \"description\": \"\"\n      }\n    },\n    {\n      \"column\": \"Vol\",\n      \"properties\": {\n        \"dtype\": \"number\",\n        \"std\": 4.11379775752596,\n        \"min\": 9.14,\n        \"max\": 40.74,\n        \"num_unique_values\": 1032,\n        \"samples\": [\n          17.87,\n          13.95,\n          13.35\n        ],\n        \"semantic_type\": \"\",\n        \"description\": \"\"\n      }\n    },\n    {\n      \"column\": \"EQU\",\n      \"properties\": {\n        \"dtype\": \"number\",\n        \"std\": 516.4669846663745,\n        \"min\": 1158.67,\n        \"max\": 3329.62,\n        \"num_unique_values\": 2030,\n        \"samples\": [\n          1969.95,\n          1939.38,\n          2170.84\n        ],\n        \"semantic_type\": \"\",\n        \"description\": \"\"\n      }\n    }\n  ]\n}"
            }
          },
          "metadata": {},
          "execution_count": 4
        }
      ]
    },
    {
      "cell_type": "code",
      "source": [
        "import numpy as np\n",
        "\n",
        "def split_dataset(dataset):\n",
        "    \"\"\"\n",
        "    Splits the dataset into X (all columns except the first) and Y (the first column).\n",
        "\n",
        "    Args:\n",
        "        dataset: The input dataset (NumPy array or list).\n",
        "\n",
        "    Returns:\n",
        "        X: The features (all columns except the first).\n",
        "        Y: The target variable (the first column).\n",
        "    \"\"\"\n",
        "    X = dataset[:, 1:]\n",
        "    Y = dataset[:, 0]\n",
        "    return X, Y"
      ],
      "metadata": {
        "id": "a2RIu46lE4Il"
      },
      "execution_count": null,
      "outputs": []
    },
    {
      "cell_type": "code",
      "source": [
        "import numpy as np\n",
        "\n",
        "def create_dataset(X, Y, look_back=1, horizon=1):\n",
        "    \"\"\"\n",
        "    Creates a dataset for time series forecasting with lookback and horizon.\n",
        "\n",
        "    Args:\n",
        "        X: The input features (already split).\n",
        "        Y: The target variable (already split).\n",
        "        look_back: The number of past time steps to consider.\n",
        "        horizon: The number of future time steps to predict.\n",
        "\n",
        "    Returns:\n",
        "        X_dataset: The input dataset for forecasting.\n",
        "        Y_dataset: The target dataset for forecasting.\n",
        "    \"\"\"\n",
        "    X_dataset, Y_dataset = [], []\n",
        "    for i in range(len(X) - look_back - horizon + 1):\n",
        "        X_dataset.append(X[i:(i + look_back)])\n",
        "        Y_dataset.append(Y[i + look_back: i + look_back + horizon])\n",
        "    return np.array(X_dataset), np.array(Y_dataset)"
      ],
      "metadata": {
        "id": "zLLkFC5XG78e"
      },
      "execution_count": null,
      "outputs": []
    },
    {
      "cell_type": "code",
      "source": [
        "X, Y = split_dataset(data_wo_dates)\n",
        "print(\"X shape:\", X.shape)\n",
        "print(\"Y shape:\", Y.shape)"
      ],
      "metadata": {
        "id": "ESBvIZBtE6PB",
        "colab": {
          "base_uri": "https://localhost:8080/"
        },
        "outputId": "5ffd5432-4ec4-40d2-f85e-c716fbeed150"
      },
      "execution_count": null,
      "outputs": [
        {
          "output_type": "stream",
          "name": "stdout",
          "text": [
            "X shape: (2042, 5)\n",
            "Y shape: (2042,)\n"
          ]
        }
      ]
    },
    {
      "cell_type": "code",
      "source": [
        "from sklearn.preprocessing import MinMaxScaler\n",
        "scaler_X = MinMaxScaler()\n",
        "scaler_Y = MinMaxScaler()\n",
        "\n",
        "X_scaled = scaler_X.fit_transform(X.reshape(X.shape[0], -1))\n",
        "Y_scaled = scaler_Y.fit_transform(Y.reshape(Y.shape[0], -1))\n",
        "print(X_scaled.shape)\n",
        "print(Y_scaled.shape)\n",
        "X_scaled = X_scaled.reshape(X.shape)\n",
        "Y_scaled = Y_scaled.reshape(Y.shape)\n",
        "\n",
        "print(\"X_train_scaled shape:\", X_scaled.shape)\n",
        "print(\"Y_train_scaled shape:\", Y_scaled.shape)"
      ],
      "metadata": {
        "id": "hqetswFKbOKy",
        "colab": {
          "base_uri": "https://localhost:8080/"
        },
        "outputId": "070e4ea3-0e1b-4622-8fbb-91522731fccb"
      },
      "execution_count": null,
      "outputs": [
        {
          "output_type": "stream",
          "name": "stdout",
          "text": [
            "(2042, 5)\n",
            "(2042, 1)\n",
            "X_train_scaled shape: (2042, 5)\n",
            "Y_train_scaled shape: (2042,)\n"
          ]
        }
      ]
    },
    {
      "cell_type": "code",
      "source": [
        "look_back = 10\n",
        "horizon = 5\n",
        "\n",
        "X_dataset, Y_dataset = create_dataset(X_scaled, Y_scaled, look_back, horizon)"
      ],
      "metadata": {
        "id": "VI7w5vlxG9W5"
      },
      "execution_count": null,
      "outputs": []
    },
    {
      "cell_type": "code",
      "source": [
        "split_index = int(len(X_dataset) * 0.7)\n",
        "X_train = X_dataset[:split_index]\n",
        "X_test = X_dataset[split_index:]\n",
        "Y_train = Y_dataset[:split_index]\n",
        "Y_test = Y_dataset[split_index:]\n",
        "\n",
        "print(\"X_train shape:\", X_train.shape)\n",
        "print(\"X_test shape:\", X_test.shape)\n",
        "print(\"Y_train shape:\", Y_train.shape)\n",
        "print(\"Y_test shape:\", Y_test.shape)"
      ],
      "metadata": {
        "id": "K8LmDcgvFNdj",
        "colab": {
          "base_uri": "https://localhost:8080/"
        },
        "outputId": "4e8e7ffc-2e20-4b9f-b0df-f7e151603035"
      },
      "execution_count": null,
      "outputs": [
        {
          "output_type": "stream",
          "name": "stdout",
          "text": [
            "X_train shape: (1419, 10, 5)\n",
            "X_test shape: (609, 10, 5)\n",
            "Y_train shape: (1419, 5)\n",
            "Y_test shape: (609, 5)\n"
          ]
        }
      ]
    },
    {
      "cell_type": "code",
      "source": [
        "print(X_train.shape)\n",
        "print(X_test.shape)\n",
        "print(Y_train.shape)\n",
        "print(Y_test.shape)"
      ],
      "metadata": {
        "id": "pw9LXMTcX3IJ",
        "colab": {
          "base_uri": "https://localhost:8080/"
        },
        "outputId": "ef707a33-8a0c-4d8c-d89c-7c96652aff23"
      },
      "execution_count": null,
      "outputs": [
        {
          "output_type": "stream",
          "name": "stdout",
          "text": [
            "(1419, 10, 5)\n",
            "(609, 10, 5)\n",
            "(1419, 5)\n",
            "(609, 5)\n"
          ]
        }
      ]
    },
    {
      "cell_type": "code",
      "source": [
        "print(X_dataset)"
      ],
      "metadata": {
        "id": "s9-Zs247Feag",
        "colab": {
          "base_uri": "https://localhost:8080/"
        },
        "outputId": "30800952-1f00-44c9-c46e-dc0691eae426"
      },
      "execution_count": null,
      "outputs": [
        {
          "output_type": "stream",
          "name": "stdout",
          "text": [
            "[[[0.00197172 0.4224794  0.41593938 0.09367089 1.        ]\n",
            "  [0.00140425 0.42451942 0.41543179 0.10063291 0.99409936]\n",
            "  [0.00845436 0.41424088 0.4085068  0.10379747 0.98142288]\n",
            "  ...\n",
            "  [0.01211888 0.43950569 0.42960807 0.13639241 0.96472973]\n",
            "  [0.02726748 0.41961554 0.41048019 0.1471519  0.95741956]\n",
            "  [0.02255458 0.41710475 0.41019014 0.14905063 0.96161128]]\n",
            "\n",
            " [[0.00140425 0.42451942 0.41543179 0.10063291 0.99409936]\n",
            "  [0.00845436 0.41424088 0.4085068  0.10379747 0.98142288]\n",
            "  [0.00833894 0.42263633 0.41708923 0.1028481  0.97859462]\n",
            "  ...\n",
            "  [0.02726748 0.41961554 0.41048019 0.1471519  0.95741956]\n",
            "  [0.02255458 0.41710475 0.41019014 0.14905063 0.96161128]\n",
            "  [0.01868808 0.41074931 0.401789   0.15443038 0.9563463 ]]\n",
            "\n",
            " [[0.00845436 0.41424088 0.4085068  0.10379747 0.98142288]\n",
            "  [0.00833894 0.42263633 0.41708923 0.1028481  0.97859462]\n",
            "  [0.00307781 0.43424872 0.42623104 0.10063291 0.98088855]\n",
            "  ...\n",
            "  [0.02255458 0.41710475 0.41019014 0.14905063 0.96161128]\n",
            "  [0.01868808 0.41074931 0.401789   0.15443038 0.9563463 ]\n",
            "  [0.00288545 0.44091801 0.42711673 0.10537975 0.96694074]]\n",
            "\n",
            " ...\n",
            "\n",
            " [[0.73550063 0.13609259 0.1051334  0.61803797 0.04714065]\n",
            "  [0.75714148 0.15755198 0.1195065  0.60094937 0.04597066]\n",
            "  [0.76516303 0.15437426 0.11344649 0.59177215 0.04533039]\n",
            "  ...\n",
            "  [0.93748197 0.14990192 0.10158026 0.72753165 0.01560607]\n",
            "  [1.         0.15241271 0.10504017 0.80158228 0.        ]\n",
            "  [0.98676541 0.13165947 0.08957937 0.78607595 0.00143716]]\n",
            "\n",
            " [[0.75714148 0.15755198 0.1195065  0.60094937 0.04597066]\n",
            "  [0.76516303 0.15437426 0.11344649 0.59177215 0.04533039]\n",
            "  [0.79080504 0.14550804 0.10976905 0.58164557 0.03943435]\n",
            "  ...\n",
            "  [1.         0.15241271 0.10504017 0.80158228 0.        ]\n",
            "  [0.98676541 0.13165947 0.08957937 0.78607595 0.00143716]\n",
            "  [0.93507743 0.12859945 0.09374887 0.72246835 0.01352864]]\n",
            "\n",
            " [[0.76516303 0.15437426 0.11344649 0.59177215 0.04533039]\n",
            "  [0.79080504 0.14550804 0.10976905 0.58164557 0.03943435]\n",
            "  [0.79801866 0.16567281 0.11920091 0.57816456 0.03957254]\n",
            "  ...\n",
            "  [0.98676541 0.13165947 0.08957937 0.78607595 0.00143716]\n",
            "  [0.93507743 0.12859945 0.09374887 0.72246835 0.01352864]\n",
            "  [0.93507743 0.1387603  0.10076708 0.75221519 0.01580414]]]\n"
          ]
        }
      ]
    },
    {
      "cell_type": "code",
      "source": [
        "print(X_train)"
      ],
      "metadata": {
        "id": "fjaKHPgGWSSR",
        "colab": {
          "base_uri": "https://localhost:8080/"
        },
        "outputId": "03b6da0f-ed52-4475-cd11-337cf1ecd6ff"
      },
      "execution_count": null,
      "outputs": [
        {
          "output_type": "stream",
          "name": "stdout",
          "text": [
            "[[[0.00197172 0.4224794  0.41593938 0.09367089 1.        ]\n",
            "  [0.00140425 0.42451942 0.41543179 0.10063291 0.99409936]\n",
            "  [0.00845436 0.41424088 0.4085068  0.10379747 0.98142288]\n",
            "  ...\n",
            "  [0.01211888 0.43950569 0.42960807 0.13639241 0.96472973]\n",
            "  [0.02726748 0.41961554 0.41048019 0.1471519  0.95741956]\n",
            "  [0.02255458 0.41710475 0.41019014 0.14905063 0.96161128]]\n",
            "\n",
            " [[0.00140425 0.42451942 0.41543179 0.10063291 0.99409936]\n",
            "  [0.00845436 0.41424088 0.4085068  0.10379747 0.98142288]\n",
            "  [0.00833894 0.42263633 0.41708923 0.1028481  0.97859462]\n",
            "  ...\n",
            "  [0.02726748 0.41961554 0.41048019 0.1471519  0.95741956]\n",
            "  [0.02255458 0.41710475 0.41019014 0.14905063 0.96161128]\n",
            "  [0.01868808 0.41074931 0.401789   0.15443038 0.9563463 ]]\n",
            "\n",
            " [[0.00845436 0.41424088 0.4085068  0.10379747 0.98142288]\n",
            "  [0.00833894 0.42263633 0.41708923 0.1028481  0.97859462]\n",
            "  [0.00307781 0.43424872 0.42623104 0.10063291 0.98088855]\n",
            "  ...\n",
            "  [0.02255458 0.41710475 0.41019014 0.14905063 0.96161128]\n",
            "  [0.01868808 0.41074931 0.401789   0.15443038 0.9563463 ]\n",
            "  [0.00288545 0.44091801 0.42711673 0.10537975 0.96694074]]\n",
            "\n",
            " ...\n",
            "\n",
            " [[0.20409734 0.39360534 0.21323983 0.10379747 0.33460467]\n",
            "  [0.2016928  0.39682228 0.21410998 0.10443038 0.33127893]\n",
            "  [0.20583822 0.38466065 0.20678617 0.12753165 0.32804993]\n",
            "  ...\n",
            "  [0.19568145 0.42463711 0.23581207 0.13575949 0.33025173]\n",
            "  [0.20029816 0.43491565 0.23449648 0.13481013 0.33144015]\n",
            "  [0.21050303 0.44523342 0.24121946 0.14746835 0.32660817]]\n",
            "\n",
            " [[0.2016928  0.39682228 0.21410998 0.10443038 0.33127893]\n",
            "  [0.20583822 0.38466065 0.20678617 0.12753165 0.32804993]\n",
            "  [0.18687121 0.40074539 0.21925322 0.09588608 0.33619383]\n",
            "  ...\n",
            "  [0.20029816 0.43491565 0.23449648 0.13481013 0.33144015]\n",
            "  [0.21050303 0.44523342 0.24121946 0.14746835 0.32660817]\n",
            "  [0.20050014 0.44586112 0.24255059 0.13132911 0.3344112 ]]\n",
            "\n",
            " [[0.20583822 0.38466065 0.20678617 0.12753165 0.32804993]\n",
            "  [0.18687121 0.40074539 0.21925322 0.09588608 0.33619383]\n",
            "  [0.17725305 0.42008631 0.2326474  0.09462025 0.34030263]\n",
            "  ...\n",
            "  [0.21050303 0.44523342 0.24121946 0.14746835 0.32660817]\n",
            "  [0.20050014 0.44586112 0.24255059 0.13132911 0.3344112 ]\n",
            "  [0.19717226 0.43942723 0.24006443 0.1193038  0.33278979]]]\n"
          ]
        }
      ]
    },
    {
      "cell_type": "code",
      "source": [
        "print(Y_test)"
      ],
      "metadata": {
        "id": "j1WmQnjNr4Ho",
        "colab": {
          "base_uri": "https://localhost:8080/"
        },
        "outputId": "d037048a-d982-4601-b74e-800f8dc522aa"
      },
      "execution_count": null,
      "outputs": [
        {
          "output_type": "stream",
          "name": "stdout",
          "text": [
            "[[0.87328798 0.8675141  0.87060245 0.86339629 0.87592874]\n",
            " [0.8675141  0.87060245 0.86339629 0.87592874 0.87762958]\n",
            " [0.87060245 0.86339629 0.87592874 0.87762958 0.88470146]\n",
            " ...\n",
            " [0.05232298 0.06901799 0.11086742 0.10867425 0.13432101]\n",
            " [0.06901799 0.11086742 0.10867425 0.13432101 0.15952019]\n",
            " [0.11086742 0.10867425 0.13432101 0.15952019 0.17496196]]\n"
          ]
        }
      ]
    },
    {
      "cell_type": "code",
      "source": [
        "print(X_train[0][0])"
      ],
      "metadata": {
        "id": "l3YzrDveYTOx",
        "colab": {
          "base_uri": "https://localhost:8080/"
        },
        "outputId": "0c6f2d22-a07d-4a7b-e054-d45baf124f2a"
      },
      "execution_count": null,
      "outputs": [
        {
          "output_type": "stream",
          "name": "stdout",
          "text": [
            "[0.00197172 0.4224794  0.41593938 0.09367089 1.        ]\n"
          ]
        }
      ]
    },
    {
      "cell_type": "code",
      "source": [
        "print(X_train.shape[1])"
      ],
      "metadata": {
        "id": "4zDIe66ANnJW",
        "colab": {
          "base_uri": "https://localhost:8080/"
        },
        "outputId": "178f030e-954b-4de9-d69c-c50dce36437e"
      },
      "execution_count": null,
      "outputs": [
        {
          "output_type": "stream",
          "name": "stdout",
          "text": [
            "10\n"
          ]
        }
      ]
    },
    {
      "cell_type": "code",
      "source": [
        "print(Y_train[0][0])"
      ],
      "metadata": {
        "id": "AZcESyNPYiNh",
        "colab": {
          "base_uri": "https://localhost:8080/"
        },
        "outputId": "dccea32a-2421-4546-9bf6-75cdc955675f"
      },
      "execution_count": null,
      "outputs": [
        {
          "output_type": "stream",
          "name": "stdout",
          "text": [
            "0.9868856861516431\n"
          ]
        }
      ]
    },
    {
      "cell_type": "code",
      "source": [
        "import numpy as np\n",
        "from tensorflow import keras\n",
        "from tensorflow.keras import layers\n",
        "from sklearn.preprocessing import MinMaxScaler\n",
        "from sklearn.metrics import mean_squared_error, r2_score\n",
        "\n",
        "model = keras.Sequential()\n",
        "model.add(layers.Input(shape=(X_train.shape[1], 5)))\n",
        "model.add(layers.LSTM(units=300, return_sequences=True))\n",
        "model.add(layers.Dropout(0.2))\n",
        "model.add(layers.LSTM(units=300))\n",
        "model.add(layers.Dropout(0.2))\n",
        "model.add(layers.Dense(units=horizon))"
      ],
      "metadata": {
        "id": "JaPzmR25E4aw"
      },
      "execution_count": null,
      "outputs": []
    },
    {
      "cell_type": "code",
      "source": [
        "from tensorflow.keras.optimizers.schedules import ExponentialDecay\n",
        "from tensorflow.keras.optimizers import Adam\n",
        "\n",
        "\n",
        "initial_learning_rate = 0.001\n",
        "lr_schedule = ExponentialDecay(\n",
        "    initial_learning_rate,\n",
        "    decay_steps=125,\n",
        "    decay_rate=0.01,\n",
        "    staircase=True\n",
        ")\n",
        "optimizer = Adam(learning_rate=lr_schedule)\n",
        "model.compile(optimizer=optimizer, loss='mean_squared_error')\n",
        "model.fit(X_train, Y_train, epochs=10, batch_size=32)\n",
        "predictions = model.predict(X_test)"
      ],
      "metadata": {
        "id": "Ktr1mA7bHSby",
        "colab": {
          "base_uri": "https://localhost:8080/"
        },
        "outputId": "e3c72400-e3e9-4197-d71b-c049d63cfd4e"
      },
      "execution_count": null,
      "outputs": [
        {
          "output_type": "stream",
          "name": "stdout",
          "text": [
            "Epoch 1/10\n",
            "45/45 [==============================] - 5s 40ms/step - loss: 0.0738\n",
            "Epoch 2/10\n",
            "45/45 [==============================] - 2s 40ms/step - loss: 0.0111\n",
            "Epoch 3/10\n",
            "45/45 [==============================] - 2s 40ms/step - loss: 0.0059\n",
            "Epoch 4/10\n",
            "45/45 [==============================] - 2s 40ms/step - loss: 0.0049\n",
            "Epoch 5/10\n",
            "45/45 [==============================] - 2s 41ms/step - loss: 0.0049\n",
            "Epoch 6/10\n",
            "45/45 [==============================] - 2s 41ms/step - loss: 0.0047\n",
            "Epoch 7/10\n",
            "45/45 [==============================] - 2s 42ms/step - loss: 0.0048\n",
            "Epoch 8/10\n",
            "45/45 [==============================] - 2s 41ms/step - loss: 0.0049\n",
            "Epoch 9/10\n",
            "45/45 [==============================] - 2s 40ms/step - loss: 0.0048\n",
            "Epoch 10/10\n",
            "45/45 [==============================] - 2s 41ms/step - loss: 0.0048\n",
            "20/20 [==============================] - 1s 17ms/step\n"
          ]
        }
      ]
    },
    {
      "cell_type": "code",
      "source": [
        "from sklearn.metrics import root_mean_squared_error\n",
        "rmse = root_mean_squared_error(Y_test, predictions)\n",
        "print(rmse)"
      ],
      "metadata": {
        "id": "nlC0yHuZH1_w",
        "colab": {
          "base_uri": "https://localhost:8080/"
        },
        "outputId": "7ae16dba-d6fa-4bf0-9b62-51bfa1e2def9"
      },
      "execution_count": null,
      "outputs": [
        {
          "output_type": "stream",
          "name": "stdout",
          "text": [
            "0.18818784294502805\n"
          ]
        }
      ]
    },
    {
      "cell_type": "code",
      "source": [
        "print(len(predictions))"
      ],
      "metadata": {
        "id": "Gb8SpeoSj9AQ",
        "colab": {
          "base_uri": "https://localhost:8080/"
        },
        "outputId": "52b587b3-c3d9-4e54-dea0-a580a8b8539a"
      },
      "execution_count": null,
      "outputs": [
        {
          "output_type": "stream",
          "name": "stdout",
          "text": [
            "609\n"
          ]
        }
      ]
    },
    {
      "cell_type": "code",
      "source": [
        "print(predictions)"
      ],
      "metadata": {
        "id": "sH_h5I-RkAT_",
        "colab": {
          "base_uri": "https://localhost:8080/"
        },
        "outputId": "745c1571-6c72-436e-f7ec-0dfaf2acbd05"
      },
      "execution_count": null,
      "outputs": [
        {
          "output_type": "stream",
          "name": "stdout",
          "text": [
            "[[ 0.8386034   0.8453881   0.8353373   0.834378    0.83499444]\n",
            " [ 0.83962035  0.8465336   0.8364329   0.8354683   0.83612317]\n",
            " [ 0.839026    0.84608173  0.83594316  0.8349176   0.83570397]\n",
            " ...\n",
            " [ 0.04372179  0.02503125  0.07670161  0.05452223  0.06482679]\n",
            " [ 0.01873735 -0.00213179  0.05304185  0.02977058  0.04015291]\n",
            " [-0.0094621  -0.03245306  0.02608058  0.00172416  0.01228912]]\n"
          ]
        }
      ]
    },
    {
      "cell_type": "code",
      "source": [
        "print(predictions.shape)"
      ],
      "metadata": {
        "id": "nnUbFOLYqxeD",
        "colab": {
          "base_uri": "https://localhost:8080/"
        },
        "outputId": "21dd4e8f-b815-4632-a819-8c5166b5419c"
      },
      "execution_count": null,
      "outputs": [
        {
          "output_type": "stream",
          "name": "stdout",
          "text": [
            "(609, 5)\n"
          ]
        }
      ]
    },
    {
      "cell_type": "code",
      "source": [
        "predictions_reshaped = predictions.reshape(predictions.shape[0], -1)\n",
        "original_predictions = scaler_Y.inverse_transform(predictions_reshaped)\n",
        "original_predictions = original_predictions.reshape(predictions.shape)\n",
        "print(\"Original predictions shape:\", original_predictions.shape)"
      ],
      "metadata": {
        "id": "EspTd_Ln4kq2",
        "colab": {
          "base_uri": "https://localhost:8080/"
        },
        "outputId": "30a1ca79-af98-40de-d29a-3cb4af214114"
      },
      "execution_count": null,
      "outputs": [
        {
          "output_type": "stream",
          "name": "stdout",
          "text": [
            "Original predictions shape: (609, 5)\n"
          ]
        }
      ]
    },
    {
      "cell_type": "code",
      "source": [
        "print(original_predictions)"
      ],
      "metadata": {
        "id": "8HWnRMdSI5VN",
        "colab": {
          "base_uri": "https://localhost:8080/"
        },
        "outputId": "d72fe512-dd06-45f8-887d-8b000a8a0f00"
      },
      "execution_count": null,
      "outputs": [
        {
          "output_type": "stream",
          "name": "stdout",
          "text": [
            "[[106.25608  106.40766  106.183105 106.16167  106.175446]\n",
            " [106.27879  106.43325  106.20759  106.186035 106.20066 ]\n",
            " [106.26552  106.42316  106.19665  106.17373  106.1913  ]\n",
            " ...\n",
            " [ 88.49683   88.07925   89.233665  88.73814   88.96836 ]\n",
            " [ 87.93863   87.472374  88.70506   88.185135  88.4171  ]\n",
            " [ 87.3086    86.79494   88.10269   87.55852   87.79456 ]]\n"
          ]
        }
      ]
    },
    {
      "cell_type": "code",
      "source": [
        "Y_test_reshaped = Y_test.reshape(Y_test.shape[0], -1)\n",
        "Y_test_vals = scaler_Y.inverse_transform(Y_test_reshaped)\n",
        "Y_test_vals = Y_test_vals.reshape(Y_test.shape)\n",
        "print(Y_test_vals)"
      ],
      "metadata": {
        "id": "4_hrbyfiMe6X",
        "colab": {
          "base_uri": "https://localhost:8080/"
        },
        "outputId": "fe0ebb69-2cbf-4063-f4da-798722169eec"
      },
      "execution_count": null,
      "outputs": [
        {
          "output_type": "stream",
          "name": "stdout",
          "text": [
            "[[107.031 106.902 106.971 106.81  107.09 ]\n",
            " [106.902 106.971 106.81  107.09  107.128]\n",
            " [106.971 106.81  107.09  107.128 107.286]\n",
            " ...\n",
            " [ 88.689  89.062  89.997  89.948  90.521]\n",
            " [ 89.062  89.997  89.948  90.521  91.084]\n",
            " [ 89.997  89.948  90.521  91.084  91.429]]\n"
          ]
        }
      ]
    },
    {
      "cell_type": "code",
      "source": [
        "from sklearn.metrics import root_mean_squared_error\n",
        "rmse1= root_mean_squared_error(Y_test_vals, original_predictions)\n",
        "print(rmse1)"
      ],
      "metadata": {
        "id": "hPBa048FL4_b",
        "colab": {
          "base_uri": "https://localhost:8080/"
        },
        "outputId": "766bdb6d-ae6a-477e-d79a-4cc1405bb6d2"
      },
      "execution_count": null,
      "outputs": [
        {
          "output_type": "stream",
          "name": "stdout",
          "text": [
            "4.204492826213889\n"
          ]
        }
      ]
    },
    {
      "cell_type": "code",
      "source": [
        "## backtesting from here"
      ],
      "metadata": {
        "id": "DnTl9E1IMP85"
      },
      "execution_count": null,
      "outputs": []
    },
    {
      "cell_type": "code",
      "source": [
        "predicted_spreads = model.predict(X_dataset)"
      ],
      "metadata": {
        "id": "vrCbCeKo2OjI",
        "colab": {
          "base_uri": "https://localhost:8080/"
        },
        "outputId": "d9fa2b1f-f3ac-47b5-f139-663f41bcdaaf"
      },
      "execution_count": null,
      "outputs": [
        {
          "output_type": "stream",
          "name": "stdout",
          "text": [
            "64/64 [==============================] - 1s 17ms/step\n"
          ]
        }
      ]
    },
    {
      "cell_type": "code",
      "source": [
        "predicted_spreads_reshaped = predicted_spreads.reshape(predicted_spreads.shape[0], -1)\n",
        "predicted_spreads = scaler_Y.inverse_transform(predicted_spreads_reshaped)"
      ],
      "metadata": {
        "id": "4SBj8QLa4Dhj"
      },
      "execution_count": null,
      "outputs": []
    },
    {
      "cell_type": "code",
      "source": [
        "print(predicted_spreads)"
      ],
      "metadata": {
        "id": "ylFP8CZQ_s7s",
        "colab": {
          "base_uri": "https://localhost:8080/"
        },
        "outputId": "60d5e802-4e35-4b12-a01f-81ee0d0d0a27"
      },
      "execution_count": null,
      "outputs": [
        {
          "output_type": "stream",
          "name": "stdout",
          "text": [
            "[[109.23531  108.931335 109.11548  109.112946 108.92952 ]\n",
            " [109.2036   108.90185  109.086235 109.084724 108.901825]\n",
            " [109.17856  108.882256 109.061295 109.06041  108.88124 ]\n",
            " ...\n",
            " [ 88.49683   88.07925   89.233665  88.73814   88.96836 ]\n",
            " [ 87.93863   87.472374  88.70506   88.185135  88.4171  ]\n",
            " [ 87.3086    86.79494   88.10269   87.55852   87.79456 ]]\n"
          ]
        }
      ]
    },
    {
      "cell_type": "code",
      "source": [
        "actual_spreads = Y_scaled.ravel()\n",
        "actual_spreads = scaler_Y.inverse_transform(actual_spreads.reshape(-1, 1))"
      ],
      "metadata": {
        "id": "5C8Z_Z9gWTvG"
      },
      "execution_count": null,
      "outputs": []
    },
    {
      "cell_type": "code",
      "source": [
        "print(actual_spreads)"
      ],
      "metadata": {
        "id": "l1NqjFGL_wa1",
        "colab": {
          "base_uri": "https://localhost:8080/"
        },
        "outputId": "bf2f4752-3ea0-4d5f-8612-6807e6881eb0"
      },
      "execution_count": null,
      "outputs": [
        {
          "output_type": "stream",
          "name": "stdout",
          "text": [
            "[[109.63 ]\n",
            " [109.599]\n",
            " [109.515]\n",
            " ...\n",
            " [ 90.521]\n",
            " [ 91.084]\n",
            " [ 91.429]]\n"
          ]
        }
      ]
    },
    {
      "cell_type": "code",
      "source": [
        "class Backtesting:\n",
        "    def __init__(self, actual_spreads, predicted_spreads, horizon, posthresh, negthresh):\n",
        "        \"\"\"\n",
        "        Initializes the Backtesting class.\n",
        "\n",
        "        Args:\n",
        "            actual_spreads (list): List of actual spreads.\n",
        "            predicted_spreads (list): List of predicted spreads.\n",
        "            horizon (int): Time horizon for predictions.\n",
        "            posthresh (float): Positive threshold for generating \"Long\" signals.\n",
        "            negthresh (float): Negative threshold for generating \"Short\" signals.\n",
        "\n",
        "        \"\"\"\n",
        "        self.actual_spreads = actual_spreads\n",
        "        self.predicted_spreads = predicted_spreads\n",
        "        self.horizon = horizon\n",
        "        self.posthresh = posthresh\n",
        "        self.negthresh = negthresh\n",
        "\n",
        "    def generate_signals(self):\n",
        "        \"\"\"\n",
        "        Generates trading signals based on predicted and actual spreads.\n",
        "\n",
        "        Returns:\n",
        "            list: List of trading signals (\"Long\", \"Short\", or \".\").\n",
        "        \"\"\"\n",
        "        signals = []\n",
        "        for i in range(len(self.predicted_spreads)):\n",
        "            if self.predicted_spreads[i-1][self.horizon-1]  > self.actual_spreads[i-1] + self.posthresh:\n",
        "                signals.append(\"Long\")\n",
        "            elif self.predicted_spreads[i-1][self.horizon-1] < self.actual_spreads[i-1] + self.negthresh:\n",
        "                signals.append(\"Short\")\n",
        "            else:\n",
        "                signals.append(\".\")\n",
        "        return signals\n",
        "\n",
        "    def calculate_pnl(self, signals):\n",
        "        \"\"\"\n",
        "        Calculates the profit/loss for each trade and the total profit.\n",
        "\n",
        "        Args:\n",
        "            signals (list): List of trading signals.\n",
        "\n",
        "        Returns:\n",
        "            tuple: Tuple containing the list of profit/loss values and the total profit.\n",
        "        \"\"\"\n",
        "        pnl = []\n",
        "        for sgn, index in zip(signals, range(len(signals))):\n",
        "            if sgn == \"Long\":\n",
        "                pnl.append(self.actual_spreads[index + self.horizon] - self.actual_spreads[index])\n",
        "            elif sgn == \"Short\":\n",
        "                pnl.append(self.actual_spreads[index] - self.actual_spreads[index + self.horizon])\n",
        "        total_pnl = sum(pnl)\n",
        "        return pnl, total_pnl\n",
        "\n",
        "    def simulate_portfolio(self, signals, starting_balance=1000000, portfolio_size=0.1,extra_charges=0.0005):\n",
        "        \"\"\"\n",
        "        Simulates a trading strategy with a starting balance.\n",
        "\n",
        "        Args:\n",
        "            signals (list): List of trading signals.\n",
        "            starting_balance (float): Starting balance for the portfolio.\n",
        "            portfolio_size (float): Percentage of portfolio to allocate per trade.\n",
        "            extra_charges (float): Extra charges as a percentage of allocated amount.\n",
        "\n",
        "        Returns:\n",
        "            list: List of portfolio balances at each step.\n",
        "        \"\"\"\n",
        "        balance = starting_balance\n",
        "        portfolio_history = []\n",
        "        for sgn, index in zip(signals, range(len(signals))):\n",
        "            if sgn == 'Long':\n",
        "                allocation = portfolio_size * balance\n",
        "                balance -= allocation\n",
        "                balance += allocation * (self.actual_spreads[index + self.horizon] / self.actual_spreads[index])\n",
        "                balance -= extra_charges * allocation\n",
        "            elif sgn == 'Short':\n",
        "                allocation = portfolio_size * balance\n",
        "                balance -= allocation\n",
        "                balance += allocation * (self.actual_spreads[index] / self.actual_spreads[index + self.horizon])\n",
        "                balance -= extra_charges * allocation\n",
        "            portfolio_history.append(balance)\n",
        "        return portfolio_history"
      ],
      "metadata": {
        "id": "vtOz08lK_jF_"
      },
      "execution_count": null,
      "outputs": []
    },
    {
      "cell_type": "code",
      "source": [
        "class PerformanceEvalutions:\n",
        "    def __init__(self, portfolio_returns, portfolio_history):\n",
        "        \"\"\"\n",
        "        Initializes the PerformanceEvalutions class.\n",
        "\n",
        "        Args:\n",
        "            portfolio_returns (list): List of portfolio returns.\n",
        "            portfolio_history (list): List of portfolio balances.\n",
        "        \"\"\"\n",
        "        self.portfolio_returns = portfolio_returns\n",
        "        self.portfolio_history = portfolio_history\n",
        "    def calc_sharpe_ratio(self, risk_free_rate=0.01):\n",
        "      \"\"\"\n",
        "        Calculates the Sharpe ratio of the portfolio.\n",
        "\n",
        "        Args:\n",
        "            risk_free_rate (float): Risk-free rate (default: 0.01).\n",
        "\n",
        "        Returns:\n",
        "            float: Sharpe ratio of the portfolio.\n",
        "        \"\"\"\n",
        "      average_return = np.mean(self.portfolio_returns)\n",
        "      std_dev = np.std(self.portfolio_returns)\n",
        "      sharpe_ratio = (average_return - risk_free_rate) / std_dev\n",
        "      return sharpe_ratio\n",
        "    def max_drawdown(self):\n",
        "      \"\"\"\n",
        "        Calculates the maximum drawdown of the portfolio.\n",
        "\n",
        "        Returns:\n",
        "            float: Maximum drawdown of the portfolio.\n",
        "        \"\"\"\n",
        "\n",
        "      peak = max(self.portfolio_history)\n",
        "      drawdown_list = (self.portfolio_history.copy() - peak)/peak\n",
        "      max_drawdown = min(drawdown_list)\n",
        "      return max_drawdown , drawdown_list\n",
        "    def cummulative_returns (self):\n",
        "      \"\"\"\n",
        "        Calculates the cumulative returns of the portfolio.\n",
        "\n",
        "        Returns:\n",
        "            float: Cumulative returns of the portfolio.\n",
        "        \"\"\"\n",
        "      return (self.portfolio_history[-1] / self.portfolio_history[0] - 1)*100\n",
        "\n",
        "    def profit_loss_ratio(self):\n",
        "        \"\"\"\n",
        "        Calculates the profit-loss ratio of the portfolio.\n",
        "\n",
        "        Returns:\n",
        "            float: Profit-loss ratio of the portfolio.\n",
        "        \"\"\"\n",
        "        portfolio_returns_np = np.array(self.portfolio_returns)\n",
        "        positive_returns = np.sum(portfolio_returns_np > 0)\n",
        "        negative_returns = np.sum(portfolio_returns_np < 0)\n",
        "\n",
        "        if negative_returns == 0:\n",
        "            return float('inf')  # Avoid division by zero\n",
        "        else:\n",
        "            return positive_returns / negative_returns\n",
        "## risk - return tradeoff metric remaining"
      ],
      "metadata": {
        "id": "xStXlAhqyBfV"
      },
      "execution_count": null,
      "outputs": []
    },
    {
      "cell_type": "code",
      "source": [
        "backtest = Backtesting(actual_spreads,predicted_spreads,5,1,-1)"
      ],
      "metadata": {
        "id": "ZPjP3sy1CHj2"
      },
      "execution_count": null,
      "outputs": []
    },
    {
      "cell_type": "code",
      "source": [
        "backtest_signal = backtest.generate_signals()\n",
        "pn1 , total_pn1 = backtest.calculate_pnl(backtest_signal)"
      ],
      "metadata": {
        "id": "BEJk-hTxRthZ"
      },
      "execution_count": null,
      "outputs": []
    },
    {
      "cell_type": "code",
      "source": [
        "backtest_signal"
      ],
      "metadata": {
        "id": "SnqGP-MLSvMR",
        "colab": {
          "base_uri": "https://localhost:8080/"
        },
        "outputId": "d9a9d5a4-56c1-4f34-a15e-ec0a52d42aec"
      },
      "execution_count": null,
      "outputs": [
        {
          "output_type": "execute_result",
          "data": {
            "text/plain": [
              "['Short',\n",
              " '.',\n",
              " '.',\n",
              " '.',\n",
              " '.',\n",
              " '.',\n",
              " '.',\n",
              " '.',\n",
              " '.',\n",
              " '.',\n",
              " '.',\n",
              " '.',\n",
              " '.',\n",
              " '.',\n",
              " '.',\n",
              " '.',\n",
              " '.',\n",
              " '.',\n",
              " '.',\n",
              " '.',\n",
              " '.',\n",
              " '.',\n",
              " '.',\n",
              " '.',\n",
              " '.',\n",
              " '.',\n",
              " '.',\n",
              " '.',\n",
              " '.',\n",
              " '.',\n",
              " '.',\n",
              " '.',\n",
              " '.',\n",
              " '.',\n",
              " '.',\n",
              " '.',\n",
              " '.',\n",
              " '.',\n",
              " '.',\n",
              " 'Long',\n",
              " 'Long',\n",
              " 'Long',\n",
              " '.',\n",
              " '.',\n",
              " '.',\n",
              " '.',\n",
              " '.',\n",
              " '.',\n",
              " '.',\n",
              " '.',\n",
              " '.',\n",
              " '.',\n",
              " '.',\n",
              " '.',\n",
              " '.',\n",
              " '.',\n",
              " '.',\n",
              " '.',\n",
              " '.',\n",
              " '.',\n",
              " '.',\n",
              " '.',\n",
              " '.',\n",
              " '.',\n",
              " '.',\n",
              " '.',\n",
              " '.',\n",
              " '.',\n",
              " '.',\n",
              " '.',\n",
              " '.',\n",
              " '.',\n",
              " '.',\n",
              " '.',\n",
              " '.',\n",
              " '.',\n",
              " '.',\n",
              " '.',\n",
              " '.',\n",
              " '.',\n",
              " '.',\n",
              " '.',\n",
              " '.',\n",
              " '.',\n",
              " '.',\n",
              " '.',\n",
              " '.',\n",
              " '.',\n",
              " '.',\n",
              " '.',\n",
              " '.',\n",
              " '.',\n",
              " '.',\n",
              " '.',\n",
              " '.',\n",
              " '.',\n",
              " '.',\n",
              " '.',\n",
              " '.',\n",
              " '.',\n",
              " 'Long',\n",
              " '.',\n",
              " '.',\n",
              " '.',\n",
              " '.',\n",
              " '.',\n",
              " 'Long',\n",
              " 'Long',\n",
              " '.',\n",
              " 'Long',\n",
              " '.',\n",
              " '.',\n",
              " '.',\n",
              " '.',\n",
              " 'Long',\n",
              " '.',\n",
              " '.',\n",
              " '.',\n",
              " '.',\n",
              " '.',\n",
              " '.',\n",
              " '.',\n",
              " '.',\n",
              " '.',\n",
              " '.',\n",
              " '.',\n",
              " '.',\n",
              " '.',\n",
              " '.',\n",
              " '.',\n",
              " '.',\n",
              " '.',\n",
              " '.',\n",
              " '.',\n",
              " '.',\n",
              " '.',\n",
              " '.',\n",
              " '.',\n",
              " '.',\n",
              " '.',\n",
              " '.',\n",
              " '.',\n",
              " '.',\n",
              " '.',\n",
              " '.',\n",
              " 'Short',\n",
              " '.',\n",
              " '.',\n",
              " '.',\n",
              " '.',\n",
              " '.',\n",
              " '.',\n",
              " '.',\n",
              " '.',\n",
              " '.',\n",
              " '.',\n",
              " '.',\n",
              " '.',\n",
              " 'Long',\n",
              " 'Long',\n",
              " '.',\n",
              " '.',\n",
              " '.',\n",
              " '.',\n",
              " '.',\n",
              " '.',\n",
              " '.',\n",
              " '.',\n",
              " '.',\n",
              " '.',\n",
              " '.',\n",
              " '.',\n",
              " '.',\n",
              " '.',\n",
              " '.',\n",
              " '.',\n",
              " '.',\n",
              " '.',\n",
              " '.',\n",
              " '.',\n",
              " '.',\n",
              " '.',\n",
              " '.',\n",
              " '.',\n",
              " '.',\n",
              " '.',\n",
              " '.',\n",
              " '.',\n",
              " '.',\n",
              " '.',\n",
              " '.',\n",
              " 'Short',\n",
              " 'Short',\n",
              " '.',\n",
              " '.',\n",
              " '.',\n",
              " '.',\n",
              " '.',\n",
              " '.',\n",
              " '.',\n",
              " '.',\n",
              " 'Short',\n",
              " '.',\n",
              " '.',\n",
              " '.',\n",
              " '.',\n",
              " '.',\n",
              " '.',\n",
              " '.',\n",
              " '.',\n",
              " '.',\n",
              " '.',\n",
              " '.',\n",
              " '.',\n",
              " '.',\n",
              " '.',\n",
              " '.',\n",
              " '.',\n",
              " '.',\n",
              " '.',\n",
              " '.',\n",
              " '.',\n",
              " '.',\n",
              " '.',\n",
              " '.',\n",
              " '.',\n",
              " '.',\n",
              " '.',\n",
              " '.',\n",
              " '.',\n",
              " '.',\n",
              " '.',\n",
              " '.',\n",
              " '.',\n",
              " '.',\n",
              " '.',\n",
              " '.',\n",
              " '.',\n",
              " '.',\n",
              " 'Short',\n",
              " '.',\n",
              " '.',\n",
              " 'Short',\n",
              " '.',\n",
              " '.',\n",
              " '.',\n",
              " '.',\n",
              " '.',\n",
              " '.',\n",
              " '.',\n",
              " '.',\n",
              " '.',\n",
              " '.',\n",
              " '.',\n",
              " '.',\n",
              " '.',\n",
              " '.',\n",
              " '.',\n",
              " '.',\n",
              " '.',\n",
              " '.',\n",
              " 'Long',\n",
              " '.',\n",
              " '.',\n",
              " '.',\n",
              " 'Long',\n",
              " 'Long',\n",
              " 'Long',\n",
              " 'Long',\n",
              " 'Long',\n",
              " 'Long',\n",
              " 'Long',\n",
              " 'Long',\n",
              " '.',\n",
              " '.',\n",
              " '.',\n",
              " 'Long',\n",
              " 'Long',\n",
              " 'Long',\n",
              " '.',\n",
              " '.',\n",
              " '.',\n",
              " '.',\n",
              " '.',\n",
              " '.',\n",
              " '.',\n",
              " 'Long',\n",
              " 'Long',\n",
              " 'Long',\n",
              " 'Long',\n",
              " 'Long',\n",
              " 'Long',\n",
              " 'Long',\n",
              " 'Long',\n",
              " 'Long',\n",
              " '.',\n",
              " '.',\n",
              " '.',\n",
              " '.',\n",
              " '.',\n",
              " '.',\n",
              " '.',\n",
              " '.',\n",
              " '.',\n",
              " '.',\n",
              " 'Long',\n",
              " '.',\n",
              " '.',\n",
              " '.',\n",
              " '.',\n",
              " '.',\n",
              " '.',\n",
              " '.',\n",
              " '.',\n",
              " '.',\n",
              " '.',\n",
              " '.',\n",
              " 'Long',\n",
              " '.',\n",
              " '.',\n",
              " '.',\n",
              " '.',\n",
              " '.',\n",
              " '.',\n",
              " '.',\n",
              " '.',\n",
              " '.',\n",
              " '.',\n",
              " '.',\n",
              " '.',\n",
              " '.',\n",
              " '.',\n",
              " '.',\n",
              " '.',\n",
              " '.',\n",
              " '.',\n",
              " '.',\n",
              " '.',\n",
              " '.',\n",
              " '.',\n",
              " '.',\n",
              " '.',\n",
              " '.',\n",
              " '.',\n",
              " '.',\n",
              " '.',\n",
              " '.',\n",
              " '.',\n",
              " '.',\n",
              " '.',\n",
              " '.',\n",
              " '.',\n",
              " '.',\n",
              " '.',\n",
              " '.',\n",
              " '.',\n",
              " '.',\n",
              " '.',\n",
              " '.',\n",
              " '.',\n",
              " '.',\n",
              " '.',\n",
              " '.',\n",
              " '.',\n",
              " '.',\n",
              " '.',\n",
              " '.',\n",
              " '.',\n",
              " '.',\n",
              " '.',\n",
              " '.',\n",
              " '.',\n",
              " '.',\n",
              " '.',\n",
              " '.',\n",
              " '.',\n",
              " '.',\n",
              " '.',\n",
              " '.',\n",
              " '.',\n",
              " '.',\n",
              " '.',\n",
              " '.',\n",
              " '.',\n",
              " '.',\n",
              " '.',\n",
              " '.',\n",
              " '.',\n",
              " '.',\n",
              " '.',\n",
              " '.',\n",
              " '.',\n",
              " '.',\n",
              " '.',\n",
              " '.',\n",
              " '.',\n",
              " '.',\n",
              " '.',\n",
              " '.',\n",
              " '.',\n",
              " '.',\n",
              " '.',\n",
              " '.',\n",
              " '.',\n",
              " '.',\n",
              " '.',\n",
              " '.',\n",
              " '.',\n",
              " '.',\n",
              " '.',\n",
              " '.',\n",
              " '.',\n",
              " '.',\n",
              " '.',\n",
              " '.',\n",
              " '.',\n",
              " '.',\n",
              " '.',\n",
              " '.',\n",
              " '.',\n",
              " '.',\n",
              " '.',\n",
              " '.',\n",
              " '.',\n",
              " '.',\n",
              " '.',\n",
              " '.',\n",
              " '.',\n",
              " '.',\n",
              " '.',\n",
              " '.',\n",
              " '.',\n",
              " '.',\n",
              " '.',\n",
              " '.',\n",
              " '.',\n",
              " '.',\n",
              " '.',\n",
              " '.',\n",
              " '.',\n",
              " '.',\n",
              " '.',\n",
              " '.',\n",
              " '.',\n",
              " '.',\n",
              " '.',\n",
              " '.',\n",
              " '.',\n",
              " '.',\n",
              " '.',\n",
              " '.',\n",
              " '.',\n",
              " '.',\n",
              " 'Long',\n",
              " '.',\n",
              " 'Long',\n",
              " 'Long',\n",
              " '.',\n",
              " '.',\n",
              " '.',\n",
              " '.',\n",
              " '.',\n",
              " '.',\n",
              " '.',\n",
              " '.',\n",
              " '.',\n",
              " '.',\n",
              " 'Long',\n",
              " '.',\n",
              " '.',\n",
              " '.',\n",
              " 'Long',\n",
              " '.',\n",
              " '.',\n",
              " '.',\n",
              " '.',\n",
              " '.',\n",
              " '.',\n",
              " '.',\n",
              " '.',\n",
              " '.',\n",
              " '.',\n",
              " 'Long',\n",
              " 'Long',\n",
              " 'Long',\n",
              " 'Long',\n",
              " 'Long',\n",
              " 'Long',\n",
              " 'Long',\n",
              " '.',\n",
              " '.',\n",
              " '.',\n",
              " '.',\n",
              " '.',\n",
              " '.',\n",
              " '.',\n",
              " '.',\n",
              " '.',\n",
              " '.',\n",
              " '.',\n",
              " '.',\n",
              " '.',\n",
              " '.',\n",
              " '.',\n",
              " '.',\n",
              " '.',\n",
              " '.',\n",
              " '.',\n",
              " '.',\n",
              " '.',\n",
              " '.',\n",
              " '.',\n",
              " '.',\n",
              " '.',\n",
              " '.',\n",
              " '.',\n",
              " '.',\n",
              " '.',\n",
              " '.',\n",
              " '.',\n",
              " '.',\n",
              " '.',\n",
              " '.',\n",
              " '.',\n",
              " '.',\n",
              " '.',\n",
              " '.',\n",
              " '.',\n",
              " '.',\n",
              " '.',\n",
              " '.',\n",
              " '.',\n",
              " '.',\n",
              " '.',\n",
              " '.',\n",
              " '.',\n",
              " '.',\n",
              " '.',\n",
              " '.',\n",
              " '.',\n",
              " '.',\n",
              " '.',\n",
              " '.',\n",
              " '.',\n",
              " '.',\n",
              " '.',\n",
              " '.',\n",
              " '.',\n",
              " '.',\n",
              " '.',\n",
              " '.',\n",
              " '.',\n",
              " '.',\n",
              " '.',\n",
              " '.',\n",
              " '.',\n",
              " '.',\n",
              " '.',\n",
              " '.',\n",
              " '.',\n",
              " 'Short',\n",
              " '.',\n",
              " '.',\n",
              " '.',\n",
              " '.',\n",
              " '.',\n",
              " '.',\n",
              " '.',\n",
              " '.',\n",
              " '.',\n",
              " 'Short',\n",
              " '.',\n",
              " '.',\n",
              " '.',\n",
              " '.',\n",
              " '.',\n",
              " '.',\n",
              " '.',\n",
              " '.',\n",
              " '.',\n",
              " '.',\n",
              " '.',\n",
              " '.',\n",
              " '.',\n",
              " '.',\n",
              " '.',\n",
              " '.',\n",
              " '.',\n",
              " '.',\n",
              " '.',\n",
              " '.',\n",
              " '.',\n",
              " '.',\n",
              " '.',\n",
              " '.',\n",
              " '.',\n",
              " '.',\n",
              " '.',\n",
              " '.',\n",
              " '.',\n",
              " '.',\n",
              " '.',\n",
              " '.',\n",
              " '.',\n",
              " '.',\n",
              " '.',\n",
              " '.',\n",
              " '.',\n",
              " '.',\n",
              " '.',\n",
              " '.',\n",
              " '.',\n",
              " '.',\n",
              " '.',\n",
              " '.',\n",
              " '.',\n",
              " '.',\n",
              " '.',\n",
              " '.',\n",
              " '.',\n",
              " '.',\n",
              " '.',\n",
              " '.',\n",
              " '.',\n",
              " '.',\n",
              " '.',\n",
              " '.',\n",
              " '.',\n",
              " '.',\n",
              " '.',\n",
              " '.',\n",
              " '.',\n",
              " '.',\n",
              " '.',\n",
              " '.',\n",
              " '.',\n",
              " '.',\n",
              " '.',\n",
              " '.',\n",
              " '.',\n",
              " '.',\n",
              " '.',\n",
              " '.',\n",
              " '.',\n",
              " '.',\n",
              " '.',\n",
              " '.',\n",
              " '.',\n",
              " '.',\n",
              " 'Short',\n",
              " 'Short',\n",
              " 'Short',\n",
              " 'Short',\n",
              " '.',\n",
              " '.',\n",
              " 'Short',\n",
              " 'Short',\n",
              " 'Short',\n",
              " 'Short',\n",
              " 'Short',\n",
              " 'Short',\n",
              " 'Short',\n",
              " 'Short',\n",
              " 'Short',\n",
              " 'Short',\n",
              " 'Short',\n",
              " '.',\n",
              " '.',\n",
              " '.',\n",
              " 'Short',\n",
              " 'Short',\n",
              " '.',\n",
              " '.',\n",
              " 'Short',\n",
              " '.',\n",
              " 'Short',\n",
              " 'Short',\n",
              " 'Short',\n",
              " 'Short',\n",
              " 'Short',\n",
              " 'Short',\n",
              " 'Short',\n",
              " 'Short',\n",
              " 'Short',\n",
              " 'Short',\n",
              " 'Short',\n",
              " '.',\n",
              " '.',\n",
              " '.',\n",
              " '.',\n",
              " '.',\n",
              " '.',\n",
              " '.',\n",
              " '.',\n",
              " '.',\n",
              " '.',\n",
              " '.',\n",
              " '.',\n",
              " '.',\n",
              " '.',\n",
              " '.',\n",
              " '.',\n",
              " '.',\n",
              " '.',\n",
              " '.',\n",
              " '.',\n",
              " '.',\n",
              " '.',\n",
              " '.',\n",
              " '.',\n",
              " '.',\n",
              " '.',\n",
              " '.',\n",
              " '.',\n",
              " '.',\n",
              " '.',\n",
              " '.',\n",
              " '.',\n",
              " '.',\n",
              " '.',\n",
              " 'Short',\n",
              " 'Short',\n",
              " 'Short',\n",
              " '.',\n",
              " '.',\n",
              " '.',\n",
              " '.',\n",
              " '.',\n",
              " '.',\n",
              " '.',\n",
              " '.',\n",
              " 'Short',\n",
              " 'Short',\n",
              " 'Short',\n",
              " 'Short',\n",
              " 'Short',\n",
              " '.',\n",
              " '.',\n",
              " '.',\n",
              " 'Short',\n",
              " '.',\n",
              " '.',\n",
              " '.',\n",
              " '.',\n",
              " '.',\n",
              " '.',\n",
              " '.',\n",
              " '.',\n",
              " '.',\n",
              " '.',\n",
              " '.',\n",
              " '.',\n",
              " '.',\n",
              " '.',\n",
              " '.',\n",
              " '.',\n",
              " '.',\n",
              " '.',\n",
              " '.',\n",
              " '.',\n",
              " '.',\n",
              " '.',\n",
              " '.',\n",
              " '.',\n",
              " '.',\n",
              " '.',\n",
              " '.',\n",
              " '.',\n",
              " '.',\n",
              " '.',\n",
              " '.',\n",
              " '.',\n",
              " '.',\n",
              " '.',\n",
              " '.',\n",
              " '.',\n",
              " '.',\n",
              " '.',\n",
              " '.',\n",
              " '.',\n",
              " '.',\n",
              " '.',\n",
              " '.',\n",
              " '.',\n",
              " '.',\n",
              " '.',\n",
              " '.',\n",
              " '.',\n",
              " '.',\n",
              " '.',\n",
              " '.',\n",
              " '.',\n",
              " '.',\n",
              " '.',\n",
              " '.',\n",
              " '.',\n",
              " '.',\n",
              " '.',\n",
              " '.',\n",
              " '.',\n",
              " '.',\n",
              " '.',\n",
              " '.',\n",
              " '.',\n",
              " '.',\n",
              " '.',\n",
              " '.',\n",
              " '.',\n",
              " '.',\n",
              " '.',\n",
              " '.',\n",
              " '.',\n",
              " '.',\n",
              " '.',\n",
              " '.',\n",
              " '.',\n",
              " '.',\n",
              " '.',\n",
              " '.',\n",
              " '.',\n",
              " '.',\n",
              " '.',\n",
              " '.',\n",
              " '.',\n",
              " '.',\n",
              " '.',\n",
              " '.',\n",
              " '.',\n",
              " 'Short',\n",
              " 'Short',\n",
              " '.',\n",
              " '.',\n",
              " '.',\n",
              " '.',\n",
              " '.',\n",
              " '.',\n",
              " '.',\n",
              " '.',\n",
              " '.',\n",
              " '.',\n",
              " '.',\n",
              " '.',\n",
              " '.',\n",
              " '.',\n",
              " '.',\n",
              " '.',\n",
              " '.',\n",
              " '.',\n",
              " '.',\n",
              " '.',\n",
              " '.',\n",
              " '.',\n",
              " '.',\n",
              " '.',\n",
              " '.',\n",
              " '.',\n",
              " '.',\n",
              " '.',\n",
              " '.',\n",
              " '.',\n",
              " '.',\n",
              " '.',\n",
              " '.',\n",
              " '.',\n",
              " '.',\n",
              " '.',\n",
              " '.',\n",
              " '.',\n",
              " '.',\n",
              " '.',\n",
              " '.',\n",
              " '.',\n",
              " '.',\n",
              " '.',\n",
              " '.',\n",
              " '.',\n",
              " '.',\n",
              " '.',\n",
              " '.',\n",
              " 'Short',\n",
              " 'Short',\n",
              " 'Short',\n",
              " 'Short',\n",
              " '.',\n",
              " '.',\n",
              " '.',\n",
              " '.',\n",
              " '.',\n",
              " '.',\n",
              " '.',\n",
              " 'Long',\n",
              " 'Long',\n",
              " '.',\n",
              " '.',\n",
              " '.',\n",
              " '.',\n",
              " '.',\n",
              " '.',\n",
              " 'Long',\n",
              " 'Long',\n",
              " 'Long',\n",
              " '.',\n",
              " '.',\n",
              " '.',\n",
              " '.',\n",
              " '.',\n",
              " '.',\n",
              " '.',\n",
              " '.',\n",
              " '.',\n",
              " '.',\n",
              " '.',\n",
              " '.',\n",
              " '.',\n",
              " '.',\n",
              " '.',\n",
              " 'Long',\n",
              " '.',\n",
              " '.',\n",
              " '.',\n",
              " '.',\n",
              " '.',\n",
              " '.',\n",
              " '.',\n",
              " '.',\n",
              " 'Long',\n",
              " 'Long',\n",
              " 'Long',\n",
              " 'Long',\n",
              " '.',\n",
              " '.',\n",
              " '.',\n",
              " '.',\n",
              " '.',\n",
              " '.',\n",
              " '.',\n",
              " '.',\n",
              " '.',\n",
              " '.',\n",
              " '.',\n",
              " '.',\n",
              " '.',\n",
              " '.',\n",
              " '.',\n",
              " '.',\n",
              " '.',\n",
              " 'Long',\n",
              " '.',\n",
              " 'Long',\n",
              " '.',\n",
              " '.',\n",
              " '.',\n",
              " '.',\n",
              " '.',\n",
              " 'Long',\n",
              " '.',\n",
              " '.',\n",
              " '.',\n",
              " '.',\n",
              " '.',\n",
              " '.',\n",
              " '.',\n",
              " '.',\n",
              " '.',\n",
              " 'Short',\n",
              " '.',\n",
              " '.',\n",
              " '.',\n",
              " 'Short',\n",
              " 'Short',\n",
              " 'Short',\n",
              " 'Short',\n",
              " 'Short',\n",
              " 'Short',\n",
              " 'Short',\n",
              " 'Short',\n",
              " 'Short',\n",
              " 'Short',\n",
              " 'Short',\n",
              " 'Short',\n",
              " 'Short',\n",
              " 'Short',\n",
              " 'Short',\n",
              " '.',\n",
              " '.',\n",
              " '.',\n",
              " '.',\n",
              " 'Long',\n",
              " '.',\n",
              " '.',\n",
              " '.',\n",
              " '.',\n",
              " '.',\n",
              " '.',\n",
              " '.',\n",
              " '.',\n",
              " '.',\n",
              " '.',\n",
              " '.',\n",
              " 'Long',\n",
              " ...]"
            ]
          },
          "metadata": {},
          "execution_count": 38
        }
      ]
    },
    {
      "cell_type": "code",
      "source": [
        "pn1"
      ],
      "metadata": {
        "id": "lo8rLmMXdJbf",
        "colab": {
          "base_uri": "https://localhost:8080/"
        },
        "outputId": "c5534ac1-73ca-430b-ddf1-78ba5e697873"
      },
      "execution_count": null,
      "outputs": [
        {
          "output_type": "execute_result",
          "data": {
            "text/plain": [
              "[array([-0.033]),\n",
              " array([0.484]),\n",
              " array([0.47]),\n",
              " array([0.337]),\n",
              " array([-1.106]),\n",
              " array([0.888]),\n",
              " array([-0.219]),\n",
              " array([0.646]),\n",
              " array([1.297]),\n",
              " array([1.223]),\n",
              " array([1.265]),\n",
              " array([1.08]),\n",
              " array([0.603]),\n",
              " array([0.406]),\n",
              " array([0.556]),\n",
              " array([1.211]),\n",
              " array([1.228]),\n",
              " array([-1.051]),\n",
              " array([0.959]),\n",
              " array([2.196]),\n",
              " array([2.336]),\n",
              " array([2.404]),\n",
              " array([1.435]),\n",
              " array([0.316]),\n",
              " array([0.142]),\n",
              " array([-0.207]),\n",
              " array([1.413]),\n",
              " array([1.576]),\n",
              " array([1.076]),\n",
              " array([1.058]),\n",
              " array([0.727]),\n",
              " array([1.443]),\n",
              " array([1.85]),\n",
              " array([2.053]),\n",
              " array([2.003]),\n",
              " array([1.545]),\n",
              " array([1.053]),\n",
              " array([0.182]),\n",
              " array([0.685]),\n",
              " array([0.871]),\n",
              " array([0.2]),\n",
              " array([0.489]),\n",
              " array([-0.087]),\n",
              " array([0.255]),\n",
              " array([-0.047]),\n",
              " array([0.278]),\n",
              " array([1.573]),\n",
              " array([2.086]),\n",
              " array([1.534]),\n",
              " array([1.011]),\n",
              " array([1.773]),\n",
              " array([1.203]),\n",
              " array([0.412]),\n",
              " array([0.547]),\n",
              " array([0.186]),\n",
              " array([-0.03]),\n",
              " array([-0.266]),\n",
              " array([-0.249]),\n",
              " array([0.137]),\n",
              " array([0.246]),\n",
              " array([0.124]),\n",
              " array([-0.059]),\n",
              " array([-0.018]),\n",
              " array([0.234]),\n",
              " array([0.445]),\n",
              " array([0.545]),\n",
              " array([-0.117]),\n",
              " array([-0.155]),\n",
              " array([-0.241]),\n",
              " array([0.167]),\n",
              " array([-0.063]),\n",
              " array([-0.339]),\n",
              " array([0.011]),\n",
              " array([-0.081]),\n",
              " array([0.182]),\n",
              " array([0.161]),\n",
              " array([0.46]),\n",
              " array([0.844]),\n",
              " array([0.754]),\n",
              " array([1.04]),\n",
              " array([0.987]),\n",
              " array([0.469]),\n",
              " array([-0.071]),\n",
              " array([0.373]),\n",
              " array([0.44]),\n",
              " array([0.038]),\n",
              " array([0.504]),\n",
              " array([0.313]),\n",
              " array([-0.11]),\n",
              " array([0.724]),\n",
              " array([0.693]),\n",
              " array([0.031]),\n",
              " array([0.962]),\n",
              " array([1.075]),\n",
              " array([1.923]),\n",
              " array([1.016]),\n",
              " array([0.71]),\n",
              " array([0.418]),\n",
              " array([0.338]),\n",
              " array([-1.221]),\n",
              " array([1.456]),\n",
              " array([0.962]),\n",
              " array([-0.155]),\n",
              " array([0.54]),\n",
              " array([1.3]),\n",
              " array([1.465]),\n",
              " array([0.831]),\n",
              " array([0.157]),\n",
              " array([0.013]),\n",
              " array([-0.685]),\n",
              " array([0.339]),\n",
              " array([0.811]),\n",
              " array([2.396]),\n",
              " array([2.285]),\n",
              " array([2.044]),\n",
              " array([2.126]),\n",
              " array([0.782]),\n",
              " array([0.843]),\n",
              " array([0.519]),\n",
              " array([0.078]),\n",
              " array([0.682]),\n",
              " array([1.233]),\n",
              " array([1.444]),\n",
              " array([0.918]),\n",
              " array([0.959]),\n",
              " array([0.217]),\n",
              " array([-0.87]),\n",
              " array([1.715]),\n",
              " array([1.683]),\n",
              " array([1.502]),\n",
              " array([1.341]),\n",
              " array([0.616]),\n",
              " array([1.632]),\n",
              " array([1.436]),\n",
              " array([1.493]),\n",
              " array([2.017]),\n",
              " array([1.574]),\n",
              " array([0.788]),\n",
              " array([-0.06]),\n",
              " array([0.195]),\n",
              " array([-0.362]),\n",
              " array([-0.991]),\n",
              " array([-1.506]),\n",
              " array([-1.267]),\n",
              " array([-1.235]),\n",
              " array([0.044]),\n",
              " array([0.261]),\n",
              " array([-0.035]),\n",
              " array([-0.359]),\n",
              " array([1.351]),\n",
              " array([0.628]),\n",
              " array([1.204]),\n",
              " array([2.731]),\n",
              " array([3.316]),\n",
              " array([1.474]),\n",
              " array([1.199]),\n",
              " array([1.031]),\n",
              " array([-0.058]),\n",
              " array([-0.368]),\n",
              " array([-0.484]),\n",
              " array([-0.982]),\n",
              " array([-0.842]),\n",
              " array([-0.309]),\n",
              " array([-0.129]),\n",
              " array([0.273]),\n",
              " array([0.151]),\n",
              " array([0.01]),\n",
              " array([-0.509]),\n",
              " array([-0.227]),\n",
              " array([0.121]),\n",
              " array([0.646]),\n",
              " array([1.092]),\n",
              " array([1.897]),\n",
              " array([1.602]),\n",
              " array([1.271]),\n",
              " array([1.078]),\n",
              " array([0.316]),\n",
              " array([-0.092]),\n",
              " array([-0.025]),\n",
              " array([-0.699]),\n",
              " array([-0.74]),\n",
              " array([3.708]),\n",
              " array([4.23]),\n",
              " array([4.582]),\n",
              " array([4.895]),\n",
              " array([1.13]),\n",
              " array([-0.034]),\n",
              " array([0.504]),\n",
              " array([0.099]),\n",
              " array([0.962]),\n",
              " array([0.59]),\n",
              " array([0.602]),\n",
              " array([0.556]),\n",
              " array([0.184]),\n",
              " array([-1.092]),\n",
              " array([0.941]),\n",
              " array([-0.114]),\n",
              " array([1.437]),\n",
              " array([0.86]),\n",
              " array([-0.126]),\n",
              " array([0.139]),\n",
              " array([0.276]),\n",
              " array([-0.019]),\n",
              " array([-0.135]),\n",
              " array([-0.088]),\n",
              " array([-0.159]),\n",
              " array([-0.519]),\n",
              " array([-0.034]),\n",
              " array([-0.205]),\n",
              " array([0.044]),\n",
              " array([0.39]),\n",
              " array([0.493]),\n",
              " array([0.558]),\n",
              " array([0.668]),\n",
              " array([0.708]),\n",
              " array([-0.478]),\n",
              " array([-0.466]),\n",
              " array([-0.794]),\n",
              " array([-0.211]),\n",
              " array([0.601]),\n",
              " array([0.679]),\n",
              " array([0.738]),\n",
              " array([-0.006]),\n",
              " array([0.591]),\n",
              " array([-0.035]),\n",
              " array([0.381]),\n",
              " array([0.062]),\n",
              " array([1.538]),\n",
              " array([1.467]),\n",
              " array([0.659]),\n",
              " array([2.111]),\n",
              " array([2.382]),\n",
              " array([1.94]),\n",
              " array([1.856]),\n",
              " array([0.876]),\n",
              " array([0.731]),\n",
              " array([1.287]),\n",
              " array([1.707]),\n",
              " array([1.662]),\n",
              " array([1.052]),\n",
              " array([2.334]),\n",
              " array([2.044]),\n",
              " array([0.533]),\n",
              " array([1.603]),\n",
              " array([1.446]),\n",
              " array([1.196]),\n",
              " array([0.415]),\n",
              " array([0.353]),\n",
              " array([0.342]),\n",
              " array([0.79]),\n",
              " array([0.775]),\n",
              " array([0.8]),\n",
              " array([1.597]),\n",
              " array([1.155]),\n",
              " array([0.602]),\n",
              " array([-0.737]),\n",
              " array([-0.107]),\n",
              " array([-0.152]),\n",
              " array([-0.656]),\n",
              " array([-0.305]),\n",
              " array([-0.167]),\n",
              " array([0.019]),\n",
              " array([0.084]),\n",
              " array([0.338]),\n",
              " array([-0.029]),\n",
              " array([0.056]),\n",
              " array([-0.459]),\n",
              " array([-0.221]),\n",
              " array([-0.224]),\n",
              " array([0.038]),\n",
              " array([0.468]),\n",
              " array([0.702]),\n",
              " array([0.53]),\n",
              " array([0.518]),\n",
              " array([0.139]),\n",
              " array([-0.578]),\n",
              " array([-0.615]),\n",
              " array([-0.488]),\n",
              " array([-0.123]),\n",
              " array([0.413]),\n",
              " array([0.558]),\n",
              " array([0.63]),\n",
              " array([0.669]),\n",
              " array([0.441]),\n",
              " array([0.251]),\n",
              " array([0.326]),\n",
              " array([0.45]),\n",
              " array([0.535]),\n",
              " array([1.495]),\n",
              " array([1.528]),\n",
              " array([1.293]),\n",
              " array([1.123]),\n",
              " array([1.023]),\n",
              " array([-0.435]),\n",
              " array([0.507]),\n",
              " array([0.401]),\n",
              " array([0.179]),\n",
              " array([0.362]),\n",
              " array([0.5]),\n",
              " array([0.536]),\n",
              " array([0.11]),\n",
              " array([-0.575]),\n",
              " array([-0.381]),\n",
              " array([-0.408]),\n",
              " array([-0.904]),\n",
              " array([-0.204]),\n",
              " array([-0.565]),\n",
              " array([-0.249]),\n",
              " array([0.265]),\n",
              " array([0.689]),\n",
              " array([0.093]),\n",
              " array([-0.092]),\n",
              " array([-0.258]),\n",
              " array([-0.582]),\n",
              " array([-0.749]),\n",
              " array([0.197]),\n",
              " array([0.053]),\n",
              " array([0.255]),\n",
              " array([0.837]),\n",
              " array([0.762]),\n",
              " array([-0.072]),\n",
              " array([-0.001]),\n",
              " array([-0.399]),\n",
              " array([-0.911]),\n",
              " array([-1.01]),\n",
              " array([-0.607]),\n",
              " array([-0.316]),\n",
              " array([0.322]),\n",
              " array([-0.185]),\n",
              " array([-0.009]),\n",
              " array([0.375]),\n",
              " array([0.284]),\n",
              " array([-0.301]),\n",
              " array([0.482]),\n",
              " array([0.407]),\n",
              " array([0.387]),\n",
              " array([-0.061]),\n",
              " array([-0.057]),\n",
              " array([-0.085]),\n",
              " array([0.083]),\n",
              " array([-0.169]),\n",
              " array([0.596]),\n",
              " array([0.636]),\n",
              " array([0.84]),\n",
              " array([1.401]),\n",
              " array([1.37]),\n",
              " array([1.455]),\n",
              " array([0.837]),\n",
              " array([0.377]),\n",
              " array([-0.072]),\n",
              " array([-1.041]),\n",
              " array([-0.656]),\n",
              " array([-0.074]),\n",
              " array([-0.896]),\n",
              " array([-1.559]),\n",
              " array([-0.627]),\n",
              " array([-1.48]),\n",
              " array([-1.53]),\n",
              " array([-0.896]),\n",
              " array([-0.138]),\n",
              " array([0.002]),\n",
              " array([-0.35]),\n",
              " array([-0.06]),\n",
              " array([0.154]),\n",
              " array([-0.234]),\n",
              " array([-0.483]),\n",
              " array([0.001]),\n",
              " array([-0.166]),\n",
              " array([-0.398]),\n",
              " array([-0.059]),\n",
              " array([0.025]),\n",
              " array([-0.304]),\n",
              " array([-0.273]),\n",
              " array([0.101]),\n",
              " array([0.247]),\n",
              " array([0.628]),\n",
              " array([1.031]),\n",
              " array([1.478]),\n",
              " array([1.205]),\n",
              " array([1.059]),\n",
              " array([0.894]),\n",
              " array([0.633]),\n",
              " array([-0.264]),\n",
              " array([-0.18]),\n",
              " array([-0.104]),\n",
              " array([0.238]),\n",
              " array([0.163]),\n",
              " array([0.431]),\n",
              " array([0.272]),\n",
              " array([-0.071]),\n",
              " array([-0.696]),\n",
              " array([-0.492]),\n",
              " array([-0.39]),\n",
              " array([0.013]),\n",
              " array([0.327]),\n",
              " array([0.777]),\n",
              " array([0.77]),\n",
              " array([0.577]),\n",
              " array([0.296]),\n",
              " array([0.157]),\n",
              " array([-0.26]),\n",
              " array([0.102]),\n",
              " array([0.004]),\n",
              " array([0.525]),\n",
              " array([0.011]),\n",
              " array([0.541]),\n",
              " array([-0.097]),\n",
              " array([0.301]),\n",
              " array([-0.274]),\n",
              " array([0.119]),\n",
              " array([-0.753]),\n",
              " array([-0.401]),\n",
              " array([-0.544]),\n",
              " array([-0.309]),\n",
              " array([-0.376]),\n",
              " array([-0.25]),\n",
              " array([0.052]),\n",
              " array([-0.092]),\n",
              " array([-0.097]),\n",
              " array([0.364]),\n",
              " array([1.298]),\n",
              " array([0.987]),\n",
              " array([1.36]),\n",
              " array([2.498]),\n",
              " array([2.356]),\n",
              " array([1.359]),\n",
              " array([0.65]),\n",
              " array([0.773]),\n",
              " array([-0.541]),\n",
              " array([-0.734]),\n",
              " array([0.036]),\n",
              " array([0.604]),\n",
              " array([-1.259]),\n",
              " array([-1.052]),\n",
              " array([-1.324]),\n",
              " array([-1.614]),\n",
              " array([-1.709]),\n",
              " array([-0.315]),\n",
              " array([-0.649]),\n",
              " array([0.115]),\n",
              " array([0.353]),\n",
              " array([1.027]),\n",
              " array([1.248]),\n",
              " array([1.141]),\n",
              " array([0.94]),\n",
              " array([0.882]),\n",
              " array([1.094]),\n",
              " array([1.269]),\n",
              " array([1.356]),\n",
              " array([1.105]),\n",
              " array([0.991]),\n",
              " array([0.062]),\n",
              " array([0.047]),\n",
              " array([0.418]),\n",
              " array([-0.511]),\n",
              " array([-0.792]),\n",
              " array([-0.109]),\n",
              " array([0.322]),\n",
              " array([-0.202]),\n",
              " array([1.258]),\n",
              " array([0.689]),\n",
              " array([-0.063]),\n",
              " array([-1.483]),\n",
              " array([-1.051]),\n",
              " array([-1.688]),\n",
              " array([-0.91]),\n",
              " array([0.085]),\n",
              " array([-0.445]),\n",
              " array([-0.816]),\n",
              " array([-0.759]),\n",
              " array([-0.223]),\n",
              " array([-0.556]),\n",
              " array([-0.008]),\n",
              " array([0.375]),\n",
              " array([0.029]),\n",
              " array([-0.077]),\n",
              " array([0.131]),\n",
              " array([-0.307]),\n",
              " array([-0.936]),\n",
              " array([-0.618]),\n",
              " array([-0.595]),\n",
              " array([-0.532]),\n",
              " array([0.403]),\n",
              " array([0.83]),\n",
              " array([1.177]),\n",
              " array([1.005]),\n",
              " array([1.743]),\n",
              " array([1.223]),\n",
              " array([1.725]),\n",
              " array([2.413]),\n",
              " array([2.017]),\n",
              " array([1.047]),\n",
              " array([0.657]),\n",
              " array([1.087]),\n",
              " array([-0.433]),\n",
              " array([0.356]),\n",
              " array([1.144]),\n",
              " array([2.544]),\n",
              " array([1.139]),\n",
              " array([1.804]),\n",
              " array([0.15]),\n",
              " array([-2.266]),\n",
              " array([-3.238]),\n",
              " array([-2.131]),\n",
              " array([-2.533]),\n",
              " array([-0.251]),\n",
              " array([1.318]),\n",
              " array([0.648]),\n",
              " array([-0.455]),\n",
              " array([0.135]),\n",
              " array([-0.293]),\n",
              " array([-1.071]),\n",
              " array([-1.203]),\n",
              " array([-0.618]),\n",
              " array([-1.726]),\n",
              " array([-2.34]),\n",
              " array([-1.651]),\n",
              " array([-0.998]),\n",
              " array([-1.476]),\n",
              " array([-1.014]),\n",
              " array([-1.679]),\n",
              " array([-1.334]),\n",
              " array([-1.384]),\n",
              " array([-0.502]),\n",
              " array([-0.169]),\n",
              " array([0.5]),\n",
              " array([0.506]),\n",
              " array([0.372]),\n",
              " array([-0.187]),\n",
              " array([-0.564]),\n",
              " array([-0.732]),\n",
              " array([-0.689]),\n",
              " array([0.085]),\n",
              " array([0.589]),\n",
              " array([1.708]),\n",
              " array([1.121]),\n",
              " array([1.591]),\n",
              " array([1.398]),\n",
              " array([1.189]),\n",
              " array([0.765]),\n",
              " array([1.496]),\n",
              " array([1.137]),\n",
              " array([1.137]),\n",
              " array([1.245]),\n",
              " array([0.79]),\n",
              " array([0.192]),\n",
              " array([0.723]),\n",
              " array([-0.367]),\n",
              " array([-0.569]),\n",
              " array([-0.177]),\n",
              " array([0.679]),\n",
              " array([-0.029]),\n",
              " array([1.15]),\n",
              " array([1.24]),\n",
              " array([1.156]),\n",
              " array([0.486]),\n",
              " array([0.58]),\n",
              " array([0.249]),\n",
              " array([0.346]),\n",
              " array([-1.26]),\n",
              " array([-0.745]),\n",
              " array([-1.102]),\n",
              " array([-0.87]),\n",
              " array([-1.474]),\n",
              " array([0.339]),\n",
              " array([-0.122]),\n",
              " array([-0.187]),\n",
              " array([-0.684]),\n",
              " array([0.001]),\n",
              " array([-0.15]),\n",
              " array([0.016]),\n",
              " array([0.486]),\n",
              " array([1.034]),\n",
              " array([1.001]),\n",
              " array([0.732]),\n",
              " array([0.976]),\n",
              " array([1.16]),\n",
              " array([1.201]),\n",
              " array([0.776]),\n",
              " array([1.252]),\n",
              " array([1.255]),\n",
              " array([0.125]),\n",
              " array([0.233]),\n",
              " array([0.333]),\n",
              " array([-0.686]),\n",
              " array([-0.607]),\n",
              " array([0.002]),\n",
              " array([-0.513]),\n",
              " array([-0.254]),\n",
              " array([0.603]),\n",
              " array([0.491]),\n",
              " array([0.577]),\n",
              " array([0.589]),\n",
              " array([0.236]),\n",
              " array([0.338]),\n",
              " array([-0.648]),\n",
              " array([-0.146]),\n",
              " array([0.033]),\n",
              " array([-0.467]),\n",
              " array([-0.837]),\n",
              " array([-0.19]),\n",
              " array([-0.428]),\n",
              " array([-0.654]),\n",
              " array([0.07]),\n",
              " array([0.191]),\n",
              " array([0.46]),\n",
              " array([0.433]),\n",
              " array([0.509]),\n",
              " array([0.649]),\n",
              " array([0.144]),\n",
              " array([-0.198]),\n",
              " array([-0.064]),\n",
              " array([-0.144]),\n",
              " array([-0.476]),\n",
              " array([0.013]),\n",
              " array([0.305]),\n",
              " array([-0.299]),\n",
              " array([1.717]),\n",
              " array([3.128]),\n",
              " array([1.929]),\n",
              " array([1.737]),\n",
              " array([1.589]),\n",
              " array([-0.502]),\n",
              " array([-2.545]),\n",
              " array([-1.29]),\n",
              " array([-1.42]),\n",
              " array([-0.481]),\n",
              " array([0.367]),\n",
              " array([0.991]),\n",
              " array([0.52]),\n",
              " array([0.7]),\n",
              " array([0.566]),\n",
              " array([0.224]),\n",
              " array([0.51]),\n",
              " array([1.043]),\n",
              " array([2.049]),\n",
              " array([1.2]),\n",
              " array([0.557]),\n",
              " array([0.486]),\n",
              " array([0.618]),\n",
              " array([-0.003]),\n",
              " array([0.293]),\n",
              " array([0.446]),\n",
              " array([0.759]),\n",
              " array([0.587]),\n",
              " array([0.768]),\n",
              " array([2.13]),\n",
              " array([2.568]),\n",
              " array([1.83]),\n",
              " array([1.203]),\n",
              " array([0.693]),\n",
              " array([-0.821]),\n",
              " array([-1.947]),\n",
              " array([-2.524]),\n",
              " array([-1.688]),\n",
              " array([-1.625]),\n",
              " array([-1.67]),\n",
              " array([-0.164]),\n",
              " array([0.624]),\n",
              " array([0.048]),\n",
              " array([0.172]),\n",
              " array([-0.06]),\n",
              " array([-1.292]),\n",
              " array([-1.396]),\n",
              " array([-1.9]),\n",
              " array([-2.443]),\n",
              " array([-1.19]),\n",
              " array([0.267]),\n",
              " array([0.778]),\n",
              " array([1.488]),\n",
              " array([2.145]),\n",
              " array([1.025]),\n",
              " array([-0.537]),\n",
              " array([-0.743]),\n",
              " array([-0.341]),\n",
              " array([-0.266]),\n",
              " array([0.116]),\n",
              " array([0.822]),\n",
              " array([0.749]),\n",
              " array([-0.934]),\n",
              " array([-0.244]),\n",
              " array([-1.254]),\n",
              " array([-1.87]),\n",
              " array([-1.932]),\n",
              " array([-0.952]),\n",
              " array([-1.911]),\n",
              " array([-0.872]),\n",
              " array([-0.529]),\n",
              " array([0.029]),\n",
              " array([1.442]),\n",
              " array([1.799]),\n",
              " array([2.17]),\n",
              " array([2.178]),\n",
              " array([2.247]),\n",
              " array([2.308]),\n",
              " array([1.85]),\n",
              " array([1.595]),\n",
              " array([2.201]),\n",
              " array([1.349]),\n",
              " array([0.237]),\n",
              " array([0.122]),\n",
              " array([0.199]),\n",
              " array([-0.057]),\n",
              " array([-0.21]),\n",
              " array([-0.365]),\n",
              " array([-0.372]),\n",
              " array([-0.287]),\n",
              " array([-0.209]),\n",
              " array([0.711]),\n",
              " array([0.654]),\n",
              " array([0.813]),\n",
              " array([0.371]),\n",
              " array([0.201]),\n",
              " array([-0.384]),\n",
              " array([0.01]),\n",
              " array([0.02]),\n",
              " array([0.296]),\n",
              " array([1.23]),\n",
              " array([0.869]),\n",
              " array([1.052]),\n",
              " array([0.473]),\n",
              " array([0.346]),\n",
              " array([0.486]),\n",
              " array([1.685]),\n",
              " array([1.359]),\n",
              " array([1.328]),\n",
              " array([0.963]),\n",
              " array([-0.704]),\n",
              " array([-1.336]),\n",
              " array([-1.136]),\n",
              " array([-0.219]),\n",
              " array([-0.11]),\n",
              " array([0.825]),\n",
              " array([0.38]),\n",
              " array([0.144]),\n",
              " array([-0.328]),\n",
              " array([0.092]),\n",
              " array([-0.66]),\n",
              " array([-0.282]),\n",
              " array([-0.347]),\n",
              " array([0.062]),\n",
              " array([1.257]),\n",
              " array([1.503]),\n",
              " array([1.807]),\n",
              " array([1.895]),\n",
              " array([0.93]),\n",
              " array([0.365]),\n",
              " array([-0.298]),\n",
              " array([-0.181]),\n",
              " array([0.386]),\n",
              " array([0.838]),\n",
              " array([0.348]),\n",
              " array([1.59]),\n",
              " array([1.035]),\n",
              " array([0.836]),\n",
              " array([0.243]),\n",
              " array([0.476]),\n",
              " array([0.297]),\n",
              " array([1.427]),\n",
              " array([1.701]),\n",
              " array([2.483]),\n",
              " array([1.32]),\n",
              " array([0.422]),\n",
              " array([-1.165]),\n",
              " array([-1.626]),\n",
              " array([-1.406]),\n",
              " array([-0.587]),\n",
              " array([-0.006]),\n",
              " array([0.668]),\n",
              " array([1.762]),\n",
              " array([1.494]),\n",
              " array([0.669]),\n",
              " array([0.094]),\n",
              " array([-0.605]),\n",
              " array([-2.974]),\n",
              " array([-3.223]),\n",
              " array([-2.287]),\n",
              " array([-2.465]),\n",
              " array([-2.123]),\n",
              " array([-1.298]),\n",
              " array([-1.318]),\n",
              " array([-1.917]),\n",
              " array([-0.96]),\n",
              " array([-0.705]),\n",
              " array([0.102]),\n",
              " array([0.955]),\n",
              " array([1.454]),\n",
              " array([2.02]),\n",
              " array([1.846]),\n",
              " array([1.534]),\n",
              " array([0.876]),\n",
              " array([-0.069]),\n",
              " array([-0.056]),\n",
              " array([-0.416]),\n",
              " array([-2.012]),\n",
              " array([0.021]),\n",
              " array([0.18]),\n",
              " array([0.767]),\n",
              " array([1.844]),\n",
              " array([1.322]),\n",
              " array([0.773]),\n",
              " array([1.311]),\n",
              " array([1.603]),\n",
              " array([-0.301]),\n",
              " array([-0.924]),\n",
              " array([-1.156]),\n",
              " array([-1.35]),\n",
              " array([-1.826]),\n",
              " array([-0.753]),\n",
              " array([-0.17]),\n",
              " array([0.246]),\n",
              " array([1.063]),\n",
              " array([1.156]),\n",
              " array([1.01]),\n",
              " array([0.944]),\n",
              " array([1.791]),\n",
              " array([-0.073]),\n",
              " array([-0.289]),\n",
              " array([0.141]),\n",
              " array([-0.208]),\n",
              " array([-1.641]),\n",
              " array([-1.345]),\n",
              " array([-1.044]),\n",
              " array([-1.724]),\n",
              " array([-0.475]),\n",
              " array([0.359]),\n",
              " array([0.978]),\n",
              " array([1.352]),\n",
              " array([1.157]),\n",
              " array([0.354]),\n",
              " array([0.082]),\n",
              " array([0.617]),\n",
              " array([0.285]),\n",
              " array([1.33]),\n",
              " array([1.564]),\n",
              " array([2.008]),\n",
              " array([2.222]),\n",
              " array([2.965]),\n",
              " array([1.951]),\n",
              " array([1.79]),\n",
              " array([1.52]),\n",
              " array([1.03]),\n",
              " array([0.328]),\n",
              " array([0.593]),\n",
              " array([0.094]),\n",
              " array([0.344]),\n",
              " array([0.535]),\n",
              " array([0.612]),\n",
              " array([1.081]),\n",
              " array([1.154]),\n",
              " array([1.29]),\n",
              " array([0.65]),\n",
              " array([0.97]),\n",
              " array([0.95]),\n",
              " array([2.664]),\n",
              " array([1.835]),\n",
              " array([1.581]),\n",
              " array([1.107]),\n",
              " array([0.31]),\n",
              " array([-1.291]),\n",
              " array([-1.828]),\n",
              " array([-0.879]),\n",
              " array([-2.353]),\n",
              " array([-1.372]),\n",
              " array([-0.88]),\n",
              " array([0.413]),\n",
              " array([0.007]),\n",
              " array([1.717]),\n",
              " array([3.458]),\n",
              " array([2.988])]"
            ]
          },
          "metadata": {},
          "execution_count": 39
        }
      ]
    },
    {
      "cell_type": "code",
      "source": [
        "total_pn1"
      ],
      "metadata": {
        "id": "DgkM-a2JdJ-I",
        "colab": {
          "base_uri": "https://localhost:8080/"
        },
        "outputId": "e8e85c0a-0c6d-4aef-c1ab-a2613127f78b"
      },
      "execution_count": null,
      "outputs": [
        {
          "output_type": "execute_result",
          "data": {
            "text/plain": [
              "array([281.845])"
            ]
          },
          "metadata": {},
          "execution_count": 40
        }
      ]
    },
    {
      "cell_type": "code",
      "source": [
        "portfolio_history = backtest.simulate_portfolio(backtest_signal)\n",
        "print(portfolio_history)"
      ],
      "metadata": {
        "id": "HJqKgBeIdK2n",
        "colab": {
          "base_uri": "https://localhost:8080/"
        },
        "outputId": "13e9a76b-cc95-4e0b-e2a7-c01f645b3004"
      },
      "execution_count": null,
      "outputs": [
        {
          "output_type": "stream",
          "name": "stdout",
          "text": [
            "[array([1268198.14420545]), array([1268198.14420545]), array([1268198.14420545]), array([1268198.14420545]), array([1268198.14420545]), array([1268198.14420545]), array([1268198.14420545]), array([1268198.14420545]), array([1268198.14420545]), array([1268198.14420545]), array([1268198.14420545]), array([1268198.14420545]), array([1268198.14420545]), array([1268198.14420545]), array([1268198.14420545]), array([1268198.14420545]), array([1268198.14420545]), array([1268198.14420545]), array([1268198.14420545]), array([1268198.14420545]), array([1268198.14420545]), array([1268198.14420545]), array([1268198.14420545]), array([1268198.14420545]), array([1268198.14420545]), array([1268198.14420545]), array([1268198.14420545]), array([1268198.14420545]), array([1268198.14420545]), array([1268198.14420545]), array([1268198.14420545]), array([1268198.14420545]), array([1268198.14420545]), array([1268198.14420545]), array([1268198.14420545]), array([1268198.14420545]), array([1268198.14420545]), array([1268198.14420545]), array([1268198.14420545]), array([1268198.14420545]), array([1268198.14420545]), array([1268198.14420545]), array([1268198.14420545]), array([1268198.14420545]), array([1268198.14420545]), array([1268198.14420545]), array([1268198.14420545]), array([1268198.14420545]), array([1268198.14420545]), array([1268198.14420545]), array([1268198.14420545]), array([1268198.14420545]), array([1268198.14420545]), array([1268198.14420545]), array([1268198.14420545]), array([1268198.14420545]), array([1268198.14420545]), array([1268198.14420545]), array([1268198.14420545]), array([1268198.14420545]), array([1268198.14420545]), array([1268198.14420545]), array([1268198.14420545]), array([1268198.14420545]), array([1268198.14420545]), array([1268198.14420545]), array([1268198.14420545]), array([1268198.14420545]), array([1268198.14420545]), array([1268198.14420545]), array([1268198.14420545]), array([1268198.14420545]), array([1268198.14420545]), array([1268198.14420545]), array([1268198.14420545]), array([1268198.14420545]), array([1268198.14420545]), array([1268198.14420545]), array([1268198.14420545]), array([1268198.14420545]), array([1268198.14420545]), array([1268198.14420545]), array([1268198.14420545]), array([1268198.14420545]), array([1268198.14420545]), array([1268198.14420545]), array([1268198.14420545]), array([1268198.14420545]), array([1268198.14420545]), array([1268198.14420545]), array([1268198.14420545]), array([1268198.14420545]), array([1268198.14420545]), array([1268198.14420545]), array([1268198.14420545]), array([1268198.14420545]), array([1268198.14420545]), array([1268198.14420545]), array([1268198.14420545]), array([1268198.14420545]), array([1268198.14420545]), array([1268198.14420545]), array([1268198.14420545]), array([1268198.14420545]), array([1268198.14420545]), array([1268198.14420545]), array([1268198.14420545]), array([1268198.14420545]), array([1268198.14420545]), array([1268198.14420545]), array([1268198.14420545]), array([1268198.14420545]), array([1268198.14420545]), array([1268198.14420545]), array([1268198.14420545]), array([1268198.14420545]), array([1268198.14420545]), array([1268198.14420545]), array([1268198.14420545]), array([1268198.14420545]), array([1268198.14420545]), array([1268198.14420545]), array([1268198.14420545]), array([1268198.14420545]), array([1268198.14420545]), array([1268198.14420545]), array([1268198.14420545]), array([1268198.14420545]), array([1268198.14420545]), array([1268198.14420545]), array([1268198.14420545]), array([1268198.14420545]), array([1268198.14420545]), array([1268198.14420545]), array([1268198.14420545]), array([1268198.14420545]), array([1268198.14420545]), array([1268198.14420545]), array([1268198.14420545]), array([1268198.14420545]), array([1268198.14420545]), array([1268198.14420545]), array([1268198.14420545]), array([1268198.14420545]), array([1268198.14420545]), array([1268198.14420545]), array([1268198.14420545]), array([1268198.14420545]), array([1268198.14420545]), array([1268198.14420545]), array([1268198.14420545]), array([1268198.14420545]), array([1268198.14420545]), array([1268198.14420545]), array([1268198.14420545]), array([1268198.14420545]), array([1268198.14420545]), array([1268198.14420545]), array([1268198.14420545]), array([1268198.14420545]), array([1268198.14420545]), array([1268198.14420545]), array([1268198.14420545]), array([1268198.14420545]), array([1268198.14420545]), array([1268198.14420545]), array([1268198.14420545]), array([1268198.14420545]), array([1268198.14420545]), array([1268198.14420545]), array([1268198.14420545]), array([1268198.14420545]), array([1268198.14420545]), array([1268198.14420545]), array([1268198.14420545]), array([1268198.14420545]), array([1268198.14420545]), array([1268198.14420545]), array([1268198.14420545]), array([1268198.14420545]), array([1268198.14420545]), array([1268198.14420545]), array([1268198.14420545]), array([1268198.14420545]), array([1268198.14420545]), array([1268198.14420545]), array([1268198.14420545]), array([1268198.14420545]), array([1268198.14420545]), array([1268198.14420545]), array([1268198.14420545]), array([1268198.14420545]), array([1268198.14420545]), array([1268198.14420545]), array([1268198.14420545]), array([1268198.14420545]), array([1268198.14420545]), array([1268198.14420545]), array([1268198.14420545]), array([1268198.14420545]), array([1268198.14420545]), array([1268198.14420545]), array([1268198.14420545]), array([1268198.14420545]), array([1268198.14420545]), array([1268198.14420545]), array([1268198.14420545]), array([1268198.14420545]), array([1268198.14420545]), array([1268198.14420545]), array([1268198.14420545]), array([1268198.14420545]), array([1268198.14420545]), array([1268198.14420545]), array([1268198.14420545]), array([1268198.14420545]), array([1268198.14420545]), array([1268198.14420545]), array([1268198.14420545]), array([1268198.14420545]), array([1268198.14420545]), array([1268198.14420545]), array([1268198.14420545]), array([1268198.14420545]), array([1268198.14420545]), array([1268198.14420545]), array([1268198.14420545]), array([1268198.14420545]), array([1268198.14420545]), array([1268198.14420545]), array([1268198.14420545]), array([1268198.14420545]), array([1268198.14420545]), array([1268198.14420545]), array([1268198.14420545]), array([1268198.14420545]), array([1268198.14420545]), array([1268198.14420545]), array([1268198.14420545]), array([1268198.14420545]), array([1268198.14420545]), array([1268198.14420545]), array([1268198.14420545]), array([1268198.14420545]), array([1268198.14420545]), array([1268198.14420545]), array([1268198.14420545]), array([1268198.14420545]), array([1268198.14420545]), array([1268198.14420545]), array([1268198.14420545]), array([1268198.14420545]), array([1268198.14420545]), array([1268198.14420545]), array([1268198.14420545]), array([1268198.14420545]), array([1268198.14420545]), array([1268198.14420545]), array([1268198.14420545]), array([1268198.14420545]), array([1268198.14420545]), array([1268198.14420545]), array([1268198.14420545]), array([1268198.14420545]), array([1268198.14420545]), array([1268198.14420545]), array([1268198.14420545]), array([1268198.14420545]), array([1268198.14420545]), array([1268198.14420545]), array([1268198.14420545]), array([1268198.14420545]), array([1268198.14420545]), array([1268198.14420545]), array([1268198.14420545]), array([1268198.14420545]), array([1268198.14420545]), array([1268198.14420545]), array([1268198.14420545]), array([1268198.14420545]), array([1268198.14420545]), array([1268198.14420545]), array([1268198.14420545]), array([1268198.14420545]), array([1268198.14420545]), array([1268198.14420545]), array([1268198.14420545]), array([1268198.14420545]), array([1268198.14420545]), array([1268198.14420545]), array([1268198.14420545]), array([1268198.14420545]), array([1268198.14420545]), array([1268198.14420545]), array([1268198.14420545]), array([1268198.14420545]), array([1268198.14420545]), array([1268198.14420545]), array([1268198.14420545]), array([1268198.14420545]), array([1268198.14420545]), array([1268198.14420545]), array([1268198.14420545]), array([1268198.14420545]), array([1268198.14420545]), array([1268198.14420545]), array([1268198.14420545]), array([1268198.14420545]), array([1268198.14420545]), array([1268198.14420545]), array([1268198.14420545]), array([1268198.14420545]), array([1268198.14420545]), array([1268198.14420545]), array([1268198.14420545]), array([1268198.14420545]), array([1268198.14420545]), array([1268198.14420545]), array([1268198.14420545]), array([1268198.14420545]), array([1268198.14420545]), array([1268198.14420545]), array([1268198.14420545]), array([1268198.14420545]), array([1268198.14420545]), array([1268198.14420545]), array([1268198.14420545]), array([1268198.14420545]), array([1268198.14420545]), array([1268198.14420545]), array([1268198.14420545]), array([1268198.14420545]), array([1268198.14420545]), array([1268198.14420545]), array([1268198.14420545]), array([1268198.14420545]), array([1268198.14420545]), array([1268198.14420545]), array([1268198.14420545]), array([1268198.14420545]), array([1268198.14420545]), array([1268198.14420545]), array([1268198.14420545]), array([1268198.14420545]), array([1268198.14420545]), array([1268198.14420545]), array([1268198.14420545]), array([1268198.14420545]), array([1268198.14420545]), array([1268198.14420545]), array([1268198.14420545]), array([1268198.14420545]), array([1268198.14420545]), array([1268198.14420545]), array([1268198.14420545]), array([1268198.14420545]), array([1268198.14420545]), array([1268198.14420545]), array([1268198.14420545]), array([1268198.14420545]), array([1268198.14420545]), array([1268198.14420545]), array([1268198.14420545]), array([1268198.14420545]), array([1268198.14420545]), array([1268198.14420545]), array([1268198.14420545]), array([1268198.14420545]), array([1268198.14420545]), array([1268198.14420545]), array([1268198.14420545]), array([1268198.14420545]), array([1268198.14420545]), array([1268198.14420545]), array([1268198.14420545]), array([1268198.14420545]), array([1268198.14420545]), array([1268198.14420545]), array([1268198.14420545]), array([1268198.14420545]), array([1268198.14420545]), array([1268198.14420545]), array([1268198.14420545]), array([1268198.14420545]), array([1268198.14420545]), array([1268198.14420545]), array([1268198.14420545]), array([1268198.14420545]), array([1268198.14420545]), array([1268198.14420545]), array([1268198.14420545]), array([1268198.14420545]), array([1268198.14420545]), array([1268198.14420545]), array([1268198.14420545]), array([1268198.14420545]), array([1268198.14420545]), array([1268198.14420545]), array([1268198.14420545]), array([1268198.14420545]), array([1268198.14420545]), array([1268198.14420545]), array([1268198.14420545]), array([1268198.14420545]), array([1268198.14420545]), array([1268198.14420545]), array([1268198.14420545]), array([1268198.14420545]), array([1268198.14420545]), array([1268198.14420545]), array([1268198.14420545]), array([1268198.14420545]), array([1268198.14420545]), array([1268198.14420545]), array([1268198.14420545]), array([1268198.14420545]), array([1268198.14420545]), array([1268198.14420545]), array([1268198.14420545]), array([1268198.14420545]), array([1268198.14420545]), array([1268198.14420545]), array([1268198.14420545]), array([1268198.14420545]), array([1268198.14420545]), array([1268198.14420545]), array([1268198.14420545]), array([1268198.14420545]), array([1268198.14420545]), array([1268198.14420545]), array([1268198.14420545]), array([1268198.14420545]), array([1268198.14420545]), array([1268198.14420545]), array([1268198.14420545]), array([1268198.14420545]), array([1268198.14420545]), array([1268198.14420545]), array([1268198.14420545]), array([1268198.14420545]), array([1268198.14420545]), array([1268198.14420545]), array([1268198.14420545]), array([1268198.14420545]), array([1268198.14420545]), array([1268198.14420545]), array([1268198.14420545]), array([1268198.14420545]), array([1268198.14420545]), array([1268198.14420545]), array([1268198.14420545]), array([1268198.14420545]), array([1268198.14420545]), array([1268198.14420545]), array([1268198.14420545]), array([1268198.14420545]), array([1268198.14420545]), array([1268198.14420545]), array([1268198.14420545]), array([1268198.14420545]), array([1268198.14420545]), array([1268198.14420545]), array([1268198.14420545]), array([1268198.14420545]), array([1268198.14420545]), array([1268198.14420545]), array([1268198.14420545]), array([1268198.14420545]), array([1268198.14420545]), array([1268198.14420545]), array([1268198.14420545]), array([1268198.14420545]), array([1268198.14420545]), array([1268198.14420545]), array([1268198.14420545]), array([1268198.14420545]), array([1268198.14420545]), array([1268198.14420545]), array([1268198.14420545]), array([1268198.14420545]), array([1268198.14420545]), array([1268198.14420545]), array([1268198.14420545]), array([1268198.14420545]), array([1268198.14420545]), array([1268198.14420545]), array([1268198.14420545]), array([1268198.14420545]), array([1268198.14420545]), array([1268198.14420545]), array([1268198.14420545]), array([1268198.14420545]), array([1268198.14420545]), array([1268198.14420545]), array([1268198.14420545]), array([1268198.14420545]), array([1268198.14420545]), array([1268198.14420545]), array([1268198.14420545]), array([1268198.14420545]), array([1268198.14420545]), array([1268198.14420545]), array([1268198.14420545]), array([1268198.14420545]), array([1268198.14420545]), array([1268198.14420545]), array([1268198.14420545]), array([1268198.14420545]), array([1268198.14420545]), array([1268198.14420545]), array([1268198.14420545]), array([1268198.14420545]), array([1268198.14420545]), array([1268198.14420545]), array([1268198.14420545]), array([1268198.14420545]), array([1268198.14420545]), array([1268198.14420545]), array([1268198.14420545]), array([1268198.14420545]), array([1268198.14420545]), array([1268198.14420545]), array([1268198.14420545]), array([1268198.14420545]), array([1268198.14420545]), array([1268198.14420545]), array([1268198.14420545]), array([1268198.14420545]), array([1268198.14420545]), array([1268198.14420545]), array([1268198.14420545]), array([1268198.14420545]), array([1268198.14420545]), array([1268198.14420545]), array([1268198.14420545]), array([1268198.14420545]), array([1268198.14420545]), array([1268198.14420545]), array([1268198.14420545]), array([1268198.14420545]), array([1268198.14420545]), array([1268198.14420545]), array([1268198.14420545]), array([1268198.14420545]), array([1268198.14420545]), array([1268198.14420545]), array([1268198.14420545]), array([1268198.14420545]), array([1268198.14420545]), array([1268198.14420545]), array([1268198.14420545]), array([1268198.14420545]), array([1268198.14420545]), array([1268198.14420545]), array([1268198.14420545]), array([1268198.14420545]), array([1268198.14420545]), array([1268198.14420545]), array([1268198.14420545]), array([1268198.14420545]), array([1268198.14420545]), array([1268198.14420545]), array([1268198.14420545]), array([1268198.14420545]), array([1268198.14420545]), array([1268198.14420545]), array([1268198.14420545]), array([1268198.14420545]), array([1268198.14420545]), array([1268198.14420545]), array([1268198.14420545]), array([1268198.14420545]), array([1268198.14420545]), array([1268198.14420545]), array([1268198.14420545]), array([1268198.14420545]), array([1268198.14420545]), array([1268198.14420545]), array([1268198.14420545]), array([1268198.14420545]), array([1268198.14420545]), array([1268198.14420545]), array([1268198.14420545]), array([1268198.14420545]), array([1268198.14420545]), array([1268198.14420545]), array([1268198.14420545]), array([1268198.14420545]), array([1268198.14420545]), array([1268198.14420545]), array([1268198.14420545]), array([1268198.14420545]), array([1268198.14420545]), array([1268198.14420545]), array([1268198.14420545]), array([1268198.14420545]), array([1268198.14420545]), array([1268198.14420545]), array([1268198.14420545]), array([1268198.14420545]), array([1268198.14420545]), array([1268198.14420545]), array([1268198.14420545]), array([1268198.14420545]), array([1268198.14420545]), array([1268198.14420545]), array([1268198.14420545]), array([1268198.14420545]), array([1268198.14420545]), array([1268198.14420545]), array([1268198.14420545]), array([1268198.14420545]), array([1268198.14420545]), array([1268198.14420545]), array([1268198.14420545]), array([1268198.14420545]), array([1268198.14420545]), array([1268198.14420545]), array([1268198.14420545]), array([1268198.14420545]), array([1268198.14420545]), array([1268198.14420545]), array([1268198.14420545]), array([1268198.14420545]), array([1268198.14420545]), array([1268198.14420545]), array([1268198.14420545]), array([1268198.14420545]), array([1268198.14420545]), array([1268198.14420545]), array([1268198.14420545]), array([1268198.14420545]), array([1268198.14420545]), array([1268198.14420545]), array([1268198.14420545]), array([1268198.14420545]), array([1268198.14420545]), array([1268198.14420545]), array([1268198.14420545]), array([1268198.14420545]), array([1268198.14420545]), array([1268198.14420545]), array([1268198.14420545]), array([1268198.14420545]), array([1268198.14420545]), array([1268198.14420545]), array([1268198.14420545]), array([1268198.14420545]), array([1268198.14420545]), array([1268198.14420545]), array([1268198.14420545]), array([1268198.14420545]), array([1268198.14420545]), array([1268198.14420545]), array([1268198.14420545]), array([1268198.14420545]), array([1268198.14420545]), array([1268198.14420545]), array([1268198.14420545]), array([1268198.14420545]), array([1268198.14420545]), array([1268198.14420545]), array([1268198.14420545]), array([1268198.14420545]), array([1268198.14420545]), array([1268198.14420545]), array([1268198.14420545]), array([1268198.14420545]), array([1268198.14420545]), array([1268198.14420545]), array([1268198.14420545]), array([1268198.14420545]), array([1268198.14420545]), array([1268198.14420545]), array([1268198.14420545]), array([1268198.14420545]), array([1268198.14420545]), array([1268198.14420545]), array([1268198.14420545]), array([1268198.14420545]), array([1268198.14420545]), array([1268198.14420545]), array([1268198.14420545]), array([1268198.14420545]), array([1268198.14420545]), array([1268198.14420545]), array([1268198.14420545]), array([1268198.14420545]), array([1268198.14420545]), array([1268198.14420545]), array([1268198.14420545]), array([1268198.14420545]), array([1268198.14420545]), array([1268198.14420545]), array([1268198.14420545]), array([1268198.14420545]), array([1268198.14420545]), array([1268198.14420545]), array([1268198.14420545]), array([1268198.14420545]), array([1268198.14420545]), array([1268198.14420545]), array([1268198.14420545]), array([1268198.14420545]), array([1268198.14420545]), array([1268198.14420545]), array([1268198.14420545]), array([1268198.14420545]), array([1268198.14420545]), array([1268198.14420545]), array([1268198.14420545]), array([1268198.14420545]), array([1268198.14420545]), array([1268198.14420545]), array([1268198.14420545]), array([1268198.14420545]), array([1268198.14420545]), array([1268198.14420545]), array([1268198.14420545]), array([1268198.14420545]), array([1268198.14420545]), array([1268198.14420545]), array([1268198.14420545]), array([1268198.14420545]), array([1268198.14420545]), array([1268198.14420545]), array([1268198.14420545]), array([1268198.14420545]), array([1268198.14420545]), array([1268198.14420545]), array([1268198.14420545]), array([1268198.14420545]), array([1268198.14420545]), array([1268198.14420545]), array([1268198.14420545]), array([1268198.14420545]), array([1268198.14420545]), array([1268198.14420545]), array([1268198.14420545]), array([1268198.14420545]), array([1268198.14420545]), array([1268198.14420545]), array([1268198.14420545]), array([1268198.14420545]), array([1268198.14420545]), array([1268198.14420545]), array([1268198.14420545]), array([1268198.14420545]), array([1268198.14420545]), array([1268198.14420545]), array([1268198.14420545]), array([1268198.14420545]), array([1268198.14420545]), array([1268198.14420545]), array([1268198.14420545]), array([1268198.14420545]), array([1268198.14420545]), array([1268198.14420545]), array([1268198.14420545]), array([1268198.14420545]), array([1268198.14420545]), array([1268198.14420545]), array([1268198.14420545]), array([1268198.14420545]), array([1268198.14420545]), array([1268198.14420545]), array([1268198.14420545]), array([1268198.14420545]), array([1268198.14420545]), array([1268198.14420545]), array([1268198.14420545]), array([1268198.14420545]), array([1268198.14420545]), array([1268198.14420545]), array([1268198.14420545]), array([1268198.14420545]), array([1268198.14420545]), array([1268198.14420545]), array([1268198.14420545]), array([1268198.14420545]), array([1268198.14420545]), array([1268198.14420545]), array([1268198.14420545]), array([1268198.14420545]), array([1268198.14420545]), array([1268198.14420545]), array([1268198.14420545]), array([1268198.14420545]), array([1268198.14420545]), array([1268198.14420545]), array([1268198.14420545]), array([1268198.14420545]), array([1268198.14420545]), array([1268198.14420545]), array([1268198.14420545]), array([1268198.14420545]), array([1268198.14420545]), array([1268198.14420545]), array([1268198.14420545]), array([1268198.14420545]), array([1268198.14420545]), array([1268198.14420545]), array([1268198.14420545]), array([1268198.14420545]), array([1268198.14420545]), array([1268198.14420545]), array([1268198.14420545]), array([1268198.14420545]), array([1268198.14420545]), array([1268198.14420545]), array([1268198.14420545]), array([1268198.14420545]), array([1268198.14420545]), array([1268198.14420545]), array([1268198.14420545]), array([1268198.14420545]), array([1268198.14420545]), array([1268198.14420545]), array([1268198.14420545]), array([1268198.14420545]), array([1268198.14420545]), array([1268198.14420545]), array([1268198.14420545]), array([1268198.14420545]), array([1268198.14420545]), array([1268198.14420545]), array([1268198.14420545]), array([1268198.14420545]), array([1268198.14420545]), array([1268198.14420545]), array([1268198.14420545]), array([1268198.14420545]), array([1268198.14420545]), array([1268198.14420545]), array([1268198.14420545]), array([1268198.14420545]), array([1268198.14420545]), array([1268198.14420545]), array([1268198.14420545]), array([1268198.14420545]), array([1268198.14420545]), array([1268198.14420545]), array([1268198.14420545]), array([1268198.14420545]), array([1268198.14420545]), array([1268198.14420545]), array([1268198.14420545]), array([1268198.14420545]), array([1268198.14420545]), array([1268198.14420545]), array([1268198.14420545]), array([1268198.14420545]), array([1268198.14420545]), array([1268198.14420545]), array([1268198.14420545]), array([1268198.14420545]), array([1268198.14420545]), array([1268198.14420545]), array([1268198.14420545]), array([1268198.14420545]), array([1268198.14420545]), array([1268198.14420545]), array([1268198.14420545]), array([1268198.14420545]), array([1268198.14420545]), array([1268198.14420545]), array([1268198.14420545]), array([1268198.14420545]), array([1268198.14420545]), array([1268198.14420545]), array([1268198.14420545]), array([1268198.14420545]), array([1268198.14420545]), array([1268198.14420545]), array([1268198.14420545]), array([1268198.14420545]), array([1268198.14420545]), array([1268198.14420545]), array([1268198.14420545]), array([1268198.14420545]), array([1268198.14420545]), array([1268198.14420545]), array([1268198.14420545]), array([1268198.14420545]), array([1268198.14420545]), array([1268198.14420545]), array([1268198.14420545]), array([1268198.14420545]), array([1268198.14420545]), array([1268198.14420545]), array([1268198.14420545]), array([1268198.14420545]), array([1268198.14420545]), array([1268198.14420545]), array([1268198.14420545]), array([1268198.14420545]), array([1268198.14420545]), array([1268198.14420545]), array([1268198.14420545]), array([1268198.14420545]), array([1268198.14420545]), array([1268198.14420545]), array([1268198.14420545]), array([1268198.14420545]), array([1268198.14420545]), array([1268198.14420545]), array([1268198.14420545]), array([1268198.14420545]), array([1268198.14420545]), array([1268198.14420545]), array([1268198.14420545]), array([1268198.14420545]), array([1268198.14420545]), array([1268198.14420545]), array([1268198.14420545]), array([1268198.14420545]), array([1268198.14420545]), array([1268198.14420545]), array([1268198.14420545]), array([1268198.14420545]), array([1268198.14420545]), array([1268198.14420545]), array([1268198.14420545]), array([1268198.14420545]), array([1268198.14420545]), array([1268198.14420545]), array([1268198.14420545]), array([1268198.14420545]), array([1268198.14420545]), array([1268198.14420545]), array([1268198.14420545]), array([1268198.14420545]), array([1268198.14420545]), array([1268198.14420545]), array([1268198.14420545]), array([1268198.14420545]), array([1268198.14420545]), array([1268198.14420545]), array([1268198.14420545]), array([1268198.14420545]), array([1268198.14420545]), array([1268198.14420545]), array([1268198.14420545]), array([1268198.14420545]), array([1268198.14420545]), array([1268198.14420545]), array([1268198.14420545]), array([1268198.14420545]), array([1268198.14420545]), array([1268198.14420545]), array([1268198.14420545]), array([1268198.14420545]), array([1268198.14420545]), array([1268198.14420545]), array([1268198.14420545]), array([1268198.14420545]), array([1268198.14420545]), array([1268198.14420545]), array([1268198.14420545]), array([1268198.14420545]), array([1268198.14420545]), array([1268198.14420545]), array([1268198.14420545]), array([1268198.14420545]), array([1268198.14420545]), array([1268198.14420545]), array([1268198.14420545]), array([1268198.14420545]), array([1268198.14420545]), array([1268198.14420545]), array([1268198.14420545]), array([1268198.14420545]), array([1268198.14420545]), array([1268198.14420545]), array([1268198.14420545]), array([1268198.14420545]), array([1268198.14420545]), array([1268198.14420545]), array([1268198.14420545]), array([1268198.14420545]), array([1268198.14420545]), array([1268198.14420545]), array([1268198.14420545]), array([1268198.14420545]), array([1268198.14420545]), array([1268198.14420545]), array([1268198.14420545]), array([1268198.14420545]), array([1268198.14420545]), array([1268198.14420545]), array([1268198.14420545]), array([1268198.14420545]), array([1268198.14420545]), array([1268198.14420545]), array([1268198.14420545]), array([1268198.14420545]), array([1268198.14420545]), array([1268198.14420545]), array([1268198.14420545]), array([1268198.14420545]), array([1268198.14420545]), array([1268198.14420545]), array([1268198.14420545]), array([1268198.14420545]), array([1268198.14420545]), array([1268198.14420545]), array([1268198.14420545]), array([1268198.14420545]), array([1268198.14420545]), array([1268198.14420545]), array([1268198.14420545]), array([1268198.14420545]), array([1268198.14420545]), array([1268198.14420545]), array([1268198.14420545]), array([1268198.14420545]), array([1268198.14420545]), array([1268198.14420545]), array([1268198.14420545]), array([1268198.14420545]), array([1268198.14420545]), array([1268198.14420545]), array([1268198.14420545]), array([1268198.14420545]), array([1268198.14420545]), array([1268198.14420545]), array([1268198.14420545]), array([1268198.14420545]), array([1268198.14420545]), array([1268198.14420545]), array([1268198.14420545]), array([1268198.14420545]), array([1268198.14420545]), array([1268198.14420545]), array([1268198.14420545]), array([1268198.14420545]), array([1268198.14420545]), array([1268198.14420545]), array([1268198.14420545]), array([1268198.14420545]), array([1268198.14420545]), array([1268198.14420545]), array([1268198.14420545]), array([1268198.14420545]), array([1268198.14420545]), array([1268198.14420545]), array([1268198.14420545]), array([1268198.14420545]), array([1268198.14420545]), array([1268198.14420545]), array([1268198.14420545]), array([1268198.14420545]), array([1268198.14420545]), array([1268198.14420545]), array([1268198.14420545]), array([1268198.14420545]), array([1268198.14420545]), array([1268198.14420545]), array([1268198.14420545]), array([1268198.14420545]), array([1268198.14420545]), array([1268198.14420545]), array([1268198.14420545]), array([1268198.14420545]), array([1268198.14420545]), array([1268198.14420545]), array([1268198.14420545]), array([1268198.14420545]), array([1268198.14420545]), array([1268198.14420545]), array([1268198.14420545]), array([1268198.14420545]), array([1268198.14420545]), array([1268198.14420545]), array([1268198.14420545]), array([1268198.14420545]), array([1268198.14420545]), array([1268198.14420545]), array([1268198.14420545]), array([1268198.14420545]), array([1268198.14420545]), array([1268198.14420545]), array([1268198.14420545]), array([1268198.14420545]), array([1268198.14420545]), array([1268198.14420545]), array([1268198.14420545]), array([1268198.14420545]), array([1268198.14420545]), array([1268198.14420545]), array([1268198.14420545]), array([1268198.14420545]), array([1268198.14420545]), array([1268198.14420545]), array([1268198.14420545]), array([1268198.14420545]), array([1268198.14420545]), array([1268198.14420545]), array([1268198.14420545]), array([1268198.14420545]), array([1268198.14420545]), array([1268198.14420545]), array([1268198.14420545]), array([1268198.14420545]), array([1268198.14420545]), array([1268198.14420545]), array([1268198.14420545]), array([1268198.14420545]), array([1268198.14420545]), array([1268198.14420545]), array([1268198.14420545]), array([1268198.14420545]), array([1268198.14420545]), array([1268198.14420545]), array([1268198.14420545]), array([1268198.14420545]), array([1268198.14420545]), array([1268198.14420545]), array([1268198.14420545]), array([1268198.14420545]), array([1268198.14420545]), array([1268198.14420545]), array([1268198.14420545]), array([1268198.14420545]), array([1268198.14420545]), array([1268198.14420545]), array([1268198.14420545]), array([1268198.14420545]), array([1268198.14420545]), array([1268198.14420545]), array([1268198.14420545]), array([1268198.14420545]), array([1268198.14420545]), array([1268198.14420545]), array([1268198.14420545]), array([1268198.14420545]), array([1268198.14420545]), array([1268198.14420545]), array([1268198.14420545]), array([1268198.14420545]), array([1268198.14420545]), array([1268198.14420545]), array([1268198.14420545]), array([1268198.14420545]), array([1268198.14420545]), array([1268198.14420545]), array([1268198.14420545]), array([1268198.14420545]), array([1268198.14420545]), array([1268198.14420545]), array([1268198.14420545]), array([1268198.14420545]), array([1268198.14420545]), array([1268198.14420545]), array([1268198.14420545]), array([1268198.14420545]), array([1268198.14420545]), array([1268198.14420545]), array([1268198.14420545]), array([1268198.14420545]), array([1268198.14420545]), array([1268198.14420545]), array([1268198.14420545]), array([1268198.14420545]), array([1268198.14420545]), array([1268198.14420545]), array([1268198.14420545]), array([1268198.14420545]), array([1268198.14420545]), array([1268198.14420545]), array([1268198.14420545]), array([1268198.14420545]), array([1268198.14420545]), array([1268198.14420545]), array([1268198.14420545]), array([1268198.14420545]), array([1268198.14420545]), array([1268198.14420545]), array([1268198.14420545]), array([1268198.14420545]), array([1268198.14420545]), array([1268198.14420545]), array([1268198.14420545]), array([1268198.14420545]), array([1268198.14420545]), array([1268198.14420545]), array([1268198.14420545]), array([1268198.14420545]), array([1268198.14420545]), array([1268198.14420545]), array([1268198.14420545]), array([1268198.14420545]), array([1268198.14420545]), array([1268198.14420545]), array([1268198.14420545]), array([1268198.14420545]), array([1268198.14420545]), array([1268198.14420545]), array([1268198.14420545]), array([1268198.14420545]), array([1268198.14420545]), array([1268198.14420545]), array([1268198.14420545]), array([1268198.14420545]), array([1268198.14420545]), array([1268198.14420545]), array([1268198.14420545]), array([1268198.14420545]), array([1268198.14420545]), array([1268198.14420545]), array([1268198.14420545]), array([1268198.14420545]), array([1268198.14420545]), array([1268198.14420545]), array([1268198.14420545]), array([1268198.14420545]), array([1268198.14420545]), array([1268198.14420545]), array([1268198.14420545]), array([1268198.14420545]), array([1268198.14420545]), array([1268198.14420545]), array([1268198.14420545]), array([1268198.14420545]), array([1268198.14420545]), array([1268198.14420545]), array([1268198.14420545]), array([1268198.14420545]), array([1268198.14420545]), array([1268198.14420545]), array([1268198.14420545]), array([1268198.14420545]), array([1268198.14420545]), array([1268198.14420545]), array([1268198.14420545]), array([1268198.14420545]), array([1268198.14420545]), array([1268198.14420545]), array([1268198.14420545]), array([1268198.14420545]), array([1268198.14420545]), array([1268198.14420545]), array([1268198.14420545]), array([1268198.14420545]), array([1268198.14420545]), array([1268198.14420545]), array([1268198.14420545]), array([1268198.14420545]), array([1268198.14420545]), array([1268198.14420545]), array([1268198.14420545]), array([1268198.14420545]), array([1268198.14420545]), array([1268198.14420545]), array([1268198.14420545]), array([1268198.14420545]), array([1268198.14420545]), array([1268198.14420545]), array([1268198.14420545]), array([1268198.14420545]), array([1268198.14420545]), array([1268198.14420545]), array([1268198.14420545]), array([1268198.14420545]), array([1268198.14420545]), array([1268198.14420545]), array([1268198.14420545]), array([1268198.14420545]), array([1268198.14420545]), array([1268198.14420545]), array([1268198.14420545]), array([1268198.14420545]), array([1268198.14420545]), array([1268198.14420545]), array([1268198.14420545]), array([1268198.14420545]), array([1268198.14420545]), array([1268198.14420545]), array([1268198.14420545]), array([1268198.14420545]), array([1268198.14420545]), array([1268198.14420545]), array([1268198.14420545]), array([1268198.14420545]), array([1268198.14420545]), array([1268198.14420545]), array([1268198.14420545]), array([1268198.14420545]), array([1268198.14420545]), array([1268198.14420545]), array([1268198.14420545]), array([1268198.14420545]), array([1268198.14420545]), array([1268198.14420545]), array([1268198.14420545]), array([1268198.14420545]), array([1268198.14420545]), array([1268198.14420545]), array([1268198.14420545]), array([1268198.14420545]), array([1268198.14420545]), array([1268198.14420545]), array([1268198.14420545]), array([1268198.14420545]), array([1268198.14420545]), array([1268198.14420545]), array([1268198.14420545]), array([1268198.14420545]), array([1268198.14420545]), array([1268198.14420545]), array([1268198.14420545]), array([1268198.14420545]), array([1268198.14420545]), array([1268198.14420545]), array([1268198.14420545]), array([1268198.14420545]), array([1268198.14420545]), array([1268198.14420545]), array([1268198.14420545]), array([1268198.14420545]), array([1268198.14420545]), array([1268198.14420545]), array([1268198.14420545]), array([1268198.14420545]), array([1268198.14420545]), array([1268198.14420545]), array([1268198.14420545]), array([1268198.14420545]), array([1268198.14420545]), array([1268198.14420545]), array([1268198.14420545]), array([1268198.14420545]), array([1268198.14420545]), array([1268198.14420545]), array([1268198.14420545]), array([1268198.14420545]), array([1268198.14420545]), array([1268198.14420545]), array([1268198.14420545]), array([1268198.14420545]), array([1268198.14420545]), array([1268198.14420545]), array([1268198.14420545]), array([1268198.14420545]), array([1268198.14420545]), array([1268198.14420545]), array([1268198.14420545]), array([1268198.14420545]), array([1268198.14420545]), array([1268198.14420545]), array([1268198.14420545]), array([1268198.14420545]), array([1268198.14420545]), array([1268198.14420545]), array([1268198.14420545]), array([1268198.14420545]), array([1268198.14420545]), array([1268198.14420545]), array([1268198.14420545]), array([1268198.14420545]), array([1268198.14420545]), array([1268198.14420545]), array([1268198.14420545]), array([1268198.14420545]), array([1268198.14420545]), array([1268198.14420545]), array([1268198.14420545]), array([1268198.14420545]), array([1268198.14420545]), array([1268198.14420545]), array([1268198.14420545]), array([1268198.14420545]), array([1268198.14420545]), array([1268198.14420545]), array([1268198.14420545]), array([1268198.14420545]), array([1268198.14420545]), array([1268198.14420545]), array([1268198.14420545]), array([1268198.14420545]), array([1268198.14420545]), array([1268198.14420545]), array([1268198.14420545]), array([1268198.14420545]), array([1268198.14420545]), array([1268198.14420545]), array([1268198.14420545]), array([1268198.14420545]), array([1268198.14420545]), array([1268198.14420545]), array([1268198.14420545]), array([1268198.14420545]), array([1268198.14420545]), array([1268198.14420545]), array([1268198.14420545]), array([1268198.14420545]), array([1268198.14420545]), array([1268198.14420545]), array([1268198.14420545]), array([1268198.14420545]), array([1268198.14420545]), array([1268198.14420545]), array([1268198.14420545]), array([1268198.14420545]), array([1268198.14420545]), array([1268198.14420545]), array([1268198.14420545]), array([1268198.14420545]), array([1268198.14420545]), array([1268198.14420545]), array([1268198.14420545]), array([1268198.14420545]), array([1268198.14420545]), array([1268198.14420545]), array([1268198.14420545]), array([1268198.14420545]), array([1268198.14420545]), array([1268198.14420545]), array([1268198.14420545]), array([1268198.14420545]), array([1268198.14420545]), array([1268198.14420545]), array([1268198.14420545]), array([1268198.14420545]), array([1268198.14420545]), array([1268198.14420545]), array([1268198.14420545]), array([1268198.14420545]), array([1268198.14420545]), array([1268198.14420545]), array([1268198.14420545]), array([1268198.14420545]), array([1268198.14420545]), array([1268198.14420545]), array([1268198.14420545]), array([1268198.14420545]), array([1268198.14420545]), array([1268198.14420545]), array([1268198.14420545]), array([1268198.14420545]), array([1268198.14420545]), array([1268198.14420545]), array([1268198.14420545]), array([1268198.14420545]), array([1268198.14420545]), array([1268198.14420545]), array([1268198.14420545]), array([1268198.14420545]), array([1268198.14420545]), array([1268198.14420545]), array([1268198.14420545]), array([1268198.14420545]), array([1268198.14420545]), array([1268198.14420545]), array([1268198.14420545]), array([1268198.14420545]), array([1268198.14420545]), array([1268198.14420545]), array([1268198.14420545]), array([1268198.14420545]), array([1268198.14420545]), array([1268198.14420545]), array([1268198.14420545]), array([1268198.14420545]), array([1268198.14420545]), array([1268198.14420545]), array([1268198.14420545]), array([1268198.14420545]), array([1268198.14420545]), array([1268198.14420545]), array([1268198.14420545]), array([1268198.14420545]), array([1268198.14420545]), array([1268198.14420545]), array([1268198.14420545]), array([1268198.14420545]), array([1268198.14420545]), array([1268198.14420545]), array([1268198.14420545]), array([1268198.14420545]), array([1268198.14420545]), array([1268198.14420545]), array([1268198.14420545]), array([1268198.14420545]), array([1268198.14420545]), array([1268198.14420545]), array([1268198.14420545]), array([1268198.14420545]), array([1268198.14420545]), array([1268198.14420545]), array([1268198.14420545]), array([1268198.14420545]), array([1268198.14420545]), array([1268198.14420545]), array([1268198.14420545]), array([1268198.14420545]), array([1268198.14420545]), array([1268198.14420545]), array([1268198.14420545]), array([1268198.14420545]), array([1268198.14420545]), array([1268198.14420545]), array([1268198.14420545]), array([1268198.14420545]), array([1268198.14420545]), array([1268198.14420545]), array([1268198.14420545]), array([1268198.14420545]), array([1268198.14420545]), array([1268198.14420545]), array([1268198.14420545]), array([1268198.14420545]), array([1268198.14420545]), array([1268198.14420545]), array([1268198.14420545]), array([1268198.14420545]), array([1268198.14420545]), array([1268198.14420545]), array([1268198.14420545]), array([1268198.14420545]), array([1268198.14420545]), array([1268198.14420545]), array([1268198.14420545]), array([1268198.14420545]), array([1268198.14420545]), array([1268198.14420545]), array([1268198.14420545]), array([1268198.14420545]), array([1268198.14420545]), array([1268198.14420545]), array([1268198.14420545]), array([1268198.14420545]), array([1268198.14420545]), array([1268198.14420545]), array([1268198.14420545]), array([1268198.14420545]), array([1268198.14420545]), array([1268198.14420545]), array([1268198.14420545]), array([1268198.14420545]), array([1268198.14420545]), array([1268198.14420545]), array([1268198.14420545]), array([1268198.14420545]), array([1268198.14420545]), array([1268198.14420545]), array([1268198.14420545]), array([1268198.14420545]), array([1268198.14420545]), array([1268198.14420545]), array([1268198.14420545]), array([1268198.14420545]), array([1268198.14420545]), array([1268198.14420545]), array([1268198.14420545]), array([1268198.14420545]), array([1268198.14420545]), array([1268198.14420545]), array([1268198.14420545]), array([1268198.14420545]), array([1268198.14420545]), array([1268198.14420545]), array([1268198.14420545]), array([1268198.14420545]), array([1268198.14420545]), array([1268198.14420545]), array([1268198.14420545]), array([1268198.14420545]), array([1268198.14420545]), array([1268198.14420545]), array([1268198.14420545]), array([1268198.14420545]), array([1268198.14420545]), array([1268198.14420545]), array([1268198.14420545]), array([1268198.14420545]), array([1268198.14420545]), array([1268198.14420545]), array([1268198.14420545]), array([1268198.14420545]), array([1268198.14420545]), array([1268198.14420545]), array([1268198.14420545]), array([1268198.14420545]), array([1268198.14420545]), array([1268198.14420545]), array([1268198.14420545]), array([1268198.14420545]), array([1268198.14420545]), array([1268198.14420545]), array([1268198.14420545]), array([1268198.14420545]), array([1268198.14420545]), array([1268198.14420545]), array([1268198.14420545]), array([1268198.14420545]), array([1268198.14420545]), array([1268198.14420545]), array([1268198.14420545]), array([1268198.14420545]), array([1268198.14420545]), array([1268198.14420545]), array([1268198.14420545]), array([1268198.14420545]), array([1268198.14420545]), array([1268198.14420545]), array([1268198.14420545]), array([1268198.14420545]), array([1268198.14420545]), array([1268198.14420545]), array([1268198.14420545]), array([1268198.14420545]), array([1268198.14420545]), array([1268198.14420545]), array([1268198.14420545]), array([1268198.14420545]), array([1268198.14420545]), array([1268198.14420545]), array([1268198.14420545]), array([1268198.14420545]), array([1268198.14420545]), array([1268198.14420545]), array([1268198.14420545]), array([1268198.14420545]), array([1268198.14420545]), array([1268198.14420545]), array([1268198.14420545]), array([1268198.14420545]), array([1268198.14420545]), array([1268198.14420545]), array([1268198.14420545]), array([1268198.14420545]), array([1268198.14420545]), array([1268198.14420545]), array([1268198.14420545]), array([1268198.14420545]), array([1268198.14420545]), array([1268198.14420545]), array([1268198.14420545]), array([1268198.14420545]), array([1268198.14420545]), array([1268198.14420545]), array([1268198.14420545]), array([1268198.14420545]), array([1268198.14420545]), array([1268198.14420545]), array([1268198.14420545]), array([1268198.14420545]), array([1268198.14420545]), array([1268198.14420545]), array([1268198.14420545]), array([1268198.14420545]), array([1268198.14420545]), array([1268198.14420545]), array([1268198.14420545]), array([1268198.14420545]), array([1268198.14420545]), array([1268198.14420545]), array([1268198.14420545]), array([1268198.14420545]), array([1268198.14420545]), array([1268198.14420545]), array([1268198.14420545]), array([1268198.14420545]), array([1268198.14420545]), array([1268198.14420545]), array([1268198.14420545]), array([1268198.14420545]), array([1268198.14420545]), array([1268198.14420545]), array([1268198.14420545]), array([1268198.14420545]), array([1268198.14420545]), array([1268198.14420545]), array([1268198.14420545]), array([1268198.14420545]), array([1268198.14420545]), array([1268198.14420545]), array([1268198.14420545]), array([1268198.14420545]), array([1268198.14420545]), array([1268198.14420545]), array([1268198.14420545]), array([1268198.14420545]), array([1268198.14420545]), array([1268198.14420545]), array([1268198.14420545]), array([1268198.14420545]), array([1268198.14420545]), array([1268198.14420545]), array([1268198.14420545]), array([1268198.14420545]), array([1268198.14420545]), array([1268198.14420545]), array([1268198.14420545]), array([1268198.14420545]), array([1268198.14420545]), array([1268198.14420545]), array([1268198.14420545]), array([1268198.14420545]), array([1268198.14420545]), array([1268198.14420545]), array([1268198.14420545]), array([1268198.14420545]), array([1268198.14420545]), array([1268198.14420545]), array([1268198.14420545]), array([1268198.14420545]), array([1268198.14420545]), array([1268198.14420545]), array([1268198.14420545]), array([1268198.14420545]), array([1268198.14420545]), array([1268198.14420545]), array([1268198.14420545]), array([1268198.14420545]), array([1268198.14420545]), array([1268198.14420545]), array([1268198.14420545]), array([1268198.14420545]), array([1268198.14420545]), array([1268198.14420545]), array([1268198.14420545]), array([1268198.14420545]), array([1268198.14420545]), array([1268198.14420545]), array([1268198.14420545]), array([1268198.14420545]), array([1268198.14420545]), array([1268198.14420545]), array([1268198.14420545]), array([1268198.14420545]), array([1268198.14420545]), array([1268198.14420545]), array([1268198.14420545]), array([1268198.14420545]), array([1268198.14420545]), array([1268198.14420545]), array([1268198.14420545]), array([1268198.14420545]), array([1268198.14420545]), array([1268198.14420545]), array([1268198.14420545]), array([1268198.14420545]), array([1268198.14420545]), array([1268198.14420545]), array([1268198.14420545]), array([1268198.14420545]), array([1268198.14420545]), array([1268198.14420545]), array([1268198.14420545]), array([1268198.14420545]), array([1268198.14420545]), array([1268198.14420545]), array([1268198.14420545]), array([1268198.14420545]), array([1268198.14420545]), array([1268198.14420545]), array([1268198.14420545]), array([1268198.14420545]), array([1268198.14420545]), array([1268198.14420545]), array([1268198.14420545]), array([1268198.14420545]), array([1268198.14420545]), array([1268198.14420545]), array([1268198.14420545]), array([1268198.14420545]), array([1268198.14420545]), array([1268198.14420545]), array([1268198.14420545]), array([1268198.14420545]), array([1268198.14420545]), array([1268198.14420545]), array([1268198.14420545]), array([1268198.14420545]), array([1268198.14420545]), array([1268198.14420545]), array([1268198.14420545]), array([1268198.14420545]), array([1268198.14420545]), array([1268198.14420545]), array([1268198.14420545]), array([1268198.14420545]), array([1268198.14420545]), array([1268198.14420545]), array([1268198.14420545]), array([1268198.14420545]), array([1268198.14420545]), array([1268198.14420545]), array([1268198.14420545]), array([1268198.14420545]), array([1268198.14420545]), array([1268198.14420545]), array([1268198.14420545]), array([1268198.14420545]), array([1268198.14420545]), array([1268198.14420545]), array([1268198.14420545]), array([1268198.14420545]), array([1268198.14420545]), array([1268198.14420545]), array([1268198.14420545]), array([1268198.14420545]), array([1268198.14420545]), array([1268198.14420545]), array([1268198.14420545]), array([1268198.14420545]), array([1268198.14420545]), array([1268198.14420545]), array([1268198.14420545]), array([1268198.14420545]), array([1268198.14420545]), array([1268198.14420545]), array([1268198.14420545]), array([1268198.14420545]), array([1268198.14420545]), array([1268198.14420545]), array([1268198.14420545]), array([1268198.14420545]), array([1268198.14420545]), array([1268198.14420545]), array([1268198.14420545]), array([1268198.14420545]), array([1268198.14420545]), array([1268198.14420545]), array([1268198.14420545]), array([1268198.14420545]), array([1268198.14420545]), array([1268198.14420545]), array([1268198.14420545]), array([1268198.14420545]), array([1268198.14420545]), array([1268198.14420545]), array([1268198.14420545]), array([1268198.14420545]), array([1268198.14420545]), array([1268198.14420545]), array([1268198.14420545]), array([1268198.14420545]), array([1268198.14420545]), array([1268198.14420545]), array([1268198.14420545]), array([1268198.14420545]), array([1268198.14420545]), array([1268198.14420545]), array([1268198.14420545]), array([1268198.14420545]), array([1268198.14420545]), array([1268198.14420545]), array([1268198.14420545]), array([1268198.14420545]), array([1268198.14420545]), array([1268198.14420545]), array([1268198.14420545]), array([1268198.14420545]), array([1268198.14420545]), array([1268198.14420545]), array([1268198.14420545]), array([1268198.14420545]), array([1268198.14420545]), array([1268198.14420545]), array([1268198.14420545]), array([1268198.14420545]), array([1268198.14420545]), array([1268198.14420545]), array([1268198.14420545]), array([1268198.14420545]), array([1268198.14420545]), array([1268198.14420545]), array([1268198.14420545]), array([1268198.14420545]), array([1268198.14420545]), array([1268198.14420545]), array([1268198.14420545]), array([1268198.14420545]), array([1268198.14420545]), array([1268198.14420545]), array([1268198.14420545]), array([1268198.14420545]), array([1268198.14420545]), array([1268198.14420545]), array([1268198.14420545]), array([1268198.14420545]), array([1268198.14420545]), array([1268198.14420545]), array([1268198.14420545]), array([1268198.14420545]), array([1268198.14420545]), array([1268198.14420545]), array([1268198.14420545]), array([1268198.14420545]), array([1268198.14420545]), array([1268198.14420545]), array([1268198.14420545]), array([1268198.14420545]), array([1268198.14420545]), array([1268198.14420545]), array([1268198.14420545]), array([1268198.14420545]), array([1268198.14420545]), array([1268198.14420545]), array([1268198.14420545]), array([1268198.14420545]), array([1268198.14420545]), array([1268198.14420545]), array([1268198.14420545]), array([1268198.14420545]), array([1268198.14420545]), array([1268198.14420545]), array([1268198.14420545]), array([1268198.14420545]), array([1268198.14420545]), array([1268198.14420545]), array([1268198.14420545]), array([1268198.14420545]), array([1268198.14420545]), array([1268198.14420545]), array([1268198.14420545]), array([1268198.14420545]), array([1268198.14420545]), array([1268198.14420545]), array([1268198.14420545]), array([1268198.14420545]), array([1268198.14420545]), array([1268198.14420545]), array([1268198.14420545]), array([1268198.14420545]), array([1268198.14420545]), array([1268198.14420545]), array([1268198.14420545]), array([1268198.14420545]), array([1268198.14420545]), array([1268198.14420545]), array([1268198.14420545]), array([1268198.14420545]), array([1268198.14420545]), array([1268198.14420545]), array([1268198.14420545]), array([1268198.14420545]), array([1268198.14420545]), array([1268198.14420545]), array([1268198.14420545]), array([1268198.14420545]), array([1268198.14420545]), array([1268198.14420545]), array([1268198.14420545]), array([1268198.14420545]), array([1268198.14420545]), array([1268198.14420545]), array([1268198.14420545]), array([1268198.14420545]), array([1268198.14420545]), array([1268198.14420545]), array([1268198.14420545]), array([1268198.14420545]), array([1268198.14420545]), array([1268198.14420545]), array([1268198.14420545]), array([1268198.14420545]), array([1268198.14420545]), array([1268198.14420545]), array([1268198.14420545]), array([1268198.14420545]), array([1268198.14420545]), array([1268198.14420545]), array([1268198.14420545]), array([1268198.14420545]), array([1268198.14420545]), array([1268198.14420545]), array([1268198.14420545]), array([1268198.14420545]), array([1268198.14420545]), array([1268198.14420545]), array([1268198.14420545]), array([1268198.14420545]), array([1268198.14420545]), array([1268198.14420545]), array([1268198.14420545]), array([1268198.14420545]), array([1268198.14420545]), array([1268198.14420545]), array([1268198.14420545]), array([1268198.14420545]), array([1268198.14420545]), array([1268198.14420545]), array([1268198.14420545]), array([1268198.14420545]), array([1268198.14420545]), array([1268198.14420545]), array([1268198.14420545]), array([1268198.14420545]), array([1268198.14420545]), array([1268198.14420545]), array([1268198.14420545]), array([1268198.14420545]), array([1268198.14420545]), array([1268198.14420545]), array([1268198.14420545]), array([1268198.14420545]), array([1268198.14420545]), array([1268198.14420545]), array([1268198.14420545]), array([1268198.14420545]), array([1268198.14420545]), array([1268198.14420545]), array([1268198.14420545]), array([1268198.14420545]), array([1268198.14420545]), array([1268198.14420545]), array([1268198.14420545]), array([1268198.14420545]), array([1268198.14420545]), array([1268198.14420545]), array([1268198.14420545]), array([1268198.14420545]), array([1268198.14420545]), array([1268198.14420545]), array([1268198.14420545]), array([1268198.14420545]), array([1268198.14420545]), array([1268198.14420545]), array([1268198.14420545]), array([1268198.14420545]), array([1268198.14420545]), array([1268198.14420545]), array([1268198.14420545]), array([1268198.14420545])]\n"
          ]
        }
      ]
    },
    {
      "cell_type": "code",
      "source": [
        "evaluation = PerformanceEvalutions(pn1,portfolio_history)"
      ],
      "metadata": {
        "id": "JoHRWjwX7dLs"
      },
      "execution_count": null,
      "outputs": []
    },
    {
      "cell_type": "code",
      "source": [
        "sharpe_ratio = evaluation.calc_sharpe_ratio()\n",
        "print(sharpe_ratio)"
      ],
      "metadata": {
        "id": "OI8eqn3f7ri_",
        "colab": {
          "base_uri": "https://localhost:8080/"
        },
        "outputId": "5264ae68-7473-4618-fd3a-6e8235f761f3"
      },
      "execution_count": null,
      "outputs": [
        {
          "output_type": "stream",
          "name": "stdout",
          "text": [
            "0.3047954664114983\n"
          ]
        }
      ]
    },
    {
      "cell_type": "code",
      "source": [
        "max_drawdown, drawdown_list = evaluation.max_drawdown()\n",
        "print(max_drawdown)"
      ],
      "metadata": {
        "id": "RVc_0I2A705f",
        "colab": {
          "base_uri": "https://localhost:8080/"
        },
        "outputId": "dcda764c-23d7-4e0f-e5bd-a1290e15b8dd"
      },
      "execution_count": null,
      "outputs": [
        {
          "output_type": "stream",
          "name": "stdout",
          "text": [
            "[0.]\n"
          ]
        }
      ]
    },
    {
      "cell_type": "code",
      "source": [
        "cumulative_returns = evaluation.cummulative_returns()\n",
        "print(cumulative_returns)"
      ],
      "metadata": {
        "id": "CwOsAwPl7-l1",
        "colab": {
          "base_uri": "https://localhost:8080/"
        },
        "outputId": "ac933e63-b965-4450-ca65-cac925881a23"
      },
      "execution_count": null,
      "outputs": [
        {
          "output_type": "stream",
          "name": "stdout",
          "text": [
            "[0.]\n"
          ]
        }
      ]
    },
    {
      "cell_type": "code",
      "source": [
        "profit_loss_ratio = evaluation.profit_loss_ratio()\n",
        "print(profit_loss_ratio)"
      ],
      "metadata": {
        "id": "GMr_oZaN8SfK",
        "colab": {
          "base_uri": "https://localhost:8080/"
        },
        "outputId": "ff954935-7b9b-4dd4-a987-41e44b27224d"
      },
      "execution_count": null,
      "outputs": [
        {
          "output_type": "stream",
          "name": "stdout",
          "text": [
            "1.7531645569620253\n"
          ]
        }
      ]
    },
    {
      "cell_type": "code",
      "source": [
        "import matplotlib.pyplot as plt\n",
        "\n",
        "plt.plot(portfolio_history)\n",
        "plt.title(\"Portfolio Value Over Time\")\n",
        "plt.xlabel(\"Time\")\n",
        "plt.ylabel(\"Portfolio Value\")\n",
        "plt.show()"
      ],
      "metadata": {
        "id": "34x0q9uC8dfp",
        "colab": {
          "base_uri": "https://localhost:8080/",
          "height": 472
        },
        "outputId": "20e3d938-f34d-40af-c662-3514936aa211"
      },
      "execution_count": null,
      "outputs": [
        {
          "output_type": "display_data",
          "data": {
            "text/plain": [
              "<Figure size 640x480 with 1 Axes>"
            ],
            "image/png": "[encoded data removed]"
          },
          "metadata": {}
        }
      ]
    },
    {
      "cell_type": "code",
      "source": [
        "plt.plot(drawdown_list)\n",
        "plt.title(\"Drawdown Over Time\")\n",
        "plt.show()"
      ],
      "metadata": {
        "id": "LIB-kPT2DiRu",
        "colab": {
          "base_uri": "https://localhost:8080/",
          "height": 452
        },
        "outputId": "e604ac52-2552-4c4a-edaf-7378631bcce6"
      },
      "execution_count": null,
      "outputs": [
        {
          "output_type": "display_data",
          "data": {
            "text/plain": [
              "<Figure size 640x480 with 1 Axes>"
            ],
            "image/png": "[encoded data removed]"
          },
          "metadata": {}
        }
      ]
    },
    {
      "cell_type": "code",
      "source": [
        "plt.plot(actual_spreads, color=\"Blue\")\n",
        "plt.plot(predicted_spreads, color=\"red\")\n",
        "plt.legend(labels=[\"Actual Spreads\", \"Predicted Spreads\"])\n",
        "plt.title(\"Actual vs Predicted CDS Spreads\")\n",
        "plt.show()"
      ],
      "metadata": {
        "id": "HKDteqP0D3O6",
        "colab": {
          "base_uri": "https://localhost:8080/",
          "height": 452
        },
        "outputId": "8869e814-71f3-4349-ea9a-fc9ead70d115"
      },
      "execution_count": null,
      "outputs": [
        {
          "output_type": "display_data",
          "data": {
            "text/plain": [
              "<Figure size 640x480 with 1 Axes>"
            ],
            "image/png": "[encoded data removed]"
          },
          "metadata": {}
        }
      ]
    },
    {
      "cell_type": "code",
      "source": [
        "#comparison with other models left"
      ],
      "metadata": {
        "id": "Gx36FCxcD-F-"
      },
      "execution_count": null,
      "outputs": []
    },
    {
      "cell_type": "code",
      "source": [
        "# from tensorflow.keras.layers import GRU, Dense\n",
        "# from tensorflow.keras.layers import TimeDistributed\n",
        "# from sklearn.svm import SVC\n",
        "\n",
        "# # Create a GRU model\n",
        "# model_gru = tf.keras.Sequential([GRU(units=64, input_shape=(X_train.shape[1], X_train.shape[2])),Dense(units=1, activation='sigmoid')])\n",
        "\n",
        "# model_gru.compile(optimizer='adam', loss='binary_crossentropy', metrics=['accuracy'])\n",
        "# model_gru = tf.keras.Sequential([\n",
        "#     GRU(units=64, return_sequences=True, input_shape=(X_train.shape[1], X_train.shape[2])),\n",
        "#     TimeDistributed(Dense(units=1, activation='sigmoid'))\n",
        "# ])\n",
        "# model_gru.fit(X_train,Y_train, epochs=10,batch_size=32)"
      ],
      "metadata": {
        "id": "_XNRq86aHVBg"
      },
      "execution_count": null,
      "outputs": []
    },
    {
      "cell_type": "code",
      "source": [
        "from tensorflow.keras.layers import GRU, Dense, TimeDistributed\n",
        "from tensorflow.keras.models import Sequential  # Import Sequential for model creation\n",
        "\n",
        "# Create the GRU model\n",
        "gru_model = tf.keras.Sequential([\n",
        "    GRU(units=64, return_sequences=True, input_shape=(X_train.shape[1], X_train.shape[2])),TimeDistributed(Dense(units=5, activation='sigmoid'))\n",
        "])\n",
        "# Compile the model\n",
        "gru_model.compile(optimizer='adam', loss='binary_crossentropy', metrics=['accuracy'])\n"
      ],
      "metadata": {
        "id": "5Uekaf6yVihe"
      },
      "execution_count": null,
      "outputs": []
    },
    {
      "cell_type": "code",
      "source": [
        "X_train.shape"
      ],
      "metadata": {
        "colab": {
          "base_uri": "https://localhost:8080/"
        },
        "id": "H2qGc-m80yJy",
        "outputId": "eebf7ea0-2d15-4493-b64f-019afc57a53a"
      },
      "execution_count": null,
      "outputs": [
        {
          "output_type": "execute_result",
          "data": {
            "text/plain": [
              "(1419, 10, 5)"
            ]
          },
          "metadata": {},
          "execution_count": 116
        }
      ]
    },
    {
      "cell_type": "code",
      "source": [
        "Y_train.shape"
      ],
      "metadata": {
        "colab": {
          "base_uri": "https://localhost:8080/"
        },
        "id": "lu5FdwNb2Dyr",
        "outputId": "ae0ade38-575c-471e-b1be-eb239f785877"
      },
      "execution_count": null,
      "outputs": [
        {
          "output_type": "execute_result",
          "data": {
            "text/plain": [
              "(1419, 5)"
            ]
          },
          "metadata": {},
          "execution_count": 126
        }
      ]
    },
    {
      "cell_type": "code",
      "source": [
        "gru_model.summary()"
      ],
      "metadata": {
        "colab": {
          "base_uri": "https://localhost:8080/"
        },
        "id": "SwA70rn_wHVJ",
        "outputId": "e5ec424c-3e35-462a-d0da-d24a22d56b7f"
      },
      "execution_count": null,
      "outputs": [
        {
          "output_type": "stream",
          "name": "stdout",
          "text": [
            "Model: \"sequential_28\"\n",
            "_________________________________________________________________\n",
            " Layer (type)                Output Shape              Param #   \n",
            "=================================================================\n",
            " gru_28 (GRU)                (None, 10, 64)            13632     \n",
            "                                                                 \n",
            " time_distributed_17 (TimeD  (None, 10, 5)             325       \n",
            " istributed)                                                     \n",
            "                                                                 \n",
            "=================================================================\n",
            "Total params: 13957 (54.52 KB)\n",
            "Trainable params: 13957 (54.52 KB)\n",
            "Non-trainable params: 0 (0.00 Byte)\n",
            "_________________________________________________________________\n"
          ]
        }
      ]
    },
    {
      "cell_type": "code",
      "source": [
        "gru_model.fit(X_train, Y_train, epochs=10, batch_size=64)"
      ],
      "metadata": {
        "colab": {
          "base_uri": "https://localhost:8080/",
          "height": 720
        },
        "id": "RkaD1poLu_er",
        "outputId": "2c54df87-2444-4a2a-a347-9b48e009ae5e"
      },
      "execution_count": null,
      "outputs": [
        {
          "output_type": "stream",
          "name": "stdout",
          "text": [
            "Epoch 1/10\n"
          ]
        },
        {
          "output_type": "error",
          "ename": "ValueError",
          "evalue": "in user code:\n\n    File \"/usr/local/lib/python3.10/dist-packages/keras/src/engine/training.py\", line 1401, in train_function  *\n        return step_function(self, iterator)\n    File \"/usr/local/lib/python3.10/dist-packages/keras/src/engine/training.py\", line 1384, in step_function  **\n        outputs = model.distribute_strategy.run(run_step, args=(data,))\n    File \"/usr/local/lib/python3.10/dist-packages/keras/src/engine/training.py\", line 1373, in run_step  **\n        outputs = model.train_step(data)\n    File \"/usr/local/lib/python3.10/dist-packages/keras/src/engine/training.py\", line 1151, in train_step\n        loss = self.compute_loss(x, y, y_pred, sample_weight)\n    File \"/usr/local/lib/python3.10/dist-packages/keras/src/engine/training.py\", line 1209, in compute_loss\n        return self.compiled_loss(\n    File \"/usr/local/lib/python3.10/dist-packages/keras/src/engine/compile_utils.py\", line 277, in __call__\n        loss_value = loss_obj(y_t, y_p, sample_weight=sw)\n    File \"/usr/local/lib/python3.10/dist-packages/keras/src/losses.py\", line 143, in __call__\n        losses = call_fn(y_true, y_pred)\n    File \"/usr/local/lib/python3.10/dist-packages/keras/src/losses.py\", line 270, in call  **\n        return ag_fn(y_true, y_pred, **self._fn_kwargs)\n    File \"/usr/local/lib/python3.10/dist-packages/keras/src/losses.py\", line 2532, in binary_crossentropy\n        backend.binary_crossentropy(y_true, y_pred, from_logits=from_logits),\n    File \"/usr/local/lib/python3.10/dist-packages/keras/src/backend.py\", line 5830, in binary_crossentropy\n        bce = target * tf.math.log(output + epsilon())\n\n    ValueError: Dimensions must be equal, but are 5 and 10 for '{{node binary_crossentropy/mul}} = Mul[T=DT_FLOAT](IteratorGetNext:1, binary_crossentropy/Log)' with input shapes: [?,5], [?,10,10].\n",
          "traceback": [
            "\u001b[0;31m---------------------------------------------------------------------------\u001b[0m",
            "\u001b[0;31mValueError\u001b[0m                                Traceback (most recent call last)",
            "\u001b[0;32m<ipython-input-125-a2ecdac003cc>\u001b[0m in \u001b[0;36m<cell line: 1>\u001b[0;34m()\u001b[0m\n\u001b[0;32m----> 1\u001b[0;31m \u001b[0mgru_model\u001b[0m\u001b[0;34m.\u001b[0m\u001b[0mfit\u001b[0m\u001b[0;34m(\u001b[0m\u001b[0mX_train\u001b[0m\u001b[0;34m,\u001b[0m \u001b[0mY_train\u001b[0m\u001b[0;34m,\u001b[0m \u001b[0mepochs\u001b[0m\u001b[0;34m=\u001b[0m\u001b[0;36m10\u001b[0m\u001b[0;34m,\u001b[0m \u001b[0mbatch_size\u001b[0m\u001b[0;34m=\u001b[0m\u001b[0;36m64\u001b[0m\u001b[0;34m)\u001b[0m\u001b[0;34m\u001b[0m\u001b[0;34m\u001b[0m\u001b[0m\n\u001b[0m",
            "\u001b[0;32m/usr/local/lib/python3.10/dist-packages/keras/src/utils/traceback_utils.py\u001b[0m in \u001b[0;36merror_handler\u001b[0;34m(*args, **kwargs)\u001b[0m\n\u001b[1;32m     68\u001b[0m             \u001b[0;31m# To get the full stack trace, call:\u001b[0m\u001b[0;34m\u001b[0m\u001b[0;34m\u001b[0m\u001b[0m\n\u001b[1;32m     69\u001b[0m             \u001b[0;31m# `tf.debugging.disable_traceback_filtering()`\u001b[0m\u001b[0;34m\u001b[0m\u001b[0;34m\u001b[0m\u001b[0m\n\u001b[0;32m---> 70\u001b[0;31m             \u001b[0;32mraise\u001b[0m \u001b[0me\u001b[0m\u001b[0;34m.\u001b[0m\u001b[0mwith_traceback\u001b[0m\u001b[0;34m(\u001b[0m\u001b[0mfiltered_tb\u001b[0m\u001b[0;34m)\u001b[0m \u001b[0;32mfrom\u001b[0m \u001b[0;32mNone\u001b[0m\u001b[0;34m\u001b[0m\u001b[0;34m\u001b[0m\u001b[0m\n\u001b[0m\u001b[1;32m     71\u001b[0m         \u001b[0;32mfinally\u001b[0m\u001b[0;34m:\u001b[0m\u001b[0;34m\u001b[0m\u001b[0;34m\u001b[0m\u001b[0m\n\u001b[1;32m     72\u001b[0m             \u001b[0;32mdel\u001b[0m \u001b[0mfiltered_tb\u001b[0m\u001b[0;34m\u001b[0m\u001b[0;34m\u001b[0m\u001b[0m\n",
            "\u001b[0;32m/usr/local/lib/python3.10/dist-packages/keras/src/engine/training.py\u001b[0m in \u001b[0;36mtf__train_function\u001b[0;34m(iterator)\u001b[0m\n\u001b[1;32m     13\u001b[0m                 \u001b[0;32mtry\u001b[0m\u001b[0;34m:\u001b[0m\u001b[0;34m\u001b[0m\u001b[0;34m\u001b[0m\u001b[0m\n\u001b[1;32m     14\u001b[0m                     \u001b[0mdo_return\u001b[0m \u001b[0;34m=\u001b[0m \u001b[0;32mTrue\u001b[0m\u001b[0;34m\u001b[0m\u001b[0;34m\u001b[0m\u001b[0m\n\u001b[0;32m---> 15\u001b[0;31m                     \u001b[0mretval_\u001b[0m \u001b[0;34m=\u001b[0m \u001b[0mag__\u001b[0m\u001b[0;34m.\u001b[0m\u001b[0mconverted_call\u001b[0m\u001b[0;34m(\u001b[0m\u001b[0mag__\u001b[0m\u001b[0;34m.\u001b[0m\u001b[0mld\u001b[0m\u001b[0;34m(\u001b[0m\u001b[0mstep_function\u001b[0m\u001b[0;34m)\u001b[0m\u001b[0;34m,\u001b[0m \u001b[0;34m(\u001b[0m\u001b[0mag__\u001b[0m\u001b[0;34m.\u001b[0m\u001b[0mld\u001b[0m\u001b[0;34m(\u001b[0m\u001b[0mself\u001b[0m\u001b[0;34m)\u001b[0m\u001b[0;34m,\u001b[0m \u001b[0mag__\u001b[0m\u001b[0;34m.\u001b[0m\u001b[0mld\u001b[0m\u001b[0;34m(\u001b[0m\u001b[0miterator\u001b[0m\u001b[0;34m)\u001b[0m\u001b[0;34m)\u001b[0m\u001b[0;34m,\u001b[0m \u001b[0;32mNone\u001b[0m\u001b[0;34m,\u001b[0m \u001b[0mfscope\u001b[0m\u001b[0;34m)\u001b[0m\u001b[0;34m\u001b[0m\u001b[0;34m\u001b[0m\u001b[0m\n\u001b[0m\u001b[1;32m     16\u001b[0m                 \u001b[0;32mexcept\u001b[0m\u001b[0;34m:\u001b[0m\u001b[0;34m\u001b[0m\u001b[0;34m\u001b[0m\u001b[0m\n\u001b[1;32m     17\u001b[0m                     \u001b[0mdo_return\u001b[0m \u001b[0;34m=\u001b[0m \u001b[0;32mFalse\u001b[0m\u001b[0;34m\u001b[0m\u001b[0;34m\u001b[0m\u001b[0m\n",
            "\u001b[0;31mValueError\u001b[0m: in user code:\n\n    File \"/usr/local/lib/python3.10/dist-packages/keras/src/engine/training.py\", line 1401, in train_function  *\n        return step_function(self, iterator)\n    File \"/usr/local/lib/python3.10/dist-packages/keras/src/engine/training.py\", line 1384, in step_function  **\n        outputs = model.distribute_strategy.run(run_step, args=(data,))\n    File \"/usr/local/lib/python3.10/dist-packages/keras/src/engine/training.py\", line 1373, in run_step  **\n        outputs = model.train_step(data)\n    File \"/usr/local/lib/python3.10/dist-packages/keras/src/engine/training.py\", line 1151, in train_step\n        loss = self.compute_loss(x, y, y_pred, sample_weight)\n    File \"/usr/local/lib/python3.10/dist-packages/keras/src/engine/training.py\", line 1209, in compute_loss\n        return self.compiled_loss(\n    File \"/usr/local/lib/python3.10/dist-packages/keras/src/engine/compile_utils.py\", line 277, in __call__\n        loss_value = loss_obj(y_t, y_p, sample_weight=sw)\n    File \"/usr/local/lib/python3.10/dist-packages/keras/src/losses.py\", line 143, in __call__\n        losses = call_fn(y_true, y_pred)\n    File \"/usr/local/lib/python3.10/dist-packages/keras/src/losses.py\", line 270, in call  **\n        return ag_fn(y_true, y_pred, **self._fn_kwargs)\n    File \"/usr/local/lib/python3.10/dist-packages/keras/src/losses.py\", line 2532, in binary_crossentropy\n        backend.binary_crossentropy(y_true, y_pred, from_logits=from_logits),\n    File \"/usr/local/lib/python3.10/dist-packages/keras/src/backend.py\", line 5830, in binary_crossentropy\n        bce = target * tf.math.log(output + epsilon())\n\n    ValueError: Dimensions must be equal, but are 5 and 10 for '{{node binary_crossentropy/mul}} = Mul[T=DT_FLOAT](IteratorGetNext:1, binary_crossentropy/Log)' with input shapes: [?,5], [?,10,10].\n"
          ]
        }
      ]
    },
    {
      "cell_type": "code",
      "source": [
        "X_train.shape"
      ],
      "metadata": {
        "id": "PVJcVCxvKbHo",
        "colab": {
          "base_uri": "https://localhost:8080/"
        },
        "outputId": "a0ee847c-408b-4fbb-f43a-13d7edbc9e83"
      },
      "execution_count": null,
      "outputs": [
        {
          "output_type": "execute_result",
          "data": {
            "text/plain": [
              "(1419, 10, 5)"
            ]
          },
          "metadata": {},
          "execution_count": 81
        }
      ]
    },
    {
      "cell_type": "code",
      "source": [
        "Y_train.shape"
      ],
      "metadata": {
        "colab": {
          "base_uri": "https://localhost:8080/"
        },
        "id": "2s4fWUYVOB8q",
        "outputId": "f9066e5e-9d00-4709-a88e-4f5e60c37bf7"
      },
      "execution_count": null,
      "outputs": [
        {
          "output_type": "execute_result",
          "data": {
            "text/plain": [
              "(1419, 5)"
            ]
          },
          "metadata": {},
          "execution_count": 58
        }
      ]
    },
    {
      "cell_type": "code",
      "source": [
        "gru_predictions = model_gru.predict(X_dataset)\n",
        "gru_predictions = gru_predictions.reshape(gru_predictions.shape[0], -1)\n",
        "gru_predictions = scaler_Y.inverse_transform(gru_predictions)\n",
        "gru_predictions = gru_predictions.reshape(gru_predictions.shape)\n",
        "print(gru_predictions)"
      ],
      "metadata": {
        "colab": {
          "base_uri": "https://localhost:8080/"
        },
        "id": "FMUg2hxtODF8",
        "outputId": "c2bd0179-8a31-4fa8-ffa6-8f46041b8025"
      },
      "execution_count": null,
      "outputs": [
        {
          "output_type": "stream",
          "name": "stdout",
          "text": [
            "\u001b[1m64/64\u001b[0m \u001b[32m━━━━━━━━━━━━━━━━━━━━\u001b[0m\u001b[37m\u001b[0m \u001b[1m0s\u001b[0m 7ms/step\n",
            "[[ 99.59133  100.10621  100.38339  ... 100.71975  100.711494 100.70787 ]\n",
            " [ 99.58964  100.09322  100.381805 ... 100.70565  100.70475  100.69584 ]\n",
            " [ 99.57653  100.09141  100.39112  ... 100.698845 100.69269  100.71475 ]\n",
            " ...\n",
            " [ 98.8202    98.948425  99.03028  ...  99.0901    99.086075  99.07633 ]\n",
            " [ 98.83211   98.94881   99.01828  ...  99.08358   99.07503   99.07865 ]\n",
            " [ 98.82579   98.933624  99.01874  ...  99.07257   99.077354  99.08588 ]]\n"
          ]
        }
      ]
    },
    {
      "cell_type": "code",
      "source": [
        "gru_predictions.shape"
      ],
      "metadata": {
        "colab": {
          "base_uri": "https://localhost:8080/"
        },
        "id": "PVAVvv43OPE1",
        "outputId": "7a50e54d-b491-4d3b-817f-e7b2b5a026f7"
      },
      "execution_count": null,
      "outputs": [
        {
          "output_type": "execute_result",
          "data": {
            "text/plain": [
              "(2028, 10)"
            ]
          },
          "metadata": {},
          "execution_count": 65
        }
      ]
    },
    {
      "cell_type": "code",
      "source": [
        "gru_backtest = Backtesting(actual_spreads,gru_predictions,5,1,-1)\n",
        "gru_backtest_signal = gru_backtest.generate_signals()\n",
        "gru_pn1 , gru_total_pn1 = gru_backtest.calculate_pnl(gru_backtest_signal)\n",
        "gru_portfolio_history = gru_backtest.simulate_portfolio(gru_backtest_signal)"
      ],
      "metadata": {
        "id": "eb4oOuTCRDxb"
      },
      "execution_count": null,
      "outputs": []
    },
    {
      "cell_type": "code",
      "source": [
        "print(gru_pn1)"
      ],
      "metadata": {
        "colab": {
          "base_uri": "https://localhost:8080/"
        },
        "id": "-AHxvnvwRROI",
        "outputId": "75b2a754-8302-4af2-e041-71d2a9be8285"
      },
      "execution_count": null,
      "outputs": [
        {
          "output_type": "stream",
          "name": "stdout",
          "text": [
            "[array([0.033]), array([-0.161]), array([-0.079]), array([0.092]), array([0.044]), array([0.094]), array([-0.102]), array([-0.046]), array([-0.252]), array([-0.199]), array([-0.162]), array([0.251]), array([0.096]), array([0.18]), array([0.387]), array([0.312]), array([0.308]), array([0.505]), array([0.559]), array([0.547]), array([0.765]), array([1.226]), array([1.513]), array([1.164]), array([1.312]), array([1.056]), array([0.716]), array([0.066]), array([0.136]), array([-0.156]), array([-0.041]), array([-0.099]), array([0.346]), array([0.848]), array([0.878]), array([0.606]), array([0.149]), array([-0.285]), array([-0.424]), array([-0.484]), array([-0.47]), array([-0.337]), array([-0.341]), array([-0.403]), array([-0.413]), array([-0.297]), array([0.105]), array([0.583]), array([0.249]), array([0.31]), array([0.264]), array([0.06]), array([-0.234]), array([-0.029]), array([0.107]), array([0.101]), array([0.246]), array([0.232]), array([0.323]), array([0.267]), array([0.595]), array([0.931]), array([1.066]), array([1.214]), array([0.8]), array([0.435]), array([0.415]), array([0.154]), array([-0.601]), array([-0.44]), array([-0.025]), array([-1.2]), array([-1.293]), array([-0.618]), array([-0.617]), array([-0.797]), array([-0.227]), array([-0.371]), array([-0.539]), array([-0.398]), array([-0.436]), array([-0.257]), array([0.168]), array([0.347]), array([0.41]), array([0.382]), array([0.548]), array([0.842]), array([0.959]), array([0.599]), array([0.587]), array([0.707]), array([0.607]), array([0.272]), array([0.961]), array([0.172]), array([-0.145]), array([-0.077]), array([-0.241]), array([-0.256]), array([1.106]), array([1.257]), array([-0.333]), array([0.769]), array([-0.102]), array([-0.999]), array([-0.888]), array([0.219]), array([-0.282]), array([-0.646]), array([-0.602]), array([-1.273]), array([-1.605]), array([-2.066]), array([-1.297]), array([-0.89]), array([-0.532]), array([0.32]), array([0.712]), array([1.095]), array([0.734]), array([0.875]), array([0.222]), array([-0.231]), array([-0.55]), array([-0.204]), array([-0.631]), array([-0.195]), array([0.083]), array([-0.208]), array([-0.582]), array([-0.117]), array([-0.27]), array([-0.289]), array([0.253]), array([0.792]), array([0.763]), array([0.225]), array([-0.025]), array([-0.357]), array([-0.24]), array([0.116]), array([1.307]), array([1.374]), array([1.369]), array([1.223]), array([0.35]), array([-0.094]), array([0.387]), array([0.81]), array([0.819]), array([1.246]), array([1.886]), array([1.318]), array([0.409]), array([0.107]), array([-0.189]), array([-1.474]), array([-1.265]), array([-1.08]), array([-1.206]), array([-0.703]), array([-0.513]), array([-0.745]), array([0.061]), array([0.159]), array([0.2]), array([-0.64]), array([-0.021]), array([-0.588]), array([-0.72]), array([-1.428]), array([-0.666]), array([-0.814]), array([-0.602]), array([-0.643]), array([-0.158]), array([-0.012]), array([0.036]), array([-0.024]), array([-0.034]), array([0.051]), array([0.042]), array([-0.181]), array([-0.203]), array([-0.038]), array([-0.165]), array([0.342]), array([0.314]), array([0.726]), array([0.645]), array([0.603]), array([0.406]), array([0.415]), array([0.089]), array([0.102]), array([0.43]), array([0.624]), array([0.866]), array([0.673]), array([1.017]), array([0.556]), array([-0.434]), array([-0.581]), array([-0.309]), array([-0.553]), array([-0.361]), array([0.337]), array([0.047]), array([0.248]), array([0.469]), array([0.964]), array([0.887]), array([0.797]), array([0.177]), array([-0.257]), array([-0.921]), array([-0.751]), array([-0.711]), array([-0.313]), array([-0.035]), array([0.128]), array([0.007]), array([0.039]), array([-0.007]), array([-0.074]), array([0.319]), array([0.184]), array([0.237]), array([0.741]), array([0.775]), array([0.387]), array([0.045]), array([-0.206]), array([-0.495]), array([-0.26]), array([-0.478]), array([0.31]), array([1.303]), array([1.211]), array([0.761]), array([1.338]), array([1.228]), array([0.84]), array([0.122]), array([0.546]), array([0.789]), array([0.605]), array([0.688]), array([0.893]), array([0.578]), array([0.389]), array([0.012]), array([0.106]), array([1.007]), array([2.641]), array([1.776]), array([1.837]), array([1.485]), array([1.069]), array([-0.561]), array([-0.142]), array([0.207]), array([0.153]), array([-0.211]), array([-1.568]), array([-1.413]), array([-1.576]), array([-1.076]), array([0.041]), array([1.139]), array([1.067]), array([0.928]), array([1.379]), array([0.134]), array([-0.519]), array([-1.058]), array([-0.727]), array([-1.443]), array([-1.85]), array([-2.053]), array([-2.003]), array([-1.545]), array([-1.053]), array([-0.182]), array([0.596]), array([1.21]), array([1.026]), array([1.081]), array([0.925]), array([0.542]), array([0.268]), array([-0.392]), array([-0.633]), array([-0.882]), array([-0.685]), array([-1.236]), array([-0.937]), array([-0.441]), array([-0.549]), array([-0.162]), array([0.329]), array([-0.321]), array([-0.872]), array([-0.778]), array([-1.336]), array([-1.468]), array([-0.871]), array([-0.525]), array([-0.271]), array([-0.183]), array([0.069]), array([0.302]), array([-0.119]), array([-0.153]), array([0.107]), array([-0.056]), array([0.048]), array([0.037]), array([0.098]), array([0.228]), array([0.291]), array([0.26]), array([0.552]), array([0.46]), array([0.319]), array([0.286]), array([0.079]), array([0.059]), array([-0.227]), array([-0.335]), array([-0.402]), array([-0.081]), array([-0.106]), array([0.127]), array([0.235]), array([0.434]), array([0.233]), array([0.125]), array([0.366]), array([0.047]), array([0.019]), array([-0.094]), array([-0.317]), array([-0.638]), array([-0.405]), array([-0.446]), array([-0.286]), array([-0.002]), array([0.205]), array([0.191]), array([0.239]), array([0.11]), array([-0.102]), array([0.007]), array([0.271]), array([0.228]), array([0.366]), array([0.552]), array([0.217]), array([-0.029]), array([-0.055]), array([-0.179]), array([-0.039]), array([0.432]), array([0.234]), array([0.023]), array([0.392]), array([0.58]), array([0.559]), array([0.895]), array([0.996]), array([0.627]), array([0.325]), array([-0.384]), array([-0.562]), array([-0.902]), array([-0.634]), array([-0.944]), array([-0.472]), array([-0.739]), array([-0.469]), array([-0.553]), array([-0.034]), array([0.023]), array([0.373]), array([0.597]), array([0.469]), array([-0.109]), array([-0.059]), array([-0.09]), array([-0.013]), array([0.316]), array([0.534]), array([0.817]), array([0.073]), array([-0.36]), array([-0.734]), array([-0.616]), array([-0.972]), array([-0.108]), array([0.062]), array([0.105]), array([0.159]), array([-0.266]), array([-0.454]), array([-0.424]), array([-0.065]), array([0.055]), array([0.323]), array([0.41]), array([0.596]), array([0.119]), array([-0.225]), array([-0.117]), array([-0.183]), array([-0.296]), array([0.218]), array([0.454]), array([0.317]), array([0.098]), array([-0.092]), array([-0.647]), array([-0.784]), array([-0.731]), array([-0.073]), array([0.256]), array([0.749]), array([0.719]), array([1.12]), array([0.851]), array([0.265]), array([0.175]), array([0.656]), array([0.572]), array([0.055]), array([0.647]), array([0.496]), array([-0.618]), array([-0.159]), array([-0.283]), array([-1.036]), array([-0.964]), array([-0.2]), array([-1.204]), array([-0.489]), array([0.087]), array([-0.192]), array([-0.325]), array([-0.038]), array([0.207]), array([0.265]), array([0.263]), array([0.309]), array([0.39]), array([0.161]), array([-0.218]), array([-0.255]), array([-0.478]), array([-0.282]), array([-0.153]), array([0.047]), array([-0.133]), array([-0.284]), array([-0.343]), array([0.066]), array([0.321]), array([0.544]), array([1.469]), array([1.258]), array([-0.284]), array([-0.953]), array([-0.278]), array([-1.573]), array([-2.086]), array([-1.534]), array([-1.011]), array([-1.773]), array([-1.203]), array([-0.568]), array([-0.272]), array([-0.386]), array([-0.033]), array([0.293]), array([0.274]), array([0.124]), array([0.225]), array([-0.016]), array([-0.21]), array([-0.117]), array([-0.143]), array([-0.413]), array([-0.26]), array([-0.106]), array([-0.1]), array([0.343]), array([0.684]), array([0.709]), array([0.497]), array([0.346]), array([0.1]), array([-0.073]), array([-0.112]), array([0.109]), array([-0.025]), array([0.072]), array([0.319]), array([0.205]), array([0.219]), array([0.247]), array([0.162]), array([0.274]), array([0.403]), array([0.176]), array([0.185]), array([0.105]), array([-0.16]), array([-0.154]), array([-0.131]), array([0.127]), array([-0.122]), array([-0.081]), array([-0.013]), array([0.405]), array([0.178]), array([0.325]), array([0.918]), array([0.809]), array([0.202]), array([0.143]), array([0.18]), array([-0.746]), array([-0.914]), array([-0.921]), array([-0.729]), array([-0.761]), array([-0.485]), array([-0.438]), array([-0.007]), array([-0.203]), array([0.013]), array([0.031]), array([-0.05]), array([-0.224]), array([-0.2]), array([-0.09]), array([-0.002]), array([0.237]), array([0.393]), array([0.521]), array([0.412]), array([0.175]), array([0.103]), array([0.024]), array([-0.257]), array([-0.127]), array([0.037]), array([0.167]), array([0.245]), array([0.692]), array([0.547]), array([0.866]), array([0.882]), array([0.827]), array([0.583]), array([0.313]), array([-0.091]), array([-0.116]), array([-0.247]), array([-0.2]), array([-0.228]), array([-0.102]), array([-0.053]), array([0.457]), array([0.2]), array([0.334]), array([0.335]), array([-0.203]), array([-0.49]), array([-0.096]), array([0.163]), array([0.073]), array([0.514]), array([0.484]), array([0.415]), array([0.065]), array([0.487]), array([0.469]), array([0.426]), array([-0.297]), array([-0.158]), array([-0.444]), array([-0.11]), array([-0.146]), array([-0.063]), array([-0.218]), array([-0.609]), array([-0.988]), array([-1.08]), array([-0.729]), array([-0.543]), array([-0.092]), array([-0.073]), array([-0.029]), array([0.026]), array([0.069]), array([-0.024]), array([0.065]), array([-0.087]), array([0.074]), array([0.112]), array([0.058]), array([0.099]), array([0.349]), array([0.524]), array([0.824]), array([0.838]), array([0.761]), array([0.906]), array([0.361]), array([-0.196]), array([-0.088]), array([-0.006]), array([-0.621]), array([-0.006]), array([-0.217]), array([-0.235]), array([-0.096]), array([0.488]), array([-0.32]), array([-0.3]), array([-0.128]), array([-0.654]), array([-1.111]), array([-0.693]), array([-0.235]), array([-0.337]), array([-0.007]), array([0.231]), array([0.186]), array([-0.03]), array([-0.266]), array([-0.249]), array([-0.042]), array([0.083]), array([0.137]), array([0.246]), array([0.124]), array([-0.059]), array([-0.018]), array([0.234]), array([0.445]), array([0.545]), array([-0.117]), array([-0.155]), array([-0.241]), array([-0.465]), array([-0.587]), array([0.232]), array([0.167]), array([-0.063]), array([0.067]), array([-0.149]), array([-0.339]), array([-0.269]), array([0.011]), array([-0.081]), array([0.182]), array([0.161]), array([0.46]), array([0.844]), array([0.754]), array([1.04]), array([0.987]), array([0.469]), array([-0.071]), array([0.062]), array([-0.453]), array([-0.519]), array([-0.375]), array([-0.427]), array([-0.419]), array([-0.31]), array([-0.041]), array([0.035]), array([0.103]), array([0.191]), array([0.508]), array([0.749]), array([-0.015]), array([0.259]), array([0.112]), array([0.03]), array([-0.691]), array([-0.145]), array([-0.314]), array([-0.502]), array([0.235]), array([0.329]), array([0.521]), array([0.291]), array([0.34]), array([-0.85]), array([-0.95]), array([-1.218]), array([-1.102]), array([-1.097]), array([-0.303]), array([0.072]), array([0.468]), array([0.373]), array([0.44]), array([0.038]), array([0.188]), array([0.061]), array([-0.007]), array([-0.015]), array([-0.019]), array([0.068]), array([0.138]), array([0.615]), array([0.504]), array([0.313]), array([-0.11]), array([0.724]), array([0.693]), array([0.922]), array([0.924]), array([0.877]), array([0.031]), array([-0.352]), array([-0.132]), array([0.207]), array([0.357]), array([0.425]), array([0.334]), array([0.201]), array([-0.088]), array([0.082]), array([-0.101]), array([0.077]), array([-0.3]), array([-0.36]), array([-0.588]), array([-0.561]), array([-0.263]), array([0.387]), array([0.618]), array([0.777]), array([0.625]), array([0.327]), array([-0.097]), array([-0.226]), array([-0.192]), array([0.127]), array([0.343]), array([0.353]), array([0.5]), array([0.008]), array([0.015]), array([-0.283]), array([0.052]), array([-0.123]), array([0.801]), array([1.078]), array([1.421]), array([1.227]), array([1.136]), array([0.902]), array([0.468]), array([0.173]), array([0.089]), array([0.287]), array([0.621]), array([1.006]), array([0.854]), array([0.922]), array([0.632]), array([0.916]), array([-0.008]), array([-0.431]), array([-0.332]), array([0.019]), array([0.158]), array([0.82]), array([1.264]), array([0.873]), array([0.482]), array([-0.84]), array([-1.192]), array([-1.236]), array([-1.322]), array([-1.143]), array([-0.79]), array([-0.488]), array([-0.324]), array([0.145]), array([0.465]), array([0.308]), array([0.455]), array([0.32]), array([0.15]), array([-0.346]), array([-0.22]), array([-0.281]), array([0.051]), array([-0.242]), array([-0.003]), array([0.575]), array([0.012]), array([0.308]), array([0.079]), array([-0.255]), array([-1.027]), array([-0.179]), array([0.13]), array([0.373]), array([0.985]), array([0.962]), array([1.075]), array([0.238]), array([-0.36]), array([-0.194]), array([-0.784]), array([-1.316]), array([-1.364]), array([-0.377]), array([-0.519]), array([0.162]), array([-0.002]), array([0.082]), array([0.024]), array([-0.44]), array([-0.313]), array([-0.287]), array([-0.098]), array([-0.405]), array([-0.278]), array([0.008]), array([0.196]), array([-0.104]), array([0.308]), array([0.335]), array([0.243]), array([0.094]), array([0.368]), array([0.154]), array([0.598]), array([0.719]), array([1.207]), array([0.79]), array([0.122]), array([0.128]), array([-0.493]), array([-0.679]), array([-0.664]), array([-0.386]), array([-0.527]), array([-0.458]), array([-0.518]), array([-0.237]), array([0.231]), array([-0.095]), array([0.06]), array([-0.118]), array([0.373]), array([0.656]), array([1.446]), array([1.526]), array([1.923]), array([1.016]), array([0.71]), array([0.418]), array([1.356]), array([1.961]), array([1.576]), array([-0.131]), array([-0.014]), array([-1.049]), array([-1.752]), array([-0.338]), array([1.221]), array([0.843]), array([0.884]), array([0.382]), array([-0.783]), array([-1.192]), array([-1.661]), array([-1.456]), array([-0.962]), array([0.155]), array([0.696]), array([0.946]), array([0.71]), array([0.383]), array([-0.249]), array([-0.443]), array([0.027]), array([0.895]), array([1.109]), array([1.419]), array([1.28]), array([0.609]), array([-0.456]), array([-0.247]), array([-0.921]), array([-0.54]), array([-0.444]), array([0.561]), array([0.293]), array([0.586]), array([0.286]), array([0.125]), array([-1.21]), array([-1.221]), array([-1.3]), array([-1.465]), array([-0.831]), array([-0.157]), array([-0.538]), array([-0.2]), array([-0.216]), array([-0.174]), array([0.12]), array([0.853]), array([0.514]), array([1.032]), array([0.758]), array([0.795]), array([0.58]), array([0.998]), array([0.165]), array([0.767]), array([-0.174]), array([-0.66]), array([-0.905]), array([-0.013]), array([-0.203]), array([0.685]), array([0.081]), array([0.5]), array([-0.122]), array([-1.014]), array([-1.102]), array([-0.339]), array([-0.199]), array([0.915]), array([0.764]), array([0.206]), array([1.395]), array([1.561]), array([1.201]), array([1.098]), array([1.462]), array([0.811]), array([0.6]), array([0.331]), array([2.396]), array([2.285]), array([2.044]), array([-0.078]), array([-0.682]), array([-1.233]), array([-1.444]), array([-0.918]), array([-0.959]), array([-0.217]), array([0.87]), array([2.374]), array([2.016]), array([1.349]), array([2.452]), array([1.715]), array([0.528]), array([-1.098]), array([-0.119]), array([1.683]), array([1.502]), array([1.341]), array([0.616]), array([1.436]), array([0.991]), array([1.506]), array([1.267]), array([-1.199]), array([-1.031]), array([0.058]), array([0.368]), array([0.484]), array([0.982]), array([0.842]), array([0.309]), array([0.129]), array([-0.273]), array([-0.151]), array([-0.01]), array([0.509]), array([0.227]), array([-0.121]), array([-0.646]), array([-1.092]), array([-1.897]), array([-1.602]), array([-1.271]), array([-1.078]), array([-0.316]), array([0.092]), array([0.025]), array([0.699]), array([0.504]), array([-0.005]), array([0.362]), array([0.93]), array([0.258]), array([0.193]), array([0.661]), array([0.574]), array([0.627]), array([0.804]), array([0.494]), array([0.149]), array([0.171]), array([0.637]), array([0.74]), array([2.199]), array([2.392]), array([2.14]), array([1.48]), array([1.328]), array([-3.38]), array([-1.282]), array([-0.845]), array([-0.592]), array([0.002]), array([-0.034]), array([0.321]), array([0.504]), array([0.099]), array([0.962]), array([0.59]), array([0.602]), array([0.556]), array([0.184]), array([-1.092]), array([-0.936]), array([-0.282]), array([0.723]), array([1.404]), array([1.268]), array([0.941]), array([-0.114]), array([-1.572]), array([-1.852]), array([-1.437]), array([-0.86]), array([-0.59]), array([-0.422]), array([-0.621]), array([-0.244]), array([-0.615]), array([-1.082]), array([-0.926]), array([-0.545]), array([-1.032]), array([-0.561]), array([-0.131]), array([0.16]), array([0.566]), array([0.492]), array([0.024]), array([0.032]), array([-0.815]), array([-1.434]), array([-1.191]), array([-0.836]), array([-0.443]), array([-0.043]), array([0.207]), array([0.556]), array([1.129]), array([0.953]), array([0.471]), array([0.642]), array([-0.126]), array([-0.717]), array([-0.558]), array([0.429]), array([-0.781]), array([-0.407]), array([-0.517]), array([-0.379]), array([-0.657]), array([0.887]), array([0.952]), array([1.39]), array([0.622]), array([0.698]), array([-0.325]), array([-0.587]), array([-0.867]), array([-0.281]), array([-0.53]), array([-0.208]), array([-0.125]), array([-0.352]), array([-0.796]), array([-0.787]), array([-0.571]), array([-0.362]), array([-0.303]), array([0.077]), array([0.039]), array([-0.065]), array([0.129]), array([0.186]), array([-0.009]), array([-0.123]), array([0.121]), array([0.247]), array([0.244]), array([0.223]), array([-0.07]), array([0.404]), array([0.068]), array([-0.272]), array([-0.477]), array([0.031]), array([-0.514]), array([-0.655]), array([-0.464]), array([-0.217]), array([-0.239]), array([-0.305]), array([-0.216]), array([0.081]), array([0.139]), array([0.276]), array([-0.019]), array([-0.135]), array([-0.088]), array([-0.159]), array([-0.519]), array([-0.25]), array([-0.034]), array([-0.205]), array([0.044]), array([0.39]), array([0.493]), array([0.558]), array([0.668]), array([0.708]), array([-0.478]), array([-0.466]), array([-0.794]), array([-0.928]), array([-1.213]), array([0.214]), array([-0.211]), array([0.601]), array([0.679]), array([0.738]), array([-0.006]), array([0.591]), array([-0.035]), array([-0.396]), array([-0.821]), array([-0.316]), array([-0.158]), array([-0.192]), array([-0.018]), array([0.448]), array([0.381]), array([0.062]), array([0.227]), array([0.55]), array([0.283]), array([0.918]), array([0.866]), array([0.803]), array([0.609]), array([0.806]), array([0.236]), array([0.18]), array([0.255]), array([0.249]), array([0.216]), array([0.409]), array([0.12]), array([0.385]), array([0.609]), array([0.444]), array([0.221]), array([0.27]), array([-0.436]), array([-0.425]), array([-0.157]), array([0.4]), array([0.845]), array([1.075]), array([1.272]), array([0.728]), array([0.063]), array([-0.424]), array([-0.395]), array([-0.911]), array([0.1]), array([0.382]), array([0.19]), array([-0.386]), array([-0.367]), array([-0.955]), array([-1.538]), array([-1.467]), array([-0.659]), array([-0.482]), array([-0.292]), array([-0.19]), array([0.494]), array([1.003]), array([2.611]), array([2.297]), array([2.168]), array([1.181]), array([0.137]), array([-2.274]), array([-2.111]), array([-2.382]), array([-1.94]), array([-1.856]), array([-0.876]), array([-0.769]), array([-0.521]), array([-0.515]), array([-0.076]), array([-0.266]), array([0.057]), array([0.888]), array([1.191]), array([0.934]), array([0.738]), array([0.07]), array([-0.474]), array([-0.7]), array([-0.699]), array([-0.351]), array([-0.178]), array([-0.021]), array([0.296]), array([0.227]), array([0.038]), array([0.48]), array([0.363]), array([-0.188]), array([0.139]), array([0.046]), array([-0.098]), array([0.436]), array([0.315]), array([0.731]), array([1.287]), array([1.707]), array([1.662]), array([2.183]), array([1.052]), array([-0.152]), array([-1.898]), array([-1.878]), array([-2.334]), array([-2.044]), array([-0.533]), array([0.896]), array([0.398]), array([1.452]), array([1.165]), array([0.269]), array([-0.606]), array([-0.502]), array([-1.603]), array([-1.446]), array([-1.196]), array([-0.415]), array([-0.137]), array([0.488]), array([0.527]), array([0.14]), array([-0.25]), array([-0.437]), array([-1.149]), array([-0.964]), array([-0.673]), array([-0.71]), array([-1.01]), array([-0.393]), array([-0.293]), array([-0.422]), array([-0.268]), array([-0.151]), array([0.093]), array([-0.125]), array([0.243]), array([0.24]), array([0.244]), array([0.353]), array([0.449]), array([0.342]), array([0.79]), array([0.775]), array([0.8]), array([1.597]), array([1.155]), array([0.602]), array([0.235]), array([0.59]), array([-0.448]), array([-1.058]), array([-0.942]), array([-0.66]), array([-1.507]), array([-1.362]), array([-0.567]), array([-0.545]), array([-0.214]), array([-0.449]), array([0.149]), array([-0.497]), array([-0.495]), array([-0.928]), array([-0.367]), array([-0.737]), array([-0.182]), array([-0.107]), array([-0.152]), array([-0.656]), array([-0.305]), array([-0.167]), array([0.019]), array([0.084]), array([0.338]), array([-0.029]), array([0.056]), array([-0.459]), array([-0.221]), array([-0.224]), array([0.038]), array([0.468]), array([0.702]), array([0.53]), array([0.518]), array([0.139]), array([-0.578]), array([-0.615]), array([-0.488]), array([-0.123]), array([0.413]), array([0.558]), array([0.63]), array([0.669]), array([0.441]), array([0.251]), array([0.326]), array([0.45]), array([0.535]), array([1.495]), array([1.528]), array([1.293]), array([1.123]), array([1.023]), array([-0.435]), array([-0.686]), array([-0.39]), array([-0.221]), array([-0.174]), array([0.191]), array([0.507]), array([0.401]), array([0.179]), array([0.048]), array([-0.042]), array([-0.154]), array([-0.166]), array([0.072]), array([-0.162]), array([-0.097]), array([-0.384]), array([-0.153]), array([-0.315]), array([0.108]), array([0.362]), array([0.5]), array([0.536]), array([0.11]), array([-0.575]), array([-0.381]), array([-0.408]), array([-0.904]), array([-0.741]), array([-0.204]), array([-0.565]), array([-0.249]), array([0.265]), array([0.689]), array([0.093]), array([-0.092]), array([-0.258]), array([-0.582]), array([-0.749]), array([0.197]), array([0.053]), array([0.255]), array([0.837]), array([0.762]), array([-0.072]), array([-0.001]), array([-0.399]), array([-0.911]), array([-1.01]), array([-0.607]), array([-0.316]), array([0.322]), array([-0.185]), array([-0.009]), array([0.375]), array([0.284]), array([-0.301]), array([0.482]), array([0.407]), array([0.387]), array([-0.061]), array([-0.057]), array([-0.085]), array([0.083]), array([-0.169]), array([0.596]), array([0.636]), array([0.84]), array([1.401]), array([1.37]), array([1.455]), array([0.837]), array([0.377]), array([-0.072]), array([-1.041]), array([-0.656]), array([-0.074]), array([-0.896]), array([-1.559]), array([-0.627]), array([-1.48]), array([-1.53]), array([-0.896]), array([-0.138]), array([0.002]), array([-0.35]), array([-0.06]), array([0.154]), array([-0.234]), array([-0.483]), array([0.001]), array([-0.166]), array([-0.398]), array([-0.059]), array([0.025]), array([-0.304]), array([-0.273]), array([0.101]), array([0.247]), array([0.628]), array([1.031]), array([1.478]), array([1.205]), array([1.059]), array([0.894]), array([0.633]), array([-0.264]), array([-0.18]), array([-0.104]), array([0.238]), array([0.163]), array([0.431]), array([0.272]), array([-0.071]), array([-0.696]), array([-0.492]), array([-0.39]), array([0.013]), array([0.327]), array([0.777]), array([0.77]), array([0.577]), array([0.296]), array([0.157]), array([-0.26]), array([0.102]), array([0.004]), array([0.525]), array([0.011]), array([0.541]), array([-0.097]), array([0.301]), array([-0.274]), array([0.119]), array([-0.753]), array([-0.401]), array([-0.544]), array([-0.309]), array([-0.376]), array([-0.25]), array([0.052]), array([-0.092]), array([-0.097]), array([0.364]), array([1.298]), array([0.987]), array([1.36]), array([2.498]), array([2.356]), array([1.359]), array([0.65]), array([0.773]), array([-0.541]), array([-0.734]), array([0.036]), array([0.604]), array([-1.259]), array([-1.052]), array([-1.324]), array([-1.614]), array([-1.709]), array([-0.315]), array([-0.649]), array([0.115]), array([0.353]), array([1.027]), array([1.248]), array([1.141]), array([0.94]), array([0.882]), array([1.094]), array([1.269]), array([1.356]), array([1.105]), array([0.991]), array([0.062]), array([0.047]), array([0.418]), array([-0.511]), array([-0.792]), array([-0.109]), array([0.322]), array([-0.202]), array([1.258]), array([0.689]), array([-0.063]), array([-1.483]), array([-1.051]), array([-1.688]), array([-1.119]), array([-0.91]), array([0.085]), array([-0.445]), array([-0.816]), array([-0.759]), array([-0.223]), array([-0.556]), array([-0.008]), array([0.375]), array([0.029]), array([-0.077]), array([0.131]), array([-0.307]), array([-0.936]), array([-0.618]), array([-0.595]), array([-0.532]), array([0.403]), array([0.83]), array([1.177]), array([1.005]), array([1.743]), array([1.223]), array([1.725]), array([2.413]), array([2.017]), array([1.047]), array([0.657]), array([1.087]), array([-0.433]), array([0.356]), array([1.144]), array([2.544]), array([1.139]), array([1.804]), array([0.15]), array([-2.266]), array([-3.238]), array([-2.131]), array([-2.533]), array([-0.251]), array([1.318]), array([0.648]), array([-0.455]), array([0.135]), array([-0.293]), array([-1.071]), array([-1.203]), array([-0.618]), array([-1.726]), array([-2.34]), array([-1.651]), array([-0.998]), array([-1.476]), array([-1.014]), array([-1.679]), array([-1.334]), array([-1.384]), array([-0.502]), array([-0.169]), array([0.5]), array([0.506]), array([0.372]), array([-0.187]), array([-0.564]), array([-0.732]), array([-0.689]), array([0.085]), array([0.589]), array([1.708]), array([1.121]), array([1.591]), array([1.398]), array([1.189]), array([0.765]), array([1.496]), array([1.137]), array([1.137]), array([1.245]), array([0.79]), array([0.192]), array([0.723]), array([-0.367]), array([-0.569]), array([-0.177]), array([0.679]), array([-0.029]), array([1.15]), array([1.24]), array([1.156]), array([0.486]), array([0.58]), array([0.249]), array([0.346]), array([-1.26]), array([-0.745]), array([-1.102]), array([-0.87]), array([-1.474]), array([0.339]), array([-0.122]), array([-0.187]), array([-0.684]), array([0.001]), array([-0.15]), array([0.016]), array([0.486]), array([1.034]), array([1.001]), array([0.732]), array([0.976]), array([1.16]), array([1.201]), array([0.776]), array([1.252]), array([1.255]), array([0.125]), array([0.233]), array([0.333]), array([-0.686]), array([-0.607]), array([0.002]), array([-0.513]), array([-0.254]), array([0.603]), array([0.491]), array([0.577]), array([0.589]), array([0.236]), array([0.338]), array([-0.648]), array([-0.146]), array([0.033]), array([-0.467]), array([-0.837]), array([-0.19]), array([-0.428]), array([-0.654]), array([0.07]), array([0.191]), array([0.46]), array([0.433]), array([0.509]), array([0.649]), array([0.144]), array([-0.198]), array([-0.064]), array([-0.144]), array([-0.476]), array([0.013]), array([0.305]), array([-0.299]), array([1.717]), array([3.128]), array([1.929]), array([1.737]), array([1.589]), array([-0.502]), array([-2.545]), array([-1.42]), array([-0.481]), array([0.367]), array([0.991]), array([0.52]), array([0.7]), array([0.566]), array([0.224]), array([0.51]), array([1.043]), array([2.049]), array([1.2]), array([0.557]), array([0.486]), array([0.618]), array([-0.003]), array([0.759]), array([0.587]), array([1.947]), array([2.524]), array([1.688]), array([1.625]), array([1.67]), array([0.778]), array([1.488]), array([2.145]), array([1.025]), array([-0.537]), array([-0.743]), array([0.822]), array([0.749]), array([-0.934]), array([-0.244]), array([-1.87]), array([-1.911]), array([-0.872]), array([-0.529]), array([0.029]), array([1.442]), array([1.799]), array([2.17]), array([2.178]), array([2.247]), array([2.308]), array([1.85]), array([1.595]), array([1.349]), array([0.21]), array([-0.711]), array([-0.01]), array([-0.02]), array([-0.296]), array([-0.473]), array([-0.346]), array([-0.486]), array([-1.685]), array([-1.359]), array([-1.328]), array([-0.963]), array([0.704]), array([1.336]), array([1.136]), array([0.219]), array([0.11]), array([-0.825]), array([-0.38]), array([-0.144]), array([0.328]), array([-0.092]), array([0.66]), array([0.282]), array([0.347]), array([-0.062]), array([-1.257]), array([-1.503]), array([-1.807]), array([-1.895]), array([-0.93]), array([-0.365]), array([0.298]), array([0.181]), array([-0.386]), array([-0.838]), array([-0.348]), array([-1.59]), array([-1.035]), array([-0.836]), array([-0.243]), array([-0.476]), array([-0.297]), array([-1.427]), array([-1.701]), array([-2.483]), array([-1.32]), array([-0.422]), array([1.165]), array([1.626]), array([1.406]), array([0.587]), array([0.006]), array([-0.668]), array([-1.762]), array([-1.494]), array([-0.669]), array([-0.094]), array([0.605]), array([2.974]), array([3.223]), array([2.287]), array([2.465]), array([2.123]), array([1.298]), array([1.318]), array([1.917]), array([1.142]), array([0.96]), array([0.705]), array([-0.102]), array([-0.955]), array([-1.454]), array([-2.02]), array([-1.846]), array([-1.534]), array([-0.876]), array([0.069]), array([0.056]), array([-0.062]), array([1.341]), array([-0.059]), array([-0.539]), array([0.416]), array([1.197]), array([0.412]), array([2.012]), array([2.276]), array([1.581]), array([0.797]), array([0.687]), array([0.728]), array([1.663]), array([1.483]), array([1.296]), array([1.609]), array([1.253]), array([0.195]), array([-0.905]), array([-1.311]), array([-1.603]), array([0.924]), array([1.156]), array([1.35]), array([1.826]), array([0.753]), array([0.17]), array([-0.246]), array([-1.156]), array([0.289]), array([-0.141]), array([0.208]), array([1.641]), array([1.345]), array([1.044]), array([1.724]), array([0.475]), array([-0.359]), array([-0.082]), array([-0.617]), array([-0.285]), array([-1.33]), array([-1.564]), array([-2.008]), array([-2.222]), array([-2.965]), array([-1.951]), array([-1.79]), array([-1.52]), array([-1.03]), array([-0.328]), array([-0.593]), array([-0.094]), array([-0.344]), array([-0.535]), array([-0.612]), array([-1.081]), array([-1.154]), array([-1.29]), array([-0.65]), array([-0.97]), array([-0.95]), array([-2.664]), array([-1.835]), array([-1.581]), array([-1.107]), array([-0.31]), array([1.291]), array([1.828]), array([0.879]), array([2.353]), array([1.372]), array([0.88]), array([-0.413]), array([-0.007]), array([-1.717]), array([-3.458]), array([-2.988])]\n"
          ]
        }
      ]
    },
    {
      "cell_type": "code",
      "source": [
        "print(gru_total_pn1)"
      ],
      "metadata": {
        "colab": {
          "base_uri": "https://localhost:8080/"
        },
        "id": "SQChO4xsRniD",
        "outputId": "1dd66c00-17eb-42a1-96a5-a3666f862e24"
      },
      "execution_count": null,
      "outputs": [
        {
          "output_type": "stream",
          "name": "stdout",
          "text": [
            "[111.979]\n"
          ]
        }
      ]
    },
    {
      "cell_type": "code",
      "source": [
        "print(gru_backtest_signal)"
      ],
      "metadata": {
        "colab": {
          "base_uri": "https://localhost:8080/"
        },
        "id": "VGK4VbObRqet",
        "outputId": "9c8c5286-a339-4501-a3ee-7840505faa0e"
      },
      "execution_count": null,
      "outputs": [
        {
          "output_type": "stream",
          "name": "stdout",
          "text": [
            "['Long', 'Short', 'Short', 'Short', 'Short', 'Short', 'Short', 'Short', 'Short', 'Short', 'Short', 'Short', 'Short', 'Short', 'Short', 'Short', 'Short', 'Short', 'Short', 'Short', 'Short', 'Short', 'Short', 'Short', 'Short', 'Short', 'Short', 'Short', 'Short', 'Short', 'Short', 'Short', 'Short', 'Short', 'Short', 'Short', 'Short', 'Short', 'Short', 'Short', 'Short', 'Short', 'Short', 'Short', 'Short', 'Short', 'Short', 'Short', 'Short', 'Short', 'Short', 'Short', 'Short', 'Short', 'Short', 'Short', 'Short', 'Short', 'Short', 'Short', 'Short', 'Short', 'Short', 'Short', 'Short', 'Short', 'Short', 'Short', 'Short', 'Short', 'Short', 'Short', 'Short', 'Short', 'Short', 'Short', 'Short', 'Short', 'Short', 'Short', 'Short', 'Short', 'Short', 'Short', 'Short', 'Short', 'Short', 'Short', 'Short', 'Short', 'Short', 'Short', 'Short', 'Short', 'Short', 'Short', 'Short', 'Short', 'Short', 'Short', 'Short', 'Short', 'Short', 'Short', 'Short', 'Short', 'Short', 'Short', 'Short', 'Short', 'Short', 'Short', 'Short', 'Short', 'Short', 'Short', 'Short', 'Short', 'Short', 'Short', 'Short', 'Short', 'Short', 'Short', 'Short', 'Short', 'Short', 'Short', 'Short', 'Short', 'Short', 'Short', 'Short', 'Short', 'Short', 'Short', 'Short', 'Short', 'Short', 'Short', 'Short', 'Short', 'Short', 'Short', 'Short', 'Short', 'Short', 'Short', 'Short', 'Short', 'Short', 'Short', 'Short', 'Short', 'Short', 'Short', 'Short', 'Short', 'Short', 'Short', 'Short', 'Short', 'Short', 'Short', 'Short', 'Short', 'Short', 'Short', 'Short', 'Short', 'Short', 'Short', 'Short', 'Short', 'Short', 'Short', 'Short', 'Short', 'Short', 'Short', 'Short', 'Short', 'Short', 'Short', 'Short', 'Short', 'Short', 'Short', 'Short', 'Short', 'Short', 'Short', 'Short', 'Short', 'Short', 'Short', 'Short', 'Short', 'Short', 'Short', 'Short', 'Short', 'Short', 'Short', 'Short', 'Short', 'Short', 'Short', 'Short', 'Short', 'Short', 'Short', 'Short', 'Short', 'Short', 'Short', 'Short', 'Short', 'Short', 'Short', 'Short', 'Short', 'Short', 'Short', 'Short', 'Short', 'Short', 'Short', 'Short', 'Short', 'Short', 'Short', 'Short', 'Short', 'Short', 'Short', 'Short', 'Short', 'Short', 'Short', 'Short', 'Short', 'Short', 'Short', 'Short', 'Short', 'Short', 'Short', 'Short', 'Short', 'Short', 'Short', 'Short', 'Short', 'Short', 'Short', 'Short', 'Short', 'Short', 'Short', 'Short', '.', '.', '.', '.', '.', '.', '.', '.', '.', '.', 'Short', 'Short', 'Short', 'Short', 'Short', 'Short', 'Short', 'Short', 'Short', 'Short', 'Short', 'Short', 'Short', 'Short', 'Short', 'Short', 'Short', 'Short', 'Short', 'Short', 'Short', 'Short', 'Short', 'Short', 'Short', 'Short', 'Short', 'Short', 'Short', 'Short', 'Short', 'Short', 'Short', 'Short', 'Short', 'Short', 'Short', 'Short', 'Short', 'Short', 'Short', 'Short', 'Short', 'Short', 'Short', 'Short', 'Short', 'Short', 'Short', 'Short', 'Short', 'Short', 'Short', 'Short', 'Short', 'Short', 'Short', 'Short', 'Short', 'Short', 'Short', 'Short', 'Short', 'Short', 'Short', 'Short', 'Short', 'Short', 'Short', 'Short', 'Short', 'Short', 'Short', 'Short', 'Short', 'Short', 'Short', 'Short', 'Short', 'Short', 'Short', 'Short', 'Short', 'Short', 'Short', 'Short', 'Short', 'Short', 'Short', 'Short', 'Short', 'Short', 'Short', 'Short', 'Short', 'Short', 'Short', 'Short', 'Short', 'Short', 'Short', 'Short', 'Short', 'Short', 'Short', 'Short', 'Short', 'Short', 'Short', 'Short', 'Short', 'Short', 'Short', 'Short', 'Short', 'Short', 'Short', 'Short', 'Short', 'Short', 'Short', 'Short', 'Short', 'Short', 'Short', 'Short', 'Short', 'Short', 'Short', 'Short', 'Short', 'Short', 'Short', 'Short', 'Short', 'Short', 'Short', 'Short', 'Short', 'Short', 'Short', 'Short', 'Short', 'Short', 'Short', 'Short', 'Short', 'Short', 'Short', 'Short', 'Short', 'Short', 'Short', 'Short', 'Short', 'Short', 'Short', 'Short', 'Short', 'Short', 'Short', 'Short', 'Short', 'Short', 'Short', 'Short', 'Short', 'Short', 'Short', 'Short', 'Short', 'Short', 'Short', 'Short', 'Short', 'Short', 'Short', 'Short', 'Short', 'Short', 'Short', 'Short', 'Short', 'Short', 'Short', 'Short', 'Short', 'Short', 'Short', 'Short', 'Short', 'Short', 'Short', 'Short', 'Short', 'Short', 'Short', 'Short', 'Short', 'Short', 'Short', 'Short', 'Short', 'Short', 'Short', 'Short', 'Short', 'Short', 'Short', 'Short', 'Short', 'Short', 'Short', 'Short', 'Short', 'Short', 'Short', 'Short', 'Short', 'Short', 'Short', 'Short', 'Short', 'Short', 'Short', 'Short', 'Short', 'Short', 'Short', 'Short', 'Short', 'Short', 'Short', 'Short', 'Short', 'Short', 'Short', 'Short', 'Short', 'Short', 'Short', 'Short', 'Short', 'Short', 'Short', 'Short', 'Short', 'Short', 'Short', 'Short', 'Short', 'Short', 'Short', 'Short', 'Short', 'Short', 'Short', 'Short', 'Short', 'Short', 'Short', 'Short', 'Short', 'Short', 'Short', 'Short', 'Short', 'Short', 'Short', 'Short', 'Short', 'Short', 'Short', 'Short', 'Short', 'Short', 'Short', 'Short', 'Short', 'Short', 'Short', 'Short', 'Short', 'Short', 'Short', 'Short', 'Short', 'Short', 'Short', 'Short', 'Short', 'Short', 'Short', 'Short', 'Short', 'Short', 'Short', 'Short', 'Short', 'Short', 'Short', 'Short', 'Short', 'Short', 'Short', 'Short', 'Short', 'Short', 'Short', 'Short', 'Short', 'Short', 'Short', 'Short', 'Short', 'Short', 'Short', 'Short', 'Short', 'Short', 'Short', 'Short', 'Short', 'Short', 'Short', 'Short', 'Short', 'Short', 'Short', 'Short', 'Short', 'Short', 'Short', 'Short', 'Short', 'Short', 'Short', 'Short', 'Short', 'Short', 'Short', 'Short', 'Short', 'Short', 'Short', 'Short', 'Short', 'Short', 'Short', 'Short', 'Short', 'Short', 'Short', 'Short', 'Short', 'Short', 'Short', 'Short', 'Short', 'Short', 'Short', 'Short', 'Short', 'Short', 'Short', 'Short', 'Short', 'Short', 'Short', 'Short', 'Short', 'Short', 'Short', 'Short', 'Short', 'Short', 'Short', 'Short', 'Short', 'Short', 'Short', 'Short', 'Short', 'Short', 'Short', 'Short', 'Short', 'Short', 'Short', 'Short', 'Short', 'Short', 'Short', 'Short', 'Short', 'Short', 'Short', 'Short', 'Short', 'Short', 'Short', 'Short', 'Short', 'Short', 'Short', 'Short', 'Short', 'Short', 'Short', 'Short', 'Short', 'Short', 'Short', 'Short', 'Short', 'Short', 'Short', 'Short', 'Short', 'Short', 'Short', 'Short', 'Short', 'Short', 'Short', 'Short', 'Short', 'Short', 'Short', 'Short', 'Short', 'Short', 'Short', 'Short', 'Short', 'Short', 'Short', 'Short', 'Short', 'Short', 'Short', 'Short', 'Short', 'Short', 'Short', 'Short', 'Short', 'Short', 'Short', 'Short', 'Short', 'Short', 'Short', 'Short', 'Short', 'Short', 'Short', 'Short', 'Short', 'Short', 'Short', 'Short', 'Short', 'Short', 'Short', 'Short', 'Short', 'Short', 'Short', 'Short', 'Short', 'Short', 'Short', 'Short', 'Short', 'Short', 'Short', 'Short', 'Short', 'Short', 'Short', 'Short', 'Short', 'Short', 'Short', 'Short', 'Short', 'Short', 'Short', 'Short', 'Short', 'Short', 'Short', 'Short', 'Short', 'Short', 'Short', 'Short', 'Short', 'Short', 'Short', 'Short', 'Short', 'Short', 'Short', 'Short', 'Short', 'Short', 'Short', 'Short', 'Short', 'Short', 'Short', 'Short', 'Short', 'Short', 'Short', 'Short', 'Short', 'Short', 'Short', 'Short', 'Short', 'Short', 'Short', 'Short', 'Short', 'Short', 'Short', 'Short', 'Short', 'Short', 'Short', 'Short', 'Short', 'Short', 'Short', 'Short', 'Short', 'Short', 'Short', 'Short', 'Short', 'Short', 'Short', 'Short', 'Short', 'Short', 'Short', 'Short', 'Short', 'Short', 'Short', 'Short', 'Short', 'Short', 'Short', 'Short', 'Short', 'Short', 'Short', 'Short', 'Short', 'Short', 'Short', 'Short', 'Short', 'Short', 'Short', 'Short', 'Short', 'Short', 'Short', 'Short', 'Short', 'Short', 'Short', 'Short', 'Short', 'Short', 'Short', 'Short', 'Short', 'Short', 'Short', 'Short', 'Short', 'Short', 'Short', 'Short', 'Short', 'Short', 'Short', 'Short', 'Short', 'Short', 'Short', 'Short', 'Short', 'Short', 'Short', 'Short', 'Short', 'Short', 'Short', 'Short', 'Short', 'Short', 'Short', 'Short', 'Short', 'Short', 'Short', 'Short', 'Short', 'Short', 'Short', 'Short', 'Short', 'Short', 'Short', 'Short', 'Short', 'Short', 'Short', 'Short', 'Short', 'Short', 'Short', 'Short', 'Short', 'Short', 'Short', 'Short', 'Short', 'Short', 'Short', 'Short', 'Short', 'Short', 'Short', 'Short', 'Short', 'Short', 'Short', 'Short', 'Short', 'Short', 'Short', 'Short', 'Short', 'Short', 'Short', 'Short', 'Short', 'Short', 'Short', 'Short', 'Short', 'Short', 'Short', 'Short', 'Short', 'Short', 'Short', 'Short', 'Short', 'Short', 'Short', 'Short', 'Short', 'Short', 'Short', 'Short', 'Short', 'Short', 'Short', 'Short', 'Short', 'Short', 'Short', 'Short', 'Short', 'Short', 'Short', 'Short', 'Short', 'Short', 'Short', 'Short', 'Short', 'Short', 'Short', 'Short', 'Short', 'Short', '.', 'Short', 'Short', 'Short', '.', '.', '.', '.', 'Long', 'Long', 'Long', 'Long', 'Long', 'Long', 'Long', 'Long', 'Long', 'Long', 'Long', 'Long', 'Long', 'Long', '.', '.', 'Long', '.', '.', '.', '.', '.', 'Long', '.', 'Long', 'Long', 'Long', 'Long', '.', 'Long', '.', '.', '.', '.', '.', '.', '.', 'Short', 'Short', 'Short', '.', '.', '.', '.', '.', '.', '.', '.', '.', '.', '.', 'Short', 'Short', 'Short', 'Short', 'Short', 'Short', 'Short', 'Short', 'Short', 'Short', 'Short', 'Short', 'Short', 'Short', 'Short', 'Short', 'Short', 'Short', 'Short', 'Short', 'Short', 'Short', 'Short', 'Short', 'Short', 'Short', 'Short', 'Short', 'Short', 'Short', 'Short', 'Short', 'Short', 'Short', 'Short', 'Short', 'Short', 'Short', 'Short', 'Short', 'Short', 'Short', 'Short', 'Short', 'Short', 'Short', '.', '.', '.', '.', '.', 'Short', 'Short', 'Short', 'Short', 'Short', 'Short', 'Short', 'Short', 'Short', 'Short', 'Short', 'Short', 'Short', 'Short', 'Short', 'Short', 'Short', 'Short', 'Short', 'Short', 'Short', 'Short', 'Short', 'Short', 'Short', 'Short', 'Short', 'Short', 'Short', 'Short', 'Short', 'Short', 'Short', 'Short', 'Short', 'Short', 'Short', 'Short', 'Short', 'Short', 'Short', 'Short', 'Short', 'Short', 'Short', 'Short', 'Short', 'Short', 'Short', 'Short', 'Short', 'Short', 'Short', 'Short', 'Short', 'Short', 'Short', 'Short', 'Short', 'Short', 'Short', 'Short', 'Short', 'Short', 'Short', 'Short', 'Short', 'Short', 'Short', 'Short', 'Short', 'Short', 'Short', 'Short', 'Short', 'Short', 'Short', 'Short', 'Short', 'Short', 'Short', 'Short', 'Short', 'Short', 'Short', 'Short', 'Short', 'Short', 'Short', 'Short', 'Short', 'Short', 'Short', 'Short', 'Short', 'Short', 'Short', 'Short', 'Short', 'Short', 'Short', 'Short', 'Short', 'Short', 'Short', 'Short', 'Short', 'Short', 'Short', 'Short', 'Short', 'Short', 'Short', 'Short', 'Short', 'Short', 'Short', 'Short', 'Short', 'Short', 'Short', 'Short', 'Short', 'Short', 'Short', 'Short', 'Short', 'Short', 'Short', 'Short', 'Short', 'Short', 'Short', 'Short', 'Short', 'Short', 'Short', 'Short', 'Short', 'Short', 'Short', 'Short', 'Short', 'Short', 'Short', 'Short', 'Short', 'Short', 'Short', 'Short', 'Short', 'Short', 'Short', 'Short', 'Short', 'Short', 'Short', 'Short', 'Short', 'Short', 'Short', 'Short', 'Short', 'Short', 'Short', 'Short', 'Short', 'Short', 'Short', 'Short', 'Short', 'Short', 'Short', 'Short', 'Short', 'Short', 'Short', 'Short', 'Short', 'Short', 'Short', 'Short', 'Short', 'Short', 'Short', 'Short', 'Short', 'Short', 'Short', 'Short', 'Short', 'Short', 'Short', 'Short', 'Short', 'Short', 'Short', 'Short', 'Short', 'Short', 'Short', 'Short', 'Short', 'Short', 'Short', 'Short', 'Short', 'Short', 'Short', 'Short', 'Short', 'Short', 'Short', 'Short', 'Short', 'Short', 'Short', 'Short', 'Short', 'Short', 'Short', 'Short', 'Short', 'Short', 'Short', 'Short', 'Short', 'Short', 'Short', 'Short', 'Short', 'Short', 'Short', 'Short', 'Short', 'Short', 'Short', 'Short', 'Short', 'Short', 'Short', 'Short', 'Short', 'Short', 'Short', 'Short', 'Short', 'Short', 'Short', 'Short', 'Short', 'Short', 'Short', 'Short', 'Short', 'Short', 'Short', 'Short', 'Short', 'Short', 'Short', 'Short', 'Short', 'Short', 'Short', 'Short', 'Short', 'Short', 'Short', 'Short', 'Short', 'Short', 'Short', 'Short', 'Short', 'Short', 'Short', 'Short', 'Short', 'Short', 'Short', 'Short', 'Short', 'Short', 'Short', 'Short', 'Short', 'Short', 'Short', 'Short', 'Short', 'Short', 'Short', 'Short', 'Short', 'Short', 'Short', 'Short', 'Short', 'Short', 'Short', 'Short', 'Short', 'Short', 'Short', 'Short', 'Short', 'Short', 'Short', 'Short', 'Short', 'Short', 'Short', 'Short', 'Short', 'Short', 'Short', 'Short', 'Short', 'Short', 'Short', 'Short', 'Short', 'Short', 'Short', 'Short', 'Short', 'Short', 'Short', 'Short', 'Short', 'Short', 'Short', 'Short', 'Short', 'Short', 'Short', 'Short', 'Short', 'Short', 'Short', 'Short', 'Short', 'Short', 'Short', 'Short', 'Short', 'Short', 'Short', 'Short', 'Short', 'Short', 'Short', 'Short', 'Short', 'Short', 'Short', 'Short', 'Short', 'Short', 'Short', 'Short', 'Short', 'Short', 'Short', 'Short', 'Short', 'Short', 'Short', 'Short', 'Short', 'Short', 'Short', 'Short', 'Short', 'Short', 'Short', 'Short', 'Short', 'Short', 'Short', 'Short', 'Short', 'Short', 'Short', 'Short', 'Short', 'Short', 'Short', 'Short', 'Short', 'Short', 'Short', 'Short', 'Short', 'Short', 'Short', 'Short', 'Short', 'Short', 'Short', 'Short', 'Short', 'Short', 'Short', 'Short', 'Short', 'Short', 'Short', 'Short', 'Short', 'Short', 'Short', 'Short', 'Short', 'Short', 'Short', 'Short', 'Short', 'Short', 'Short', 'Short', 'Short', 'Short', 'Short', 'Short', 'Short', 'Short', 'Short', 'Short', 'Short', 'Short', 'Short', 'Short', 'Short', 'Short', 'Short', 'Short', 'Short', 'Short', 'Short', 'Short', 'Short', 'Short', 'Short', 'Short', 'Short', 'Short', 'Short', 'Short', 'Short', 'Short', 'Short', 'Short', 'Short', 'Short', 'Short', 'Short', 'Short', 'Short', 'Short', 'Short', 'Short', 'Short', 'Short', 'Short', 'Short', 'Short', 'Short', 'Short', 'Short', 'Short', 'Short', 'Short', 'Short', 'Short', 'Short', 'Short', 'Short', 'Short', 'Short', 'Short', 'Short', 'Short', 'Short', 'Short', 'Short', 'Short', 'Short', 'Short', 'Short', 'Short', 'Short', 'Short', 'Short', 'Short', 'Short', 'Short', 'Short', 'Short', 'Short', 'Short', 'Short', 'Short', 'Short', 'Short', 'Short', 'Short', 'Short', 'Short', 'Short', 'Short', 'Short', 'Short', 'Short', 'Short', 'Short', 'Short', 'Short', 'Short', 'Short', 'Short', 'Short', 'Short', 'Short', 'Short', 'Short', 'Short', 'Short', 'Short', 'Short', 'Short', 'Short', 'Short', 'Short', 'Short', 'Short', 'Short', 'Short', 'Short', 'Short', 'Short', 'Short', 'Short', 'Short', 'Short', 'Short', 'Short', 'Short', 'Short', 'Short', 'Short', 'Short', 'Short', 'Short', 'Short', 'Short', 'Short', 'Short', 'Short', 'Short', 'Short', 'Short', 'Short', 'Short', 'Short', 'Short', 'Short', 'Short', 'Short', 'Short', 'Short', 'Short', 'Short', 'Short', 'Short', 'Short', 'Short', 'Short', 'Short', 'Short', 'Short', 'Short', 'Short', 'Short', 'Short', 'Short', 'Short', 'Short', 'Short', 'Short', 'Short', 'Short', 'Short', 'Short', 'Short', 'Short', 'Short', 'Short', 'Short', 'Short', 'Short', 'Short', 'Short', 'Short', 'Short', 'Short', 'Short', 'Short', 'Short', 'Short', 'Short', 'Short', 'Short', 'Short', 'Short', 'Short', 'Short', 'Short', 'Short', 'Short', 'Short', 'Short', 'Short', 'Short', 'Short', 'Short', 'Short', 'Short', 'Short', 'Short', 'Short', 'Short', 'Short', 'Short', 'Short', 'Short', 'Short', 'Short', 'Short', 'Short', 'Short', 'Short', 'Short', 'Short', 'Short', 'Short', 'Short', 'Short', 'Short', 'Short', 'Short', 'Short', 'Short', 'Short', 'Short', 'Short', 'Short', 'Short', 'Short', 'Short', 'Short', 'Short', 'Short', 'Short', 'Short', 'Short', 'Short', 'Short', 'Short', 'Short', 'Short', 'Short', 'Short', 'Short', 'Short', 'Short', 'Short', 'Short', 'Short', 'Short', 'Short', 'Short', 'Short', 'Short', 'Short', '.', 'Short', 'Short', 'Short', 'Short', 'Short', 'Short', 'Short', 'Short', 'Short', 'Short', 'Short', 'Short', 'Short', 'Short', 'Short', 'Short', '.', '.', 'Short', 'Short', '.', '.', '.', '.', '.', '.', '.', 'Long', 'Long', 'Long', 'Long', 'Long', '.', '.', '.', '.', '.', '.', '.', '.', '.', '.', '.', 'Short', 'Short', 'Short', 'Short', 'Short', 'Short', '.', '.', '.', 'Short', 'Short', 'Short', 'Short', '.', 'Short', '.', '.', 'Short', 'Short', 'Short', 'Short', 'Short', 'Short', 'Short', 'Short', 'Short', 'Short', 'Short', 'Short', '.', 'Short', '.', '.', '.', '.', 'Long', '.', '.', '.', '.', 'Long', '.', '.', '.', '.', '.', 'Long', 'Long', 'Long', '.', '.', '.', 'Long', 'Long', 'Long', 'Long', 'Long', 'Long', 'Long', 'Long', 'Long', 'Long', 'Long', 'Long', 'Long', 'Long', 'Long', 'Long', 'Long', 'Long', 'Long', 'Long', 'Long', 'Long', 'Long', 'Long', 'Long', 'Long', 'Long', 'Long', 'Long', 'Long', 'Long', 'Long', 'Long', 'Long', 'Long', 'Long', 'Long', 'Long', 'Long', 'Long', 'Long', 'Long', 'Long', 'Long', 'Long', 'Long', 'Long', 'Long', 'Long', 'Long', 'Long', 'Long', 'Long', 'Long', 'Long', 'Long', 'Long', 'Long', 'Long', 'Long', 'Long', 'Long', 'Long', 'Long', 'Long', 'Long', 'Long', 'Long', 'Long', 'Long', 'Long', 'Long', 'Long', 'Long', 'Long', 'Long', 'Long', 'Long', 'Long', 'Long', 'Long', 'Long', 'Long', 'Long', 'Long', 'Long', 'Long', 'Long', 'Long', 'Long', 'Long', 'Long', 'Long', '.', '.', 'Long', '.', '.', '.', '.', 'Long', 'Long', '.', 'Long', 'Long', 'Long', 'Long', 'Long', 'Long', 'Long', '.', 'Long', '.', '.', '.', '.', 'Long', 'Long', 'Long', 'Long', 'Long', 'Long', 'Long', 'Long', 'Long', '.', '.', '.', '.', 'Long', 'Long', 'Long', 'Long', 'Long', 'Long', 'Long', 'Long', 'Long', 'Long', 'Long', 'Long', 'Long', 'Long', 'Long', 'Long', 'Long', 'Long', 'Long', 'Long', 'Long', 'Long', 'Long', 'Long', 'Long', 'Long', 'Long', 'Long', 'Long', 'Long', 'Long', 'Long', 'Long', 'Long', 'Long', 'Long', 'Long', 'Long', 'Long', 'Long']\n"
          ]
        }
      ]
    },
    {
      "cell_type": "code",
      "source": [
        "gru_evaluation = PerformanceEvalutions(gru_pn1,gru_portfolio_history)"
      ],
      "metadata": {
        "id": "cg_eBYpcRy-v"
      },
      "execution_count": null,
      "outputs": []
    },
    {
      "cell_type": "code",
      "source": [
        "gru_sharpe_ratio = gru_evaluation.calc_sharpe_ratio()\n",
        "print(gru_sharpe_ratio)"
      ],
      "metadata": {
        "colab": {
          "base_uri": "https://localhost:8080/"
        },
        "id": "38B0mEKkSEc6",
        "outputId": "7f0b64fc-0828-4e29-fb04-1c3bfdc0052b"
      },
      "execution_count": null,
      "outputs": [
        {
          "output_type": "stream",
          "name": "stdout",
          "text": [
            "0.05853932821966538\n"
          ]
        }
      ]
    },
    {
      "cell_type": "code",
      "source": [
        "gru_max_drawdown, gru_drawdown_list = gru_evaluation.max_drawdown()\n",
        "print(gru_max_drawdown)"
      ],
      "metadata": {
        "colab": {
          "base_uri": "https://localhost:8080/"
        },
        "id": "DOahvYU_SJur",
        "outputId": "3e074003-6663-4ad5-982f-206bc2ce7dcb"
      },
      "execution_count": null,
      "outputs": [
        {
          "output_type": "stream",
          "name": "stdout",
          "text": [
            "-0.07147158973254471\n"
          ]
        }
      ]
    },
    {
      "cell_type": "code",
      "source": [
        "gru_cumulative_returns = gru_evaluation.cummulative_returns()\n",
        "print(gru_cumulative_returns)"
      ],
      "metadata": {
        "colab": {
          "base_uri": "https://localhost:8080/"
        },
        "id": "huB7rwgLSUOM",
        "outputId": "857e166c-c8fb-40ac-c8ca-241ee1da9056"
      },
      "execution_count": null,
      "outputs": [
        {
          "output_type": "stream",
          "name": "stdout",
          "text": [
            "1.7391041133949292\n"
          ]
        }
      ]
    },
    {
      "cell_type": "code",
      "source": [
        "# Create an SVM model\n",
        "model_svm = SVC()\n",
        "model_svm.fit(X_train[:][][], Y_train)"
      ],
      "metadata": {
        "colab": {
          "base_uri": "https://localhost:8080/",
          "height": 339
        },
        "id": "H4GYlWssSbED",
        "outputId": "99d42cc0-36bc-4698-d75f-c173dcf800b1"
      },
      "execution_count": null,
      "outputs": [
        {
          "output_type": "error",
          "ename": "ValueError",
          "evalue": "Found array with dim 3. SVC expected <= 2.",
          "traceback": [
            "\u001b[0;31m---------------------------------------------------------------------------\u001b[0m",
            "\u001b[0;31mValueError\u001b[0m                                Traceback (most recent call last)",
            "\u001b[0;32m<ipython-input-76-5430f4ac76c1>\u001b[0m in \u001b[0;36m<cell line: 3>\u001b[0;34m()\u001b[0m\n\u001b[1;32m      1\u001b[0m \u001b[0;31m# Create an SVM model\u001b[0m\u001b[0;34m\u001b[0m\u001b[0;34m\u001b[0m\u001b[0m\n\u001b[1;32m      2\u001b[0m \u001b[0mmodel_svm\u001b[0m \u001b[0;34m=\u001b[0m \u001b[0mSVC\u001b[0m\u001b[0;34m(\u001b[0m\u001b[0;34m)\u001b[0m\u001b[0;34m\u001b[0m\u001b[0;34m\u001b[0m\u001b[0m\n\u001b[0;32m----> 3\u001b[0;31m \u001b[0mmodel_svm\u001b[0m\u001b[0;34m.\u001b[0m\u001b[0mfit\u001b[0m\u001b[0;34m(\u001b[0m\u001b[0mX_train\u001b[0m\u001b[0;34m,\u001b[0m \u001b[0mY_train\u001b[0m\u001b[0;34m)\u001b[0m\u001b[0;34m\u001b[0m\u001b[0;34m\u001b[0m\u001b[0m\n\u001b[0m",
            "\u001b[0;32m/usr/local/lib/python3.10/dist-packages/sklearn/base.py\u001b[0m in \u001b[0;36mwrapper\u001b[0;34m(estimator, *args, **kwargs)\u001b[0m\n\u001b[1;32m   1471\u001b[0m                 )\n\u001b[1;32m   1472\u001b[0m             ):\n\u001b[0;32m-> 1473\u001b[0;31m                 \u001b[0;32mreturn\u001b[0m \u001b[0mfit_method\u001b[0m\u001b[0;34m(\u001b[0m\u001b[0mestimator\u001b[0m\u001b[0;34m,\u001b[0m \u001b[0;34m*\u001b[0m\u001b[0margs\u001b[0m\u001b[0;34m,\u001b[0m \u001b[0;34m**\u001b[0m\u001b[0mkwargs\u001b[0m\u001b[0;34m)\u001b[0m\u001b[0;34m\u001b[0m\u001b[0;34m\u001b[0m\u001b[0m\n\u001b[0m\u001b[1;32m   1474\u001b[0m \u001b[0;34m\u001b[0m\u001b[0m\n\u001b[1;32m   1475\u001b[0m         \u001b[0;32mreturn\u001b[0m \u001b[0mwrapper\u001b[0m\u001b[0;34m\u001b[0m\u001b[0;34m\u001b[0m\u001b[0m\n",
            "\u001b[0;32m/usr/local/lib/python3.10/dist-packages/sklearn/svm/_base.py\u001b[0m in \u001b[0;36mfit\u001b[0;34m(self, X, y, sample_weight)\u001b[0m\n\u001b[1;32m    188\u001b[0m             \u001b[0mcheck_consistent_length\u001b[0m\u001b[0;34m(\u001b[0m\u001b[0mX\u001b[0m\u001b[0;34m,\u001b[0m \u001b[0my\u001b[0m\u001b[0;34m)\u001b[0m\u001b[0;34m\u001b[0m\u001b[0;34m\u001b[0m\u001b[0m\n\u001b[1;32m    189\u001b[0m         \u001b[0;32melse\u001b[0m\u001b[0;34m:\u001b[0m\u001b[0;34m\u001b[0m\u001b[0;34m\u001b[0m\u001b[0m\n\u001b[0;32m--> 190\u001b[0;31m             X, y = self._validate_data(\n\u001b[0m\u001b[1;32m    191\u001b[0m                 \u001b[0mX\u001b[0m\u001b[0;34m,\u001b[0m\u001b[0;34m\u001b[0m\u001b[0;34m\u001b[0m\u001b[0m\n\u001b[1;32m    192\u001b[0m                 \u001b[0my\u001b[0m\u001b[0;34m,\u001b[0m\u001b[0;34m\u001b[0m\u001b[0;34m\u001b[0m\u001b[0m\n",
            "\u001b[0;32m/usr/local/lib/python3.10/dist-packages/sklearn/base.py\u001b[0m in \u001b[0;36m_validate_data\u001b[0;34m(self, X, y, reset, validate_separately, cast_to_ndarray, **check_params)\u001b[0m\n\u001b[1;32m    648\u001b[0m                 \u001b[0my\u001b[0m \u001b[0;34m=\u001b[0m \u001b[0mcheck_array\u001b[0m\u001b[0;34m(\u001b[0m\u001b[0my\u001b[0m\u001b[0;34m,\u001b[0m \u001b[0minput_name\u001b[0m\u001b[0;34m=\u001b[0m\u001b[0;34m\"y\"\u001b[0m\u001b[0;34m,\u001b[0m \u001b[0;34m**\u001b[0m\u001b[0mcheck_y_params\u001b[0m\u001b[0;34m)\u001b[0m\u001b[0;34m\u001b[0m\u001b[0;34m\u001b[0m\u001b[0m\n\u001b[1;32m    649\u001b[0m             \u001b[0;32melse\u001b[0m\u001b[0;34m:\u001b[0m\u001b[0;34m\u001b[0m\u001b[0;34m\u001b[0m\u001b[0m\n\u001b[0;32m--> 650\u001b[0;31m                 \u001b[0mX\u001b[0m\u001b[0;34m,\u001b[0m \u001b[0my\u001b[0m \u001b[0;34m=\u001b[0m \u001b[0mcheck_X_y\u001b[0m\u001b[0;34m(\u001b[0m\u001b[0mX\u001b[0m\u001b[0;34m,\u001b[0m \u001b[0my\u001b[0m\u001b[0;34m,\u001b[0m \u001b[0;34m**\u001b[0m\u001b[0mcheck_params\u001b[0m\u001b[0;34m)\u001b[0m\u001b[0;34m\u001b[0m\u001b[0;34m\u001b[0m\u001b[0m\n\u001b[0m\u001b[1;32m    651\u001b[0m             \u001b[0mout\u001b[0m \u001b[0;34m=\u001b[0m \u001b[0mX\u001b[0m\u001b[0;34m,\u001b[0m \u001b[0my\u001b[0m\u001b[0;34m\u001b[0m\u001b[0;34m\u001b[0m\u001b[0m\n\u001b[1;32m    652\u001b[0m \u001b[0;34m\u001b[0m\u001b[0m\n",
            "\u001b[0;32m/usr/local/lib/python3.10/dist-packages/sklearn/utils/validation.py\u001b[0m in \u001b[0;36mcheck_X_y\u001b[0;34m(X, y, accept_sparse, accept_large_sparse, dtype, order, copy, force_writeable, force_all_finite, ensure_2d, allow_nd, multi_output, ensure_min_samples, ensure_min_features, y_numeric, estimator)\u001b[0m\n\u001b[1;32m   1299\u001b[0m         )\n\u001b[1;32m   1300\u001b[0m \u001b[0;34m\u001b[0m\u001b[0m\n\u001b[0;32m-> 1301\u001b[0;31m     X = check_array(\n\u001b[0m\u001b[1;32m   1302\u001b[0m         \u001b[0mX\u001b[0m\u001b[0;34m,\u001b[0m\u001b[0;34m\u001b[0m\u001b[0;34m\u001b[0m\u001b[0m\n\u001b[1;32m   1303\u001b[0m         \u001b[0maccept_sparse\u001b[0m\u001b[0;34m=\u001b[0m\u001b[0maccept_sparse\u001b[0m\u001b[0;34m,\u001b[0m\u001b[0;34m\u001b[0m\u001b[0;34m\u001b[0m\u001b[0m\n",
            "\u001b[0;32m/usr/local/lib/python3.10/dist-packages/sklearn/utils/validation.py\u001b[0m in \u001b[0;36mcheck_array\u001b[0;34m(array, accept_sparse, accept_large_sparse, dtype, order, copy, force_writeable, force_all_finite, ensure_2d, allow_nd, ensure_min_samples, ensure_min_features, estimator, input_name)\u001b[0m\n\u001b[1;32m   1056\u001b[0m             )\n\u001b[1;32m   1057\u001b[0m         \u001b[0;32mif\u001b[0m \u001b[0;32mnot\u001b[0m \u001b[0mallow_nd\u001b[0m \u001b[0;32mand\u001b[0m \u001b[0marray\u001b[0m\u001b[0;34m.\u001b[0m\u001b[0mndim\u001b[0m \u001b[0;34m>=\u001b[0m \u001b[0;36m3\u001b[0m\u001b[0;34m:\u001b[0m\u001b[0;34m\u001b[0m\u001b[0;34m\u001b[0m\u001b[0m\n\u001b[0;32m-> 1058\u001b[0;31m             raise ValueError(\n\u001b[0m\u001b[1;32m   1059\u001b[0m                 \u001b[0;34m\"Found array with dim %d. %s expected <= 2.\"\u001b[0m\u001b[0;34m\u001b[0m\u001b[0;34m\u001b[0m\u001b[0m\n\u001b[1;32m   1060\u001b[0m                 \u001b[0;34m%\u001b[0m \u001b[0;34m(\u001b[0m\u001b[0marray\u001b[0m\u001b[0;34m.\u001b[0m\u001b[0mndim\u001b[0m\u001b[0;34m,\u001b[0m \u001b[0mestimator_name\u001b[0m\u001b[0;34m)\u001b[0m\u001b[0;34m\u001b[0m\u001b[0;34m\u001b[0m\u001b[0m\n",
            "\u001b[0;31mValueError\u001b[0m: Found array with dim 3. SVC expected <= 2."
          ]
        }
      ]
    },
    {
      "cell_type": "code",
      "source": [],
      "metadata": {
        "id": "Pm4TW5MlSift"
      },
      "execution_count": null,
      "outputs": []
    }
  ]
}